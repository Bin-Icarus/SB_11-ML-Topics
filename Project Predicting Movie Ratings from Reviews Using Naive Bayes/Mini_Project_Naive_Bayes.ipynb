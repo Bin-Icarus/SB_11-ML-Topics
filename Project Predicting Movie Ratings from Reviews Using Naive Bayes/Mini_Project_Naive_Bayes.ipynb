{
 "cells": [
  {
   "cell_type": "markdown",
   "metadata": {},
   "source": [
    "# Basic Text Classification with Naive Bayes\n",
    "***\n",
    "In the mini-project, you'll learn the basics of text analysis using a subset of movie reviews from the rotten tomatoes database. You'll also use a fundamental technique in Bayesian inference, called Naive Bayes. This mini-project is based on [Lab 10 of Harvard's CS109](https://github.com/cs109/2015lab10) class.  Please free to go to the original lab for additional exercises and solutions."
   ]
  },
  {
   "cell_type": "code",
   "execution_count": 11,
   "metadata": {
    "collapsed": true
   },
   "outputs": [],
   "source": [
    "%matplotlib inline\n",
    "import numpy as np\n",
    "import scipy as sp\n",
    "import matplotlib as mpl\n",
    "import matplotlib.cm as cm\n",
    "import matplotlib.pyplot as plt\n",
    "import pandas as pd\n",
    "import seaborn as sns\n",
    "from six.moves import range\n",
    "import math\n",
    "\n",
    "# Setup Pandas\n",
    "pd.set_option('display.width', 500)\n",
    "pd.set_option('display.max_columns', 100)\n",
    "pd.set_option('display.notebook_repr_html', True)\n",
    "\n",
    "# Setup Seaborn\n",
    "sns.set_style(\"whitegrid\")\n",
    "sns.set_context(\"poster\")"
   ]
  },
  {
   "cell_type": "markdown",
   "metadata": {},
   "source": [
    "# Table of Contents\n",
    "\n",
    "* [Rotten Tomatoes Dataset](#Rotten-Tomatoes-Dataset)\n",
    "    * [Explore](#Explore)\n",
    "* [The Vector Space Model and a Search Engine](#The-Vector-Space-Model-and-a-Search-Engine)\n",
    "    * [In Code](#In-Code)\n",
    "* [Naive Bayes](#Naive-Bayes)\n",
    "    * [Multinomial Naive Bayes and Other Likelihood Functions](#Multinomial-Naive-Bayes-and-Other-Likelihood-Functions)\n",
    "    * [Picking Hyperparameters for Naive Bayes and Text Maintenance](#Picking-Hyperparameters-for-Naive-Bayes-and-Text-Maintenance)\n",
    "* [Interpretation](#Interpretation)\n"
   ]
  },
  {
   "cell_type": "markdown",
   "metadata": {},
   "source": [
    "## Rotten Tomatoes Dataset"
   ]
  },
  {
   "cell_type": "code",
   "execution_count": 12,
   "metadata": {},
   "outputs": [
    {
     "data": {
      "text/html": [
       "<div>\n",
       "<style>\n",
       "    .dataframe thead tr:only-child th {\n",
       "        text-align: right;\n",
       "    }\n",
       "\n",
       "    .dataframe thead th {\n",
       "        text-align: left;\n",
       "    }\n",
       "\n",
       "    .dataframe tbody tr th {\n",
       "        vertical-align: top;\n",
       "    }\n",
       "</style>\n",
       "<table border=\"1\" class=\"dataframe\">\n",
       "  <thead>\n",
       "    <tr style=\"text-align: right;\">\n",
       "      <th></th>\n",
       "      <th>critic</th>\n",
       "      <th>fresh</th>\n",
       "      <th>imdb</th>\n",
       "      <th>publication</th>\n",
       "      <th>quote</th>\n",
       "      <th>review_date</th>\n",
       "      <th>rtid</th>\n",
       "      <th>title</th>\n",
       "    </tr>\n",
       "  </thead>\n",
       "  <tbody>\n",
       "    <tr>\n",
       "      <th>1</th>\n",
       "      <td>Derek Adams</td>\n",
       "      <td>fresh</td>\n",
       "      <td>114709</td>\n",
       "      <td>Time Out</td>\n",
       "      <td>So ingenious in concept, design and execution ...</td>\n",
       "      <td>2009-10-04</td>\n",
       "      <td>9559</td>\n",
       "      <td>Toy story</td>\n",
       "    </tr>\n",
       "    <tr>\n",
       "      <th>2</th>\n",
       "      <td>Richard Corliss</td>\n",
       "      <td>fresh</td>\n",
       "      <td>114709</td>\n",
       "      <td>TIME Magazine</td>\n",
       "      <td>The year's most inventive comedy.</td>\n",
       "      <td>2008-08-31</td>\n",
       "      <td>9559</td>\n",
       "      <td>Toy story</td>\n",
       "    </tr>\n",
       "    <tr>\n",
       "      <th>3</th>\n",
       "      <td>David Ansen</td>\n",
       "      <td>fresh</td>\n",
       "      <td>114709</td>\n",
       "      <td>Newsweek</td>\n",
       "      <td>A winning animated feature that has something ...</td>\n",
       "      <td>2008-08-18</td>\n",
       "      <td>9559</td>\n",
       "      <td>Toy story</td>\n",
       "    </tr>\n",
       "    <tr>\n",
       "      <th>4</th>\n",
       "      <td>Leonard Klady</td>\n",
       "      <td>fresh</td>\n",
       "      <td>114709</td>\n",
       "      <td>Variety</td>\n",
       "      <td>The film sports a provocative and appealing st...</td>\n",
       "      <td>2008-06-09</td>\n",
       "      <td>9559</td>\n",
       "      <td>Toy story</td>\n",
       "    </tr>\n",
       "    <tr>\n",
       "      <th>5</th>\n",
       "      <td>Jonathan Rosenbaum</td>\n",
       "      <td>fresh</td>\n",
       "      <td>114709</td>\n",
       "      <td>Chicago Reader</td>\n",
       "      <td>An entertaining computer-generated, hyperreali...</td>\n",
       "      <td>2008-03-10</td>\n",
       "      <td>9559</td>\n",
       "      <td>Toy story</td>\n",
       "    </tr>\n",
       "  </tbody>\n",
       "</table>\n",
       "</div>"
      ],
      "text/plain": [
       "               critic  fresh    imdb     publication                                              quote review_date  rtid      title\n",
       "1         Derek Adams  fresh  114709        Time Out  So ingenious in concept, design and execution ...  2009-10-04  9559  Toy story\n",
       "2     Richard Corliss  fresh  114709   TIME Magazine                  The year's most inventive comedy.  2008-08-31  9559  Toy story\n",
       "3         David Ansen  fresh  114709        Newsweek  A winning animated feature that has something ...  2008-08-18  9559  Toy story\n",
       "4       Leonard Klady  fresh  114709         Variety  The film sports a provocative and appealing st...  2008-06-09  9559  Toy story\n",
       "5  Jonathan Rosenbaum  fresh  114709  Chicago Reader  An entertaining computer-generated, hyperreali...  2008-03-10  9559  Toy story"
      ]
     },
     "execution_count": 12,
     "metadata": {},
     "output_type": "execute_result"
    }
   ],
   "source": [
    "critics = pd.read_csv('./critics.csv')\n",
    "#let's drop rows with missing quotes\n",
    "critics = critics[~critics.quote.isnull()]\n",
    "critics.head()"
   ]
  },
  {
   "cell_type": "code",
   "execution_count": 13,
   "metadata": {},
   "outputs": [
    {
     "data": {
      "text/plain": [
       "(15561, 8)"
      ]
     },
     "execution_count": 13,
     "metadata": {},
     "output_type": "execute_result"
    }
   ],
   "source": [
    "critics.shape"
   ]
  },
  {
   "cell_type": "markdown",
   "metadata": {},
   "source": [
    "### Explore"
   ]
  },
  {
   "cell_type": "code",
   "execution_count": 14,
   "metadata": {},
   "outputs": [
    {
     "name": "stdout",
     "output_type": "stream",
     "text": [
      "Number of reviews: 15561\n",
      "Number of critics: 623\n",
      "Number of movies:  1921\n"
     ]
    }
   ],
   "source": [
    "n_reviews = len(critics)\n",
    "n_movies = critics.rtid.unique().size\n",
    "n_critics = critics.critic.unique().size\n",
    "\n",
    "\n",
    "print(\"Number of reviews: {:d}\".format(n_reviews))\n",
    "print(\"Number of critics: {:d}\".format(n_critics))\n",
    "print(\"Number of movies:  {:d}\".format(n_movies))"
   ]
  },
  {
   "cell_type": "code",
   "execution_count": 15,
   "metadata": {
    "scrolled": false
   },
   "outputs": [
    {
     "data": {
      "image/png": "[encoded data removed]",
      "text/plain": [
       "<matplotlib.figure.Figure at 0x176d70bc780>"
      ]
     },
     "metadata": {},
     "output_type": "display_data"
    }
   ],
   "source": [
    "df = critics.copy()\n",
    "df['fresh'] = df.fresh == 'fresh'\n",
    "grp = df.groupby('critic')\n",
    "counts = grp.critic.count()  # number of reviews by each critic\n",
    "means = grp.fresh.mean()     # average freshness for each critic\n",
    "\n",
    "means[counts > 100].hist(bins=10, edgecolor='w', lw=1)\n",
    "plt.xlabel(\"Average Rating per critic\")\n",
    "plt.ylabel(\"Number of Critics\")\n",
    "plt.yticks([0, 2, 4, 6, 8, 10]);"
   ]
  },
  {
   "cell_type": "markdown",
   "metadata": {},
   "source": [
    "<div class=\"span5 alert alert-info\">\n",
    "<h3>Exercise Set I</h3>\n",
    "<br/>\n",
    "<b>Exercise:</b> Look at the histogram above. Tell a story about the average ratings per critic. What shape does the distribution look like? What is interesting about the distribution? What might explain these interesting things?\n",
    "</div>"
   ]
  },
  {
   "cell_type": "markdown",
   "metadata": {},
   "source": [
    "<div>\n",
    "<h3>Answer:</h3> \n",
    "<p>The average ratings per critic of critics whose number of reviews is over 100 varies from 0.4 to 0.8 and roughly follows normal distribution.\n",
    "There're more ratings per critic staying around the median value and less extreme ratings. The reason may be that critics avoid giving very high or very low ratings.\n",
    "</div>"
   ]
  },
  {
   "cell_type": "markdown",
   "metadata": {},
   "source": [
    "## The Vector Space Model and a Search Engine"
   ]
  },
  {
   "cell_type": "markdown",
   "metadata": {},
   "source": [
    "All the diagrams here are snipped from [*Introduction to Information Retrieval* by Manning et. al.]( http://nlp.stanford.edu/IR-book/) which is a great resource on text processing. For additional information on text mining and natural language processing, see [*Foundations of Statistical Natural Language Processing* by Manning and Schutze](http://nlp.stanford.edu/fsnlp/).\n",
    "\n",
    "Also check out Python packages [`nltk`](http://www.nltk.org/), [`spaCy`](https://spacy.io/), [`pattern`](http://www.clips.ua.ac.be/pattern), and their associated resources. Also see [`word2vec`](https://en.wikipedia.org/wiki/Word2vec).\n",
    "\n",
    "Let us define the vector derived from document $d$ by $\\bar V(d)$. What does this mean? Each document is treated as a vector containing information about the words contained in it. Each vector has the same length and each entry \"slot\" in the vector contains some kind of data about the words that appear in the document such as presence/absence (1/0), count (an integer) or some other statistic. Each vector has the same length because each document shared the same vocabulary across the full collection of documents -- this collection is called a *corpus*.\n",
    "\n",
    "To define the vocabulary, we take a union of all words we have seen in all documents. We then just associate an array index with them. So \"hello\" may be at index 5 and \"world\" at index 99.\n",
    "\n",
    "Suppose we have the following corpus:\n",
    "\n",
    "`A Fox one day spied a beautiful bunch of ripe grapes hanging from a vine trained along the branches of a tree. The grapes seemed ready to burst with juice, and the Fox's mouth watered as he gazed longingly at them.`\n",
    "\n",
    "Suppose we treat each sentence as a document $d$. The vocabulary (often called the *lexicon*) is the following:\n",
    "\n",
    "$V = \\left\\{\\right.$ `a, along, and, as, at, beautiful, branches, bunch, burst, day, fox, fox's, from, gazed, grapes, hanging, he, juice, longingly, mouth, of, one, ready, ripe, seemed, spied, the, them, to, trained, tree, vine, watered, with`$\\left.\\right\\}$\n",
    "\n",
    "Then the document\n",
    "\n",
    "`A Fox one day spied a beautiful bunch of ripe grapes hanging from a vine trained along the branches of a tree`\n",
    "\n",
    "may be represented as the following sparse vector of word counts:\n",
    "\n",
    "$$\\bar V(d) = \\left( 4,1,0,0,0,1,1,1,0,1,1,0,1,0,1,1,0,0,0,0,2,1,0,1,0,0,1,0,0,0,1,1,0,0 \\right)$$\n",
    "\n",
    "or more succinctly as\n",
    "\n",
    "`[(0, 4), (1, 1), (5, 1), (6, 1), (7, 1), (9, 1), (10, 1), (12, 1), (14, 1), (15, 1), (20, 2), (21, 1), (23, 1),`\n",
    "`(26, 1), (30, 1), (31, 1)]`\n",
    "\n",
    "along with a dictionary\n",
    "\n",
    "``\n",
    "{\n",
    "    0: a, 1: along, 5: beautiful, 6: branches, 7: bunch, 9: day, 10: fox, 12: from, 14: grapes, \n",
    "    15: hanging, 19: mouth, 20: of, 21: one, 23: ripe, 24: seemed, 25: spied, 26: the, \n",
    "    30: tree, 31: vine, \n",
    "}\n",
    "``\n",
    "\n",
    "Then, a set of documents becomes, in the usual `sklearn` style, a sparse matrix with rows being sparse arrays representing documents and columns representing the features/words in the vocabulary.\n",
    "\n",
    "Notice that this representation loses the relative ordering of the terms in the document. That is \"cat ate rat\" and \"rat ate cat\" are the same. Thus, this representation is also known as the Bag-Of-Words representation.\n",
    "\n",
    "Here is another example, from the book quoted above, although the matrix is transposed here so that documents are columns:\n",
    "\n",
    "![novel terms](terms.png)\n",
    "\n",
    "Such a matrix is also catted a Term-Document Matrix. Here, the terms being indexed could be stemmed before indexing; for instance, `jealous` and `jealousy` after stemming are the same feature. One could also make use of other \"Natural Language Processing\" transformations in constructing the vocabulary. We could use Lemmatization, which reduces words to lemmas: work, working, worked would all reduce to work. We could remove \"stopwords\" from our vocabulary, such as common words like \"the\". We could look for particular parts of speech, such as adjectives. This is often done in Sentiment Analysis. And so on. It all depends on our application.\n",
    "\n",
    "From the book:\n",
    ">The standard way of quantifying the similarity between two documents $d_1$ and $d_2$  is to compute the cosine similarity of their vector representations $\\bar V(d_1)$ and $\\bar V(d_2)$:\n",
    "\n",
    "$$S_{12} = \\frac{\\bar V(d_1) \\cdot \\bar V(d_2)}{|\\bar V(d_1)| \\times |\\bar V(d_2)|}$$\n",
    "\n",
    "![Vector Space Model](vsm.png)\n",
    "\n",
    "\n",
    ">There is a far more compelling reason to represent documents as vectors: we can also view a query as a vector. Consider the query q = jealous gossip. This query turns into the unit vector $\\bar V(q)$ = (0, 0.707, 0.707) on the three coordinates below. \n",
    "\n",
    "![novel terms](terms2.png)\n",
    "\n",
    ">The key idea now: to assign to each document d a score equal to the dot product:\n",
    "\n",
    "$$\\bar V(q) \\cdot \\bar V(d)$$\n",
    "\n",
    "Then we can use this simple Vector Model as a Search engine."
   ]
  },
  {
   "cell_type": "markdown",
   "metadata": {},
   "source": [
    "### In Code"
   ]
  },
  {
   "cell_type": "code",
   "execution_count": 19,
   "metadata": {
    "scrolled": true
   },
   "outputs": [
    {
     "name": "stdout",
     "output_type": "stream",
     "text": [
      "Original text is\n",
      "Hop on pop\n",
      "Hop off pop\n",
      "Hop Hop hop\n",
      "\n",
      "Transformed text vector is \n",
      "[[1 0 1 1]\n",
      " [1 1 0 1]\n",
      " [3 0 0 0]]\n",
      "\n",
      "Words for each feature:\n",
      "['hop', 'off', 'on', 'pop']\n"
     ]
    }
   ],
   "source": [
    "from sklearn.feature_extraction.text import CountVectorizer\n",
    "from sklearn.model_selection import train_test_split\n",
    "text = ['Hop on pop', 'Hop off pop', 'Hop Hop hop']\n",
    "print(\"Original text is\\n{}\".format('\\n'.join(text)))\n",
    "\n",
    "vectorizer = CountVectorizer(min_df=0)\n",
    "\n",
    "# call `fit` to build the vocabulary\n",
    "vectorizer.fit(text)\n",
    "\n",
    "# call `transform` to convert text to a bag of words\n",
    "x = vectorizer.transform(text)\n",
    "\n",
    "# CountVectorizer uses a sparse array to save memory, but it's easier in this assignment to \n",
    "# convert back to a \"normal\" numpy array\n",
    "x = x.toarray()\n",
    "\n",
    "print(\"\")\n",
    "print(\"Transformed text vector is \\n{}\".format(x))\n",
    "\n",
    "# `get_feature_names` tracks which word is associated with each column of the transformed x\n",
    "print(\"\")\n",
    "print(\"Words for each feature:\")\n",
    "print(vectorizer.get_feature_names())\n",
    "\n",
    "# Notice that the bag of words treatment doesn't preserve information about the *order* of words, \n",
    "# just their frequency"
   ]
  },
  {
   "cell_type": "code",
   "execution_count": 17,
   "metadata": {
    "collapsed": true
   },
   "outputs": [],
   "source": [
    "def make_xy(critics, vectorizer=None):\n",
    "    #Your code here    \n",
    "    if vectorizer is None:\n",
    "        vectorizer = CountVectorizer()\n",
    "    X = vectorizer.fit_transform(critics.quote)\n",
    "    X = X.tocsc()  # some versions of sklearn return COO format\n",
    "    y = (critics.fresh == 'fresh').values.astype(np.int)\n",
    "    return X, y\n",
    "X, y = make_xy(critics)"
   ]
  },
  {
   "cell_type": "markdown",
   "metadata": {},
   "source": [
    "## Naive Bayes"
   ]
  },
  {
   "cell_type": "markdown",
   "metadata": {},
   "source": [
    "From Bayes' Theorem, we have that\n",
    "\n",
    "$$P(c \\vert f) = \\frac{P(c \\cap f)}{P(f)}$$\n",
    "\n",
    "where $c$ represents a *class* or category, and $f$ represents a feature vector, such as $\\bar V(d)$ as above. **We are computing the probability that a document (or whatever we are classifying) belongs to category *c* given the features in the document.** $P(f)$ is really just a normalization constant, so the literature usually writes Bayes' Theorem in context of Naive Bayes as\n",
    "\n",
    "$$P(c \\vert f) \\propto P(f \\vert c) P(c) $$\n",
    "\n",
    "$P(c)$ is called the *prior* and is simply the probability of seeing class $c$. But what is $P(f \\vert c)$? This is the probability that we see feature set $f$ given that this document is actually in class $c$. This is called the *likelihood* and comes from the data. One of the major assumptions of the Naive Bayes model is that the features are *conditionally independent* given the class. While the presence of a particular discriminative word may uniquely identify the document as being part of class $c$ and thus violate general feature independence, conditional independence means that the presence of that term is independent of all the other words that appear *within that class*. This is a very important distinction. Recall that if two events are independent, then:\n",
    "\n",
    "$$P(A \\cap B) = P(A) \\cdot P(B)$$\n",
    "\n",
    "Thus, conditional independence implies\n",
    "\n",
    "$$P(f \\vert c)  = \\prod_i P(f_i | c) $$\n",
    "\n",
    "where $f_i$ is an individual feature (a word in this example).\n",
    "\n",
    "To make a classification, we then choose the class $c$ such that $P(c \\vert f)$ is maximal.\n",
    "\n",
    "There is a small caveat when computing these probabilities. For [floating point underflow](http://nlp.stanford.edu/IR-book/html/htmledition/naive-bayes-text-classification-1.html) we change the product into a sum by going into log space. This is called the LogSumExp trick. So:\n",
    "\n",
    "$$\\log P(f \\vert c)  = \\sum_i \\log P(f_i \\vert c) $$\n",
    "\n",
    "There is another caveat. What if we see a term that didn't exist in the training data? This means that $P(f_i \\vert c) = 0$ for that term, and thus $P(f \\vert c)  = \\prod_i P(f_i | c) = 0$, which doesn't help us at all. Instead of using zeros, we add a small negligible value called $\\alpha$ to each count. This is called Laplace Smoothing.\n",
    "\n",
    "$$P(f_i \\vert c) = \\frac{N_{ic}+\\alpha}{N_c + \\alpha N_i}$$\n",
    "\n",
    "where $N_{ic}$ is the number of times feature $i$ was seen in class $c$, $N_c$ is the number of times class $c$ was seen and $N_i$ is the number of times feature $i$ was seen globally. $\\alpha$ is sometimes called a regularization parameter."
   ]
  },
  {
   "cell_type": "markdown",
   "metadata": {},
   "source": [
    "### Multinomial Naive Bayes and Other Likelihood Functions\n",
    "\n",
    "Since we are modeling word counts, we are using variation of Naive Bayes called Multinomial Naive Bayes. This is because the likelihood function actually takes the form of the multinomial distribution.\n",
    "\n",
    "$$P(f \\vert c) = \\frac{\\left( \\sum_i f_i \\right)!}{\\prod_i f_i!} \\prod_{f_i} P(f_i \\vert c)^{f_i} \\propto \\prod_{i} P(f_i \\vert c)$$\n",
    "\n",
    "where the nasty term out front is absorbed as a normalization constant such that probabilities sum to 1.\n",
    "\n",
    "There are many other variations of Naive Bayes, all which depend on what type of value $f_i$ takes. If $f_i$ is continuous, we may be able to use *Gaussian Naive Bayes*. First compute the mean and variance for each class $c$. Then the likelihood, $P(f \\vert c)$ is given as follows\n",
    "\n",
    "$$P(f_i = v \\vert c) = \\frac{1}{\\sqrt{2\\pi \\sigma^2_c}} e^{- \\frac{\\left( v - \\mu_c \\right)^2}{2 \\sigma^2_c}}$$"
   ]
  },
  {
   "cell_type": "markdown",
   "metadata": {},
   "source": [
    "<div class=\"span5 alert alert-info\">\n",
    "<h3>Exercise Set II</h3>\n",
    "\n",
    "<p><b>Exercise:</b> Implement a simple Naive Bayes classifier:</p>\n",
    "\n",
    "<ol>\n",
    "<li> split the data set into a training and test set\n",
    "<li> Use `scikit-learn`'s `MultinomialNB()` classifier with default parameters.\n",
    "<li> train the classifier over the training set and test on the test set\n",
    "<li> print the accuracy scores for both the training and the test sets\n",
    "</ol>\n",
    "\n",
    "What do you notice? Is this a good classifier? If not, why not?\n",
    "</div>"
   ]
  },
  {
   "cell_type": "code",
   "execution_count": 163,
   "metadata": {
    "scrolled": true
   },
   "outputs": [
    {
     "name": "stdout",
     "output_type": "stream",
     "text": [
      "Accuracy scores for the training set: \n",
      "0.9216795201371036\n",
      "Accuracy scores for the test set: \n",
      "0.7771781033153431\n"
     ]
    }
   ],
   "source": [
    "#your turn\n",
    "from sklearn.naive_bayes import MultinomialNB as mnb\n",
    "X_train,X_test,y_train,y_test = train_test_split(X,y)\n",
    "cl = mnb()\n",
    "cl.fit(X_train,y_train)\n",
    "y_pred = cl.predict(X_test)\n",
    "score_train = cl.score(X_train,y_train)\n",
    "score_test = cl.score(X_test,y_test)\n",
    "print('Accuracy scores for the training set: \\n{}'.format(score_train))\n",
    "print('Accuracy scores for the test set: \\n{}'.format(score_test))"
   ]
  },
  {
   "cell_type": "markdown",
   "metadata": {},
   "source": [
    "<div>\n",
    "<h3>Answer:</h3> \n",
    "<p>From the code above, the accuracy score for training set is larger than that for test set, though the score value is still not good enough. And I don't think it's a good classifier because train set accuracy score is already much larger than test set score, which means the model is overfitting, but it's not accurate enough. So parameter tuning and data preprocessing may be required. \n",
    "</div>"
   ]
  },
  {
   "cell_type": "markdown",
   "metadata": {},
   "source": [
    "### Picking Hyperparameters for Naive Bayes and Text Maintenance"
   ]
  },
  {
   "cell_type": "markdown",
   "metadata": {},
   "source": [
    "We need to know what value to use for $\\alpha$, and we also need to know which words to include in the vocabulary. As mentioned earlier, some words are obvious stopwords. Other words appear so infrequently that they serve as noise, and other words in addition to stopwords appear so frequently that they may also serve as noise."
   ]
  },
  {
   "cell_type": "markdown",
   "metadata": {},
   "source": [
    "First, let's find an appropriate value for `min_df` for the `CountVectorizer`. `min_df` can be either an integer or a float/decimal. If it is an integer, `min_df` represents the minimum number of documents a word must appear in for it to be included in the vocabulary. If it is a float, it represents the minimum *percentage* of documents a word must appear in to be included in the vocabulary. From the documentation:"
   ]
  },
  {
   "cell_type": "markdown",
   "metadata": {},
   "source": [
    ">min_df: When building the vocabulary ignore terms that have a document frequency strictly lower than the given threshold. This value is also called cut-off in the literature. If float, the parameter represents a proportion of documents, integer absolute counts. This parameter is ignored if vocabulary is not None."
   ]
  },
  {
   "cell_type": "markdown",
   "metadata": {},
   "source": [
    "<div class=\"span5 alert alert-info\">\n",
    "<h3>Exercise Set III</h3>\n",
    "\n",
    "<p><b>Exercise:</b> Construct the cumulative distribution of document frequencies (df). The $x$-axis is a document count $x_i$ and the $y$-axis is the percentage of words that appear less than $x_i$ times. For example, at $x=5$, plot a point representing the percentage or number of words that appear in 5 or fewer documents.</p>\n",
    "\n",
    "<p><b>Exercise:</b> Look for the point at which the curve begins climbing steeply. This may be a good value for `min_df`. If we were interested in also picking `max_df`, we would likely pick the value where the curve starts to plateau. What value did you choose?</p>\n",
    "</div>"
   ]
  },
  {
   "cell_type": "markdown",
   "metadata": {},
   "source": [
    "<div>\n",
    "<h3>Answer:</h3> \n",
    "<p> According to the cummulative distribution of document frequencies(df), min_df is 1 and max_df may vary from 50 to 100.\n",
    "</div>"
   ]
  },
  {
   "cell_type": "code",
   "execution_count": 59,
   "metadata": {
    "collapsed": true
   },
   "outputs": [],
   "source": [
    "# Your turn.\n",
    "def ecdf(data):\n",
    "    \"\"\"Compute ECDF for a one-dimensional array of measurements.\"\"\"\n",
    "\n",
    "    # Number of data points: n\n",
    "    n = len(data)\n",
    "\n",
    "    # x-data for the ECDF: x\n",
    "    x = np.sort(data)\n",
    "\n",
    "    # y-data for the ECDF: y\n",
    "    y = np.arange(1, n+1) / n\n",
    "\n",
    "    return x, y"
   ]
  },
  {
   "cell_type": "code",
   "execution_count": 60,
   "metadata": {},
   "outputs": [],
   "source": [
    "x_dense = X.todense()"
   ]
  },
  {
   "cell_type": "code",
   "execution_count": 61,
   "metadata": {},
   "outputs": [
    {
     "name": "stdout",
     "output_type": "stream",
     "text": [
      "(15561, 22417)\n"
     ]
    }
   ],
   "source": [
    "print(X.shape)"
   ]
  },
  {
   "cell_type": "code",
   "execution_count": 62,
   "metadata": {},
   "outputs": [],
   "source": [
    "X_pd = pd.DataFrame(x_dense)"
   ]
  },
  {
   "cell_type": "code",
   "execution_count": 63,
   "metadata": {},
   "outputs": [
    {
     "name": "stdout",
     "output_type": "stream",
     "text": [
      "[7, 1, 10, 1, 1, 39, 16, 4, 1, 1, 1, 2, 2, 9, 3, 2, 1, 1, 2, 1, 12, 2, 3, 2, 14, 1, 1, 1, 1, 1, 1, 1, 8, 4, 2, 3, 9, 1, 1, 5, 2, 1, 1, 1, 1, 6, 3, 2, 3, 1, 1, 2, 1, 1, 1, 1, 1, 4, 3, 1, 1, 1, 1, 1, 1, 2, 1, 1, 1, 2, 1, 2, 5, 1, 2, 6, 2, 1, 2, 1, 4, 7, 2, 6, 4, 2, 1, 2, 3, 4, 9, 3, 4, 4, 3, 2, 5, 4, 2, 4, 4, 9, 12, 1, 5, 5, 3, 5, 4, 8, 2, 2, 9, 3, 2, 1, 6, 6, 5, 4, 3, 8, 5, 4, 3, 5, 3, 3, 7, 3, 4, 3, 5, 2, 2, 3, 5, 7, 4, 9, 6, 6, 14, 11, 4, 27, 1, 5, 1, 11, 1, 1, 2, 2, 2, 5, 2, 2, 2, 1, 1, 1, 1, 4, 8, 4, 2, 1, 4, 1, 7, 1, 1, 4, 2, 2, 2, 1, 17, 1, 1, 6, 1, 1, 1, 2, 2, 1, 2, 1, 1, 1, 1, 4, 12, 3, 5, 1, 3, 3, 5, 1, 2, 1, 9, 2, 24, 1, 1, 1, 1, 1, 5, 14, 2, 1, 1, 1, 2, 5, 14, 1, 2, 1, 1, 1, 2, 1, 1, 2, 1, 8, 17, 2, 2, 1, 2, 1, 5, 4, 2, 19, 20, 1, 3, 2, 1, 6, 1, 1, 2, 4, 1, 4, 3, 1, 1, 1, 2, 2, 3, 1, 1, 3, 5, 2, 1, 2, 34, 1, 1, 37, 1, 6, 3, 1, 1, 2, 1, 1, 6, 3, 951, 56, 3, 1, 1, 2, 2, 2, 14, 6, 10, 39, 10, 33, 1, 3, 1, 7, 3, 1, 15, 1, 7, 6, 13, 3, 1, 6, 3, 1, 11, 1, 1, 4, 2, 5, 4, 1, 9, 1, 1, 11, 4, 2, 1, 6, 10, 1, 2, 2, 8, 2, 1, 1, 4, 2, 1, 3, 4, 3, 2, 1, 2, 35, 10, 8, 2, 1, 5, 1, 19, 1, 4, 1, 1, 2, 1, 1, 1, 3, 11, 4, 1, 1, 3, 1, 10, 5, 1, 1, 12, 14, 45, 12, 17, 5, 1, 5, 3, 3, 1, 2, 2, 1, 1, 1, 2, 1, 2, 2, 2, 1, 1, 1, 1, 2, 1, 41, 60, 87, 169, 385, 4, 1, 1, 3, 3, 2, 1, 2, 4, 99, 193, 31, 13, 7, 13, 2, 66, 3, 4, 4, 3, 1, 16, 7, 1, 2, 2, 69, 7, 17, 1, 5, 1, 1, 30, 7, 2, 17, 4, 1, 4, 5, 16, 2, 2, 2, 2, 3, 2, 33, 2, 6, 2, 1, 10, 2, 1, 2, 1, 1, 1, 1, 1, 1, 1, 2, 1, 15, 7, 6, 19, 5, 1, 3, 1, 3, 1, 9, 14, 2, 4, 8, 25, 2, 1, 1, 2, 2, 1, 1, 7, 1, 2, 1, 1, 1, 1, 11, 3, 3, 2, 3, 3, 8, 7, 3, 32, 1, 1, 2, 46, 10, 3, 1, 1, 1, 16, 115, 2, 19, 1, 11, 1, 1, 2, 1, 3, 5, 8, 1, 1, 5, 1, 1, 2, 1, 16, 1, 1, 1, 1, 1, 1, 9, 39, 2, 4, 1, 3, 6, 26, 2, 20, 16, 2, 2, 1, 1, 1, 1, 2, 5, 4, 1, 17, 1, 1, 1, 6, 1, 1, 1, 7, 7, 2, 1, 10, 1, 11, 9, 171, 1, 2, 4, 8, 4, 3, 8, 1, 113, 55, 88, 11, 2, 7, 1, 6, 1, 5, 2, 1, 2, 32, 1, 4, 3, 1, 1, 2, 8, 2, 4, 1, 31, 1, 2, 2, 5, 4, 12, 5, 1, 4, 1, 1, 1, 1, 1, 24, 1, 1, 3, 4, 1, 7, 5, 12, 2, 5, 10, 1, 13, 13, 53, 3, 2, 3, 1, 1, 2, 1, 6, 1, 1, 2, 1, 2, 1, 1, 2, 4, 1, 7, 4, 1, 10, 1, 1, 1, 2, 1, 1, 2, 10, 4, 1, 2, 1, 13, 2, 6, 1, 1, 1, 1, 1, 1, 3, 3, 1, 7, 1, 3, 5, 1, 35, 1, 1, 2, 1, 6, 1, 1, 1, 7, 23, 2, 1, 2, 2, 11, 1, 5, 28, 1, 1011, 3, 1, 1, 4, 12, 74, 2, 1, 1, 1, 1, 2, 12, 2, 20, 8, 24, 1, 1, 1, 7, 2, 4, 3, 28, 1, 202, 42, 139, 3, 1, 1, 2, 1, 1, 41, 1, 242, 1, 6, 3, 1, 1, 4, 9, 3, 1, 1, 8, 1, 121, 1, 41, 15, 1, 1, 112, 1, 14, 7, 6, 1, 4, 1, 1, 1, 1, 9, 11, 3, 2, 2, 1, 1, 1, 4, 30, 14, 1, 2, 3, 2, 2, 7, 11, 1, 27, 17, 40, 1, 2, 1, 2, 1, 1, 1, 1, 1, 1, 36, 235, 3, 14, 1, 2, 16, 6, 1, 10, 2, 1, 1, 2, 6, 7, 1, 2, 1, 2, 61, 5, 2, 1, 31, 2, 10, 3, 1, 1, 1, 1, 7, 1, 1, 2, 3, 4, 9, 8, 77, 6, 10, 1, 1739, 3, 1, 4, 2, 1, 1, 1, 5, 1, 1, 1, 3, 1, 1, 2, 1, 5, 1, 1, 1, 2, 1, 2, 4, 2, 1, 7, 7552, 1, 1, 30, 1, 4, 1, 1, 1, 14, 2, 1, 1, 1, 1, 1, 1, 1, 9, 2, 1, 4, 6, 1, 2, 2, 5, 9, 1, 15, 1, 4, 2, 2, 7, 13, 9, 1, 7, 1, 1, 19, 9, 4, 1, 1, 16, 13, 93, 1, 1, 89, 4, 9, 1, 4, 3, 2, 1, 8, 1, 1, 2, 7, 3, 2, 11, 4, 1, 1, 3, 2, 1, 16, 5, 1, 1, 1, 1, 5, 169, 1, 1, 18, 8, 1, 1, 2, 2, 1, 4, 9, 2, 1, 30, 1, 3, 4, 4, 1, 1, 2, 1, 2, 1, 15, 3, 1, 2, 4, 1, 2, 1, 1, 1, 1, 1, 1, 2, 1, 8, 2, 3, 2, 327, 10, 10, 102, 1, 141, 14, 21, 1, 29, 8, 1, 6, 8, 2, 1, 3, 7, 9, 2, 6, 1, 2, 1, 3, 1, 1, 4, 10, 4, 11, 14, 1, 54, 63, 5, 3, 21, 8, 3, 4, 2, 18, 2, 1, 1, 3, 1, 2, 1, 4, 1, 3, 1, 1, 1, 3, 3, 3, 2, 1, 18, 10, 3, 10, 1, 1, 1, 37, 5, 7, 4, 9, 7, 1, 1, 3, 2, 2, 3, 1, 4, 1, 14, 1, 3, 1, 6, 1, 1, 1, 2, 1, 1, 1, 4, 1, 9, 1, 5, 2, 3, 11, 1, 1, 1, 5, 8, 3, 1, 1, 1, 1, 1, 1, 2, 1064, 3, 6, 51, 4, 1, 21, 12, 2, 3, 3, 13, 3, 2, 1, 2, 2, 1, 1, 1, 3, 5, 3, 3, 6, 5, 1, 3, 2, 1, 1, 2, 1, 1, 1, 1, 1, 11, 2, 10, 1, 1, 9, 109, 1, 1, 1, 3, 1, 1, 1, 4, 4, 4, 17, 1, 8, 3, 7, 9, 4, 4, 1, 1, 2, 1, 2, 1, 120, 2, 1, 8, 5, 1, 1, 1, 14, 2, 2, 1, 5, 1, 1, 1, 4, 3, 21, 4, 1, 1, 1, 2, 28, 32, 3, 15, 15, 4, 1, 19, 2, 7, 1987, 1, 1, 1, 4, 6, 5, 2, 1, 2, 1, 22, 4, 2, 18, 7, 2, 10, 11, 2, 10, 35, 3, 6, 5, 2, 7, 7, 4, 2, 5, 6, 1, 8, 1, 2, 2, 1, 2, 2, 17, 3, 2, 13, 1, 1, 1, 1, 1, 2, 4, 1, 1, 3, 2, 1, 1, 7, 3, 1, 5, 1, 9, 1, 1, 2, 3, 2, 2, 5, 2, 15, 1, 29, 1, 14, 1, 1, 2, 2, 20, 9, 2, 1, 1, 6, 1, 1, 3, 1, 1, 3, 1, 1, 1, 6, 1, 1, 4, 973, 1, 1, 5, 3, 4, 2, 2, 1, 1, 2, 4, 44, 6, 1, 1, 1, 3, 1, 2, 3, 1, 2, 13, 2, 7, 4, 1, 1, 2, 4, 55, 1, 6, 28, 1, 2, 2, 2, 2, 1, 50, 4, 3, 1, 22, 14, 2, 4, 1, 12, 3, 21, 1, 1, 2, 2, 1, 2, 1, 1, 1, 1, 19, 4, 12, 214, 96, 3, 1, 1, 8, 2, 1, 1, 1, 13, 1, 3, 1, 9, 1, 1, 1, 13, 1, 4, 1, 7, 6, 1, 3, 2, 24, 2, 9, 13, 1, 1, 1, 3, 12, 1, 1, 4, 1, 1, 2, 2, 1, 1, 2, 1, 3, 1, 1, 3, 1, 9, 1, 3, 1, 1, 1, 3, 29, 1, 1, 1, 1, 3, 1, 1, 3, 1, 5, 20, 1, 5, 3, 9, 1, 1, 2, 1, 5, 1, 1, 10, 2, 16, 7, 2, 89, 14, 1, 11, 1, 1, 40, 14, 1, 2, 11, 7, 1, 1, 2, 1, 4, 1, 1, 1, 6, 1, 1, 4, 1, 9, 2, 3, 22, 1, 1, 2, 1, 1, 1, 1, 4, 141, 2, 2, 1, 2, 2, 3, 1, 1, 1, 2, 2, 15, 6, 1, 1, 1, 3, 1, 6, 2, 2, 1, 2, 1, 8, 230, 2, 18, 3, 1, 9, 1, 5, 3, 1, 1, 1, 1, 1, 1, 1, 1, 2, 3, 1, 12, 1, 1, 2, 1, 1, 1, 29, 13, 6, 9, 3, 1, 2, 1, 1, 1, 5, 3, 1, 15, 5, 2, 3, 1, 2, 3, 2, 2, 1, 1, 1, 1, 1, 1, 1, 1, 3, 2, 1, 2, 1, 1, 2, 1, 1, 1, 1, 1, 3, 25, 4, 3, 4, 2, 3, 10, 1, 7, 1, 9, 4, 1, 1, 1, 17, 1, 2, 1, 5, 1, 1, 1, 1, 1, 2, 1, 1, 1, 1, 1, 1, 10, 2, 8, 1, 4, 1, 3, 2, 2, 1, 1, 1, 2, 2, 2, 6, 6, 1, 9, 4, 1, 1, 29, 1, 4, 1, 1, 2, 1, 1, 1, 1, 2, 1, 2, 1, 1, 2, 1, 1, 6, 2, 4, 7, 4, 1, 8, 1, 1, 1, 3, 18, 19, 2, 4, 1, 1, 1, 8, 21, 57, 1, 6, 2, 3, 2, 33, 34, 3, 1, 2, 11, 2, 1, 13, 1, 2, 2, 8, 1, 1, 2, 1, 1, 1, 1, 1, 1, 2, 3, 10, 1, 18, 1, 1, 1, 1, 3, 3, 3, 1, 1, 1, 1, 2, 36, 1, 8, 1, 4, 1, 1, 8, 3, 4, 2, 1, 1319, 7, 2, 1, 1, 1, 2, 2, 3, 1, 2, 1, 2, 1, 13, 1, 3, 1, 5, 11, 1, 11, 1, 2, 19, 3, 1, 4, 2, 1, 2, 10, 12, 8, 1, 1, 1, 86, 66, 79, 4, 5, 1, 7, 201, 1, 1, 1, 2, 1, 107, 85, 22, 5, 1, 1, 1, 1, 1, 3, 1, 2, 1, 1, 2, 1, 398, 5, 1, 1, 1, 4, 1, 154, 1, 1, 1, 8, 1, 1, 2, 28, 29, 36, 1, 1, 2, 11, 1, 6, 1, 5, 1, 2, 20, 4, 6, 43, 9, 5, 1, 172, 8, 1, 2, 2, 1, 1, 3, 2, 2, 1, 1, 1, 1, 8, 1, 3, 28, 3, 66, 6, 2, 4, 5, 1, 4, 1, 1, 3, 1, 2, 1, 1, 6, 1, 6, 1, 21, 11, 6, 6, 1, 3, 1, 5, 10, 2, 2, 1, 1, 5, 1, 23, 1, 1, 2, 5, 1, 9, 1, 1, 1, 9, 9, 5, 2, 2, 1, 4, 1, 6, 5, 1, 8, 1, 4, 1, 1, 1, 15, 1, 2, 2, 7, 4, 3, 2, 1, 3, 1, 2, 1, 2, 1, 6, 12, 4, 13, 1, 1, 1, 9, 525, 1, 1, 1, 4, 6, 1, 1, 1, 1, 1, 7, 3, 4, 2, 8, 257, 2, 221, 5, 1, 1, 1, 2, 1, 88, 2, 1, 2, 3, 5, 3, 1, 1, 3, 1, 7, 1, 1, 1, 3, 1, 246, 3, 3, 22, 19, 4, 2, 1, 5, 1, 3, 1, 1, 1, 2, 2, 1, 1, 1, 14, 1, 2, 3, 1, 3, 1, 1, 1, 1, 17, 1, 3, 2, 1, 1, 3, 1, 2, 1, 1, 5, 5, 1, 10, 1, 1, 12, 3, 1, 1, 1, 8, 3, 2, 3, 1, 1, 1, 1, 1, 1, 2, 107, 1, 1, 19, 7, 6, 12, 3, 22, 3, 8, 1, 1, 11, 1, 6, 26, 4, 1, 111, 2, 2, 2, 3, 1, 1, 4, 1, 1, 1, 29, 2, 3, 1, 1, 12, 6, 1, 10, 2, 39, 1, 4, 9, 13, 4, 1, 3, 1, 1, 2, 2, 1, 12, 1, 1, 4, 7, 2, 1, 1, 5, 1, 1, 1, 4, 1, 13, 2, 3, 4, 3, 1, 3, 1, 29, 4, 5, 8, 6, 1, 4, 1, 1, 1, 1, 10, 1, 1, 2, 2, 2, 1, 1, 4, 1, 1, 1, 1, 2, 2, 5, 4, 1, 1, 1, 13, 1, 3, 14, 7, 3, 3, 2, 65, 5, 1, 1, 5, 1, 1, 1, 5, 2, 1, 1, 2, 1, 1, 2, 23, 1, 1, 4, 1, 1, 13, 1, 12, 7, 8, 1, 1, 1, 2, 4, 32, 1, 2, 7, 1, 1, 2, 2, 12, 1, 1, 4, 1, 3, 1, 1, 1, 3, 1, 1, 1, 1, 11, 1, 1, 3, 2, 12, 4, 1, 17, 1, 7, 1, 3, 9, 3, 1, 2, 43, 2, 1, 1, 5, 3, 2, 1, 4, 5, 1, 2, 6, 2, 6, 7, 1, 1, 5, 2, 28, 2, 1, 10, 2, 2, 2, 1, 3, 1, 4, 1, 5, 4, 2, 4, 2, 1, 1, 1, 1, 1, 2, 2, 1, 47, 6, 6, 17, 1, 7, 2, 1, 2, 1, 4, 3, 3, 7, 1, 1, 1, 1, 1, 9, 106, 1, 2, 2, 15, 5, 1, 3, 3, 1, 1, 1, 5, 5, 1, 1, 8, 1, 2, 1, 1, 1, 4, 2, 1, 7, 3, 11, 20, 8, 1, 1, 2, 1, 40, 1, 24, 2, 2, 6, 2, 2, 5, 1, 1, 1, 1, 1, 1, 1, 1, 1, 1, 2, 1, 1, 1, 227, 7, 6, 1, 1, 1, 1, 16, 1, 1, 5, 2, 5, 4, 21, 6, 1, 2, 1, 1, 2, 1, 1, 1, 3, 3, 2, 1, 3, 2, 5, 3, 1, 2, 2, 1, 1, 32, 1, 2, 1, 1, 4, 3, 61, 1, 4, 1, 3, 2, 2, 5, 40, 2, 1, 1, 1, 12, 5, 7, 1, 10, 1, 28, 1, 3, 3, 14, 1, 4, 1, 1, 1, 22, 2, 13, 3, 10, 5, 11, 1, 3, 2, 1, 2, 5, 18, 8, 7, 5, 2, 23, 2, 3, 1, 5, 1, 4, 2, 2, 1, 26, 1, 3, 2, 7, 12, 7, 8, 7, 2, 1, 17, 6, 1, 1, 4, 7, 14, 1, 21, 5, 1, 1, 3, 1, 2, 1, 3, 1, 1, 12, 1, 1, 4, 3, 3, 1, 1, 21, 1, 1, 3, 2, 12, 1, 5, 11, 2, 1, 11, 2, 52, 1, 3, 6, 3, 2, 1, 15, 82, 35, 1, 1, 6, 5, 1, 44, 28, 79, 4, 1, 2, 9, 6, 1, 1, 4, 5, 41, 1, 1, 1, 7, 1, 30, 1, 1, 1, 1, 2, 1, 4, 15, 1, 1, 8, 6, 14, 1, 8, 9, 4, 28, 2, 4, 1, 4, 9, 1, 33, 38, 1, 6, 12, 2, 1, 17, 10, 1, 1, 2, 1, 1, 2, 3, 1, 1, 21, 6, 1, 10, 4, 3, 10, 1, 4, 1, 2, 1, 6, 1, 3, 1, 3, 2, 2, 3, 1, 1, 4, 1, 3, 1, 1, 2, 1, 2, 3, 2, 23, 1, 1, 50, 1, 3, 2, 4, 2, 1, 3, 1, 1, 1, 2, 2, 9, 1, 6, 20, 9, 1, 14, 3, 15, 2, 1, 9, 3, 6, 11, 1, 2, 12, 1, 4, 1, 4, 2, 1, 1, 6, 1, 2, 4, 1, 1, 1, 2, 5, 26, 4, 1, 2, 5, 2, 1, 1, 1, 2, 15, 4, 2, 1, 7, 3, 1, 1, 2, 1, 1, 2, 1, 16, 1, 1, 1, 7, 1, 5, 3, 9, 5, 1, 2, 7, 6, 1, 1, 1, 3, 3, 8, 1, 6, 31, 1, 6, 2, 2, 2, 1, 1, 1, 1, 1, 2, 2, 45, 2, 1, 5, 6, 6, 5, 2, 17, 2360, 2, 4, 1, 1, 15, 4, 1, 1, 2, 1, 1, 8, 5, 1, 22, 1, 1, 2, 2, 4, 1, 2, 1, 1, 1, 1217, 1, 1, 1, 1, 1, 1, 1, 1, 1, 2, 3, 18, 1, 1, 1, 2, 1, 1, 1, 1, 1, 1, 1, 2, 1, 1, 1, 1, 16, 1, 3, 11, 2, 1, 3, 1, 1, 1, 2, 1, 3, 1, 16, 4, 5, 3, 6, 7, 2, 1, 3, 1, 1, 1, 44, 1, 25, 8, 1, 1, 1, 1, 10, 8, 2, 1, 5, 1, 23, 2, 1, 3, 1, 7, 4, 66, 2, 1, 4, 16, 21, 1, 2, 1, 1, 34, 5, 1, 5, 1, 1, 1, 7, 1, 4, 19, 655, 6, 1, 2, 1, 1, 1, 1, 2, 8, 1, 4, 12, 1, 1, 1, 1, 4, 1, 1, 1, 4, 2, 4, 1, 1, 29, 4, 5, 1, 1, 1, 2, 2, 1, 1, 1, 6, 1, 29, 3, 7, 2, 21, 5, 6, 1, 4, 1, 1, 7, 1, 3, 19, 2, 1, 1, 1, 6, 5, 3, 3, 1, 12, 1, 4, 1, 1, 15, 10, 27, 9, 31, 1, 1, 2, 10, 9, 1, 1, 2, 73, 2, 3, 1, 61, 6, 1, 11, 24, 1, 4, 1, 6, 1, 1, 1, 7, 4, 8, 4, 2, 1, 3, 12, 2, 1, 1, 3, 2, 1, 1, 7, 3, 1, 1, 2, 1, 1, 1, 1, 18, 1, 49, 5, 7, 22, 1, 3, 1, 1, 21, 6, 11, 1, 4, 1, 54, 1, 8, 2, 1, 1, 14, 3, 3, 1, 1, 2, 1, 7, 4, 54, 1, 2, 3, 3, 1, 9, 5, 9, 2, 237, 2, 36, 8, 1, 1, 1, 1, 11, 13, 3, 1, 18, 1, 1, 1, 2, 1, 1, 1, 1, 1, 18, 7, 8, 1, 1, 2, 1, 1, 1, 1, 9, 1, 1, 1, 1, 2, 7, 1, 3, 1, 1, 1, 1, 1, 3, 3, 1, 17, 2, 15, 2, 2, 1, 9, 2, 1, 13, 1, 5, 1, 1, 2, 1, 1, 1, 1, 1, 1, 2, 1, 1, 2, 2, 1, 3, 3, 1, 1, 6, 7, 7, 5, 20, 1, 12, 1, 4, 1, 1, 1, 4, 10, 1, 1, 2, 2, 1, 2, 2, 1, 1, 28, 2, 3, 3, 30, 1, 1, 1, 1, 1, 1, 41, 1, 2, 1, 4, 1, 1, 1, 74, 72, 3, 2, 1, 1, 1, 1, 1, 6, 2, 2, 1, 1, 12, 1, 4, 1, 1, 1, 14, 4, 7, 14, 1, 9, 1, 1, 1, 5, 5, 1, 3, 3, 1, 42, 36, 5, 1, 1, 4, 23, 8, 1, 8, 1, 10, 4, 2, 1, 1, 2, 14, 7, 1, 1, 10, 3, 12, 251, 4, 2, 5, 5, 1, 21, 15, 3, 2, 414, 1, 13, 11, 4, 1, 9, 12, 1, 11, 6, 7, 1, 1, 92, 4, 4, 75, 1, 10, 1, 10, 1, 1, 1, 1, 1, 1, 43, 2, 3, 19, 5, 1, 1, 1, 2, 1, 1, 1, 2, 1, 3, 28, 1, 3, 1, 2, 1, 4, 4, 2, 1, 2, 8, 1, 2, 1, 11, 2, 1, 2, 3, 8, 1, 17, 13, 2, 1, 2, 1, 1, 1, 1, 1, 5, 6, 1, 1, 1, 1, 1, 3, 21, 1, 1, 4, 2, 21, 1, 3, 1, 3, 1, 1, 1, 1, 2, 5, 1, 3, 1, 4, 1, 1, 8, 6, 2, 1, 1, 1, 8, 4, 1, 1, 6, 1, 1, 1, 1, 10, 5, 41, 1, 22, 3, 1, 6, 92, 1, 1, 1, 16, 5, 22, 1, 8, 6, 1, 1, 5, 6, 10, 3, 1, 1, 6, 2, 1, 1, 2, 2, 1, 3, 1, 19, 7, 1, 2, 2, 2, 3, 1, 1, 6, 1, 4, 2, 3, 3, 1, 1, 1, 1, 7, 2, 1, 7, 1, 4, 1, 7, 3, 1, 1, 12, 1, 2, 11, 3, 17, 1, 4, 2, 3, 29, 12, 2, 2, 1, 4, 1, 8, 2, 4, 1, 2, 8, 1, 1, 11, 3, 1, 1, 1, 1, 1, 3, 3, 2, 1, 6, 3, 1, 3, 3, 1, 1, 1, 1, 14, 1, 2, 1, 83, 2, 89, 5, 18, 32, 2, 1, 1, 4, 8, 5, 1, 1, 18, 7, 1, 4, 1, 8, 3, 1, 51, 1, 2, 3, 10, 1, 1, 1, 1, 4, 1, 1, 13, 1, 1, 5, 1, 1, 1, 2, 2, 1, 1, 4, 3, 1, 1, 2, 2, 3, 1, 3, 1, 1, 1, 14, 7, 1, 13, 1, 3, 3, 68, 1, 140, 5, 1, 3, 23, 1, 1, 1, 1, 1, 2, 11, 6, 2, 1, 5, 5, 1, 4, 4, 16, 1, 2, 1, 1, 1, 40, 1, 1, 2, 3, 42, 1, 1, 1, 1, 5, 1, 1, 1, 2, 1, 3, 1, 102, 1, 2, 15, 9, 27, 11, 61, 1, 2, 2, 10, 1, 1, 2, 1, 1, 20, 2, 1, 26, 3, 2, 1, 1, 1, 2, 5, 7, 3, 1, 1, 1, 4, 3, 1, 1, 2, 1, 3, 1, 3, 2, 1, 7, 72, 3, 11, 20, 3, 9, 3, 1, 1, 5, 4, 10, 1, 1, 1, 1, 3, 1, 2, 3, 2, 1, 2, 3, 1, 4, 1, 7, 1, 13, 1, 5, 5, 3, 1, 7, 1, 16, 2, 5, 1, 1, 15, 1, 1, 4, 8, 1, 4, 3, 31, 3, 3, 1, 1, 3, 1, 1, 1, 3, 1, 1, 13, 1, 1, 1, 3, 2, 1, 2, 6, 7, 1, 2, 1, 2, 1, 1, 1, 1, 2, 5, 1, 1, 4, 1, 1, 1, 1, 2, 2, 1, 1, 4, 2, 1, 1, 10, 12, 2, 5, 1, 1, 1, 1, 2, 1, 1, 1, 2, 7, 18, 1, 2, 1, 2, 2, 1, 1, 1, 8, 5, 1, 3, 1, 2, 1, 1, 53, 1, 3, 3, 3, 1, 1, 1, 2, 8, 1, 3, 1, 3, 2, 5, 7, 6, 2, 17, 1, 8, 3, 1, 14, 1, 2, 1, 1, 1, 1, 4, 4, 2, 1, 1, 2, 1, 1, 1, 1, 28, 5, 28, 1, 1, 2, 1, 12, 4, 1, 2, 5, 2, 1, 6, 1, 1, 4, 2, 1, 17, 1, 1, 2, 1, 31, 1, 5, 17, 17, 7, 4, 2, 1, 1, 144, 4, 15, 4, 14, 1, 1, 45, 582, 1, 158, 1, 8, 11, 7, 7, 1, 198, 2, 1, 5, 1, 55, 7, 1, 1, 3, 3, 1, 1, 1, 5, 1, 2, 4, 1, 4, 8, 1, 1, 3, 37, 1, 4, 1, 1, 3, 8, 2, 1, 16, 1, 2, 2, 22, 5, 2, 3, 1, 1, 3, 1, 5, 12, 4, 1, 1, 4, 4, 3, 34, 2, 1, 1, 2, 5, 15, 2, 12, 4, 1, 10, 7, 1, 1, 1, 2, 2, 82, 5, 1, 9, 10, 5, 1, 1, 1, 3, 16, 3, 1, 7, 2, 1, 2, 1, 6, 2, 2, 3, 1, 2, 2, 1, 35, 49, 5, 1, 59, 5, 14, 17, 3, 3, 3, 1, 1, 1, 4, 2, 10, 2, 1, 1, 1, 1, 1, 3, 2, 1, 1, 3, 1, 5, 2, 1, 1, 1, 6, 5, 4, 1, 3, 3, 1, 2, 58, 2, 4, 1, 6, 3, 2, 1, 2, 14, 6, 2, 2, 1, 30, 1, 1, 2, 1, 2, 32, 19, 3, 1, 4, 8, 11, 2, 6, 4, 2, 1, 3, 2, 3, 2, 3, 20, 4, 3, 5, 5, 1, 1, 1, 1, 3, 1, 1, 1, 1, 3, 1, 7, 1, 6, 8, 1, 2, 2, 1, 5, 1, 3, 2, 1, 8, 3, 1, 1, 1, 1, 2, 1, 1, 1, 17, 1, 15, 9, 1, 1, 2, 1, 2, 3, 8, 16, 3, 2, 9, 2, 1, 1, 2, 1, 4, 1, 4, 11, 2, 4, 1, 3, 22, 2, 19, 2, 11, 2, 1, 1, 1, 1, 1, 6, 1, 1, 1, 2, 6, 2, 1, 1, 1, 16, 2, 3, 16, 7, 7, 1, 1, 1, 2, 22, 1, 1, 1, 1, 1, 1, 5, 1, 1, 2, 2, 1, 3, 8, 2, 27, 5, 8, 1, 1, 4, 7, 1, 4, 1, 13, 16, 14, 1, 4, 2, 19, 13, 2, 1, 6, 21, 38, 1, 5, 1, 1, 1, 1, 1, 3, 10, 1, 2, 1, 1, 14, 18, 1, 1, 5, 3, 2, 3, 3, 1, 2, 27, 1, 12, 4, 1, 1, 2, 1, 1, 2, 3, 3, 14, 3, 3, 11, 3, 34, 1, 2, 5, 1, 4, 2, 1, 3, 44, 10, 1, 4, 1, 4, 2, 14, 1, 5, 18, 2, 2, 1, 1, 8, 1, 5, 4, 11, 2, 2, 2, 3, 1, 3, 2, 2, 1, 1, 1, 3, 3, 1, 1, 1, 8, 1, 2, 3, 3, 1, 2, 1, 4, 1, 1, 5, 9, 30, 1, 23, 9, 1, 1, 5, 3, 2, 2, 1, 1, 2, 43, 1, 4, 20, 1, 1, 10, 6, 3, 1, 1, 2, 1, 3, 11, 3, 4, 11, 1, 1, 28, 1, 3, 3, 3, 3, 46, 4, 17, 1, 1, 4, 4, 9, 2, 2, 44, 5, 2, 3, 5, 1, 1, 3, 2, 1, 1, 21, 1, 2, 2, 1, 1, 1, 1, 28, 10, 1, 7, 3, 1, 2, 1, 30, 1, 1, 1, 1, 1, 7, 6, 9, 5, 1, 1, 1, 18, 10, 1, 1, 2, 1, 7, 1, 1, 4, 5, 1, 3, 4, 1, 8, 1, 1, 1, 1, 2, 1, 2, 3, 1, 9, 2, 1, 3, 1, 2, 19, 1, 1, 10, 9, 1, 3, 1, 1, 3, 228, 30, 1, 1, 28, 2, 1, 1, 1, 1, 2, 2, 2, 2, 4, 1, 1, 1, 1, 7, 43, 4, 15, 4, 1, 57, 2, 6, 1, 25, 10, 1, 31, 6, 1, 1, 1, 9, 13, 1, 3, 1, 7, 1, 1, 1, 7, 1, 3, 2, 6, 1, 1, 1, 3, 9, 1, 3, 5, 1, 1, 1, 2, 2, 5, 5, 2, 3, 3, 1, 6, 4, 2, 3, 3, 1, 1, 1, 3, 9, 2, 4, 3, 22, 48, 2, 3, 1, 5, 1, 11, 4, 10, 1, 1, 1, 6, 1, 3, 1, 1, 2, 7, 1, 21, 1, 3, 1, 11, 2, 1, 1, 16, 1, 1, 2, 1, 7, 4, 1, 2, 6, 1, 1, 3, 1, 22, 1, 1, 1, 4, 3, 1, 39, 42, 35, 27, 24, 9, 29, 1, 5, 10, 8, 11, 9, 2, 1, 2, 15, 19, 35, 1, 8, 27, 1, 3, 3, 1, 2, 1, 5, 1, 28, 1, 2, 16, 1, 1, 6, 1, 2, 59, 1, 1, 6, 8, 2, 1, 2, 5, 2, 2, 1, 2, 2, 2, 4, 9, 15, 1, 4, 1, 5, 2, 1, 1, 1, 10, 14, 1, 5, 1, 1, 16, 4, 1, 1, 1, 1, 1, 1, 13, 1, 3, 2, 1, 1, 1, 3, 1, 2, 1, 2, 23, 1, 3, 5, 1, 7, 1, 1, 1, 1, 1, 1, 7, 33, 1, 3, 11, 5, 9, 1, 1, 15, 7, 20, 5, 2, 1, 1, 1, 1, 3, 23, 1, 1, 1, 4, 26, 1, 1, 3, 1, 2, 2, 2, 3, 1, 1, 1, 3, 1, 4, 2, 1, 1, 1, 2, 14, 4, 5, 9, 1, 1, 1, 1, 6, 2, 1, 2, 1, 4, 1, 6, 1, 3, 1, 1, 1, 1, 6, 1, 3, 1, 1, 2, 1, 17, 2, 2, 18, 1, 48, 1, 5, 2, 3, 1, 3, 1, 1, 1, 7, 1, 3, 6, 1, 1, 1, 1, 1, 1, 1, 1, 4, 1, 1, 12, 11, 19, 1, 1, 1, 3, 18, 7, 2, 1, 3, 1, 1, 1, 2, 1, 1, 19, 2, 1, 5, 1, 1, 1, 2, 3, 4, 2, 3, 48, 32, 6, 3, 1, 1, 1, 1, 18, 4, 3, 27, 1, 2, 1, 1, 1, 3, 1, 7, 1, 4, 33, 2, 14, 2, 2, 1, 1, 1, 1, 1, 3, 10, 3, 3, 1, 1, 1, 8, 8, 2, 4, 1, 2, 1, 2, 4, 3, 7, 1, 1, 1, 1, 21, 2, 8, 1, 3, 2, 9, 2, 1, 1, 2, 1, 3, 34, 1, 2, 4, 16, 2, 1, 14, 6, 11, 3, 4, 1, 8, 1, 3, 1, 18, 1, 4, 1, 2, 1, 2, 4, 1, 1, 5, 3, 1, 1, 10, 29, 5, 1, 97, 1, 2, 11, 3, 26, 16, 11, 1, 3, 1, 1, 1, 1, 1, 3, 7, 1, 3, 1, 47, 20, 1, 3, 3, 16, 1, 3, 3, 1, 5, 60, 2, 21, 1, 5, 2, 4, 1, 102, 2, 3, 1, 96, 1, 3, 1, 15, 3, 1, 1, 2, 49, 7, 1, 92, 1, 64, 1, 1, 3, 1, 1, 2, 9, 12, 1, 5, 3, 1, 2, 42, 1, 9, 3, 12, 9, 2, 1, 1, 1, 3, 55, 1, 1, 1, 1, 4, 1, 2, 1, 1, 2, 1, 1, 70, 1, 2, 2, 27, 3, 1, 22, 1, 1, 5, 1, 2, 4, 1, 2, 5, 28, 1, 4, 1, 4, 1, 9, 6, 7, 5, 3, 3, 1, 1, 4, 2, 1, 1, 1, 2, 1, 1, 3, 2, 5, 4, 1, 2, 1, 1, 1, 1, 1, 1, 11, 1, 1, 3, 1, 64, 2, 1, 1, 5, 20, 2, 58, 1, 1, 1, 1, 3, 2, 4, 1, 1, 3, 2, 1, 1, 1, 4, 2, 2, 2, 4, 10, 1, 1, 11, 7, 7, 2, 26, 3, 9, 1, 2, 1, 1, 25, 23, 2, 1, 1, 3, 7, 1, 1, 8, 1, 1, 1, 3, 1, 19, 4, 1, 1, 1, 1, 1, 16, 1, 2, 1, 2, 3, 2, 1, 1, 1, 5, 10, 2, 1, 1, 6, 22, 10, 5, 15, 1, 50, 1, 41, 9, 1, 12, 1, 11, 7, 4, 1, 30, 1, 12, 12, 81, 8, 1, 1, 2, 8, 2, 2, 1, 2, 2, 3, 2, 5, 2, 5, 17, 2, 2, 1, 2, 3, 2, 1, 1, 4, 16, 1, 1, 5, 1, 1, 6, 1, 4, 1, 1, 5, 1, 2, 2, 22, 2, 10, 1, 1, 1, 1, 2, 3, 8, 1, 3, 1, 1, 3, 3, 7, 1, 10, 5, 4, 1, 1, 1, 1, 1, 6, 14, 7, 2, 2, 8, 5, 5, 3, 1, 2, 1, 3, 4, 8, 2, 4, 13, 3, 7, 2, 1, 3, 1, 1, 8, 1, 3, 1, 1, 1, 4, 1, 20, 6, 8, 1, 1, 2, 48, 8, 3, 1, 1, 2, 1, 1, 1, 27, 3, 7, 1, 1, 3, 1, 1, 1, 1, 2, 1, 2, 7, 10, 3, 3, 2, 7, 1, 1, 7, 1, 2, 11, 8, 3, 40, 1, 39, 2, 33, 9, 4, 2, 4, 26, 3, 2, 2, 1, 14, 4, 23, 13, 14, 6, 1, 1, 123, 1, 2, 2, 1, 6, 9, 2, 2, 1, 1, 5, 7, 3, 1, 11, 5, 1, 5, 4, 41, 20, 2, 46, 1, 11, 1, 1, 2, 1, 11, 1, 9, 1, 1, 1, 3, 1, 1, 1, 2, 4, 2, 1, 3, 3, 1, 5, 3, 2, 8, 1, 11, 13, 8, 26, 3, 12, 2, 1, 1, 1, 9, 10, 11, 1, 4, 1, 2, 1, 1, 3, 2, 11, 1, 1, 4, 8, 1, 2, 1, 2, 2, 2, 1, 2, 1, 2, 2, 3, 1, 1, 1, 1, 1, 9, 1, 1, 1, 14, 154, 1, 5, 2, 6, 2, 2, 1, 1, 1, 1, 9, 3, 1, 11, 5, 2, 2, 1, 2, 3, 1, 1, 1, 88, 7, 3, 1, 56, 29, 4, 1, 3, 1, 6, 2, 3, 1, 1, 20, 5, 48, 1, 40, 2, 4, 1, 2, 2, 2, 1, 2, 2, 1, 1, 14, 5, 2, 1, 1, 11, 1, 1, 2, 4, 6, 2, 1, 9, 1, 4, 2, 7, 1, 15, 18, 1, 2, 7, 5, 1, 2, 3, 3, 1, 1, 1, 1, 1, 8, 2, 1, 6, 3, 1, 2, 1, 2, 8, 15, 149, 24, 154, 5, 9, 2, 529, 30, 1, 31, 25, 2, 2, 1, 2, 22, 1, 1, 1, 3, 1, 1, 1, 1, 6, 13, 26, 18, 24, 3, 3, 7, 3, 1, 23, 2, 6, 1, 8, 1, 2, 1, 1, 3, 2, 1, 1, 5, 1, 1, 6, 1, 1, 2, 1, 5, 1, 1, 1, 1, 5, 1, 1, 1, 1, 1, 1, 15, 4, 3, 3, 8, 4, 1, 1, 1, 2, 1, 1, 3, 1, 1, 2, 1, 1, 1, 1, 2, 9, 3, 3, 1, 3, 1, 9, 1, 1, 1, 1, 1, 1, 1, 2, 1, 1, 1, 1, 1, 1, 1, 1, 4, 1, 8, 1, 1, 1, 9, 1, 1, 3, 1, 1, 10, 2, 1, 5, 1, 162, 1, 1, 2, 1, 1, 3, 1, 4, 1, 4, 2, 1, 1, 1, 2, 1, 1, 1, 5, 2, 19, 3, 4, 20, 1, 10, 1, 1, 1, 1, 3, 6, 2, 1, 1, 1, 1, 1, 1, 3, 2, 1, 2, 2, 1, 1, 3, 1, 2, 1, 2, 1, 2, 13, 1, 3, 11, 1, 1, 5, 2, 2, 2, 1, 1, 1, 5, 6, 1, 17, 1, 1, 10, 1, 1, 7, 2, 1, 4, 4, 5, 3, 1, 3, 1, 5, 1, 1, 2, 33, 2, 1, 1, 2, 1, 4, 1, 1, 7, 15, 3, 3, 1, 1, 21, 2, 1, 3, 4, 1, 2, 7, 1, 1, 1, 5, 3, 1, 1, 1, 1, 1, 4, 6, 1, 1, 272, 2, 1, 2, 1, 2, 1, 2, 1, 2, 1, 3, 2, 6, 2, 47, 2, 1, 1, 2, 1, 310, 335, 43, 1, 2, 1, 1, 1, 2, 4, 1, 1, 9, 50, 3, 1, 1, 2, 4, 7, 1, 1, 3, 2, 3, 1, 1, 1, 13, 5, 5, 1, 7, 2, 2, 2, 210, 1, 8, 1, 104, 1, 1, 1, 1, 4, 9, 1, 2, 1, 1, 1, 1, 7, 10, 2, 1, 4, 6, 1, 1, 7, 1, 1, 1, 1, 1, 2, 2, 1, 3, 1, 6, 3, 1, 3, 1, 31, 1, 1, 1, 33, 3, 2, 1, 1, 3, 1, 1, 1, 26, 1, 5, 1, 1, 196, 5, 1, 8, 2, 1, 11, 2, 1, 1, 1, 2, 1, 2, 1, 13, 6, 10, 6, 12, 2, 12, 4, 2, 8, 9, 5, 2, 3, 1, 2, 207, 2, 10, 77, 22, 2, 7, 2, 1, 6, 2, 1, 1, 1, 10, 1, 1, 4, 13, 2, 28, 13, 15, 14, 7, 44, 2, 2, 1, 1, 1, 2, 4, 28, 3, 4, 15, 1, 1, 1, 3, 5, 1, 10, 4, 1, 5, 12, 1, 1, 1, 4, 1, 1, 4, 1, 2, 1, 1, 1, 4, 4, 4, 1, 28, 4, 25, 13, 1, 5, 4, 8, 1, 1, 1, 4, 1, 1, 1, 1, 1, 7, 1, 1, 2, 1, 5, 1, 4, 1, 1, 5, 7, 1, 1, 1, 14, 12, 1, 1, 1, 1, 10, 3, 1, 1, 19, 2, 2, 1, 3, 2, 5, 3, 12, 1, 2, 1, 1, 7, 1, 1, 3, 10, 5, 1, 2, 21, 4, 2, 1, 1, 1, 1, 1, 3, 3, 66, 2, 5, 5, 2, 1, 1, 1, 1, 45, 2, 4, 1, 1, 1, 2, 1, 2, 2, 1, 1, 1, 1, 2, 1, 1, 5, 2, 1, 2, 1, 1, 1, 2, 1, 1, 1, 1, 1, 1, 1, 1, 1, 5, 4, 1, 50, 1, 3, 1, 6, 1, 1, 5, 1, 1, 2, 4, 11, 3, 1, 2, 1, 1, 3, 1, 1, 1, 1, 4, 3, 1, 10, 1, 3, 1, 7, 1, 1, 6, 1, 1, 2, 1, 75, 7, 3, 1, 1, 15, 1, 2, 36, 1, 55, 3, 13, 19, 4, 7, 6, 1, 1, 1, 1, 6, 19, 2, 1, 1, 3, 3, 1, 11, 1, 1, 6, 1, 55, 8, 1, 3, 1, 38, 93, 6, 10, 1, 2, 3, 2, 1, 2, 1, 1, 1, 1, 1, 1, 28, 3, 4, 2, 3, 1, 4, 1, 16, 1, 1, 2, 1, 1, 1, 1, 1, 2, 3, 3, 1, 6, 3, 1, 12, 15, 1, 1, 57, 6, 14, 19, 1, 1, 1, 3, 1, 3, 14, 26, 4, 4, 1, 1, 1, 1, 2, 2, 1, 4, 3, 15, 1, 5, 9, 1, 6, 1, 1, 1, 3, 1, 56, 95, 24, 7, 191, 2, 4, 16, 7, 80, 3, 16, 25, 2, 4, 7, 1, 1, 2, 1, 6, 1, 1, 6, 11, 2, 2, 2, 1, 1, 2, 1, 1, 77, 1, 2, 24, 7, 1, 4, 2, 1, 1, 2, 1, 1, 1, 1, 5, 2, 1, 4, 5, 2, 6, 1, 1, 1, 15, 26, 13, 10, 4, 20, 6, 82, 1, 1, 3, 6, 12, 2, 1, 3, 1, 1, 4, 2, 2, 1, 1, 8, 1, 2, 1, 3, 1, 1, 1, 4, 1, 1, 5, 1, 1, 3, 7, 1, 1, 1, 6, 1, 6, 6, 1, 1, 4, 6, 2, 76, 6, 1, 2, 1, 2, 2, 8, 2, 15, 1, 2, 4, 1, 14, 2, 3, 1, 2, 1, 1, 1, 1, 1, 3, 2, 3, 5, 1, 8, 1, 2, 1, 2, 1, 1, 1, 1, 12, 3, 2, 18, 3, 1, 4, 1, 6, 1, 1, 1, 1, 34, 137, 1, 1, 59, 43, 2, 1, 5, 4, 7, 1, 12, 1, 1, 1, 2, 2, 7, 3, 1, 1, 4, 3, 1, 2, 1, 2, 6, 39, 1, 6, 1, 1, 1, 1, 2, 1, 1, 4, 8, 19, 4, 4, 2, 1, 1, 1, 1, 5, 4, 1, 8, 3, 1, 3, 5, 1, 211, 1, 1, 20, 1, 4, 10, 1, 2, 5, 2, 66, 5, 21, 6, 1, 1, 2, 3, 2, 55, 1, 5, 6, 2, 25, 4, 8, 29, 4, 2, 2, 1, 2, 1, 99, 2, 1, 1, 1, 10, 4, 1, 2, 63, 7, 3, 1, 1, 1, 5, 5, 1, 13, 1, 32, 1, 6, 1, 1, 1, 1, 1, 31, 1, 1, 1, 4, 6, 2, 3, 2, 1, 3, 53, 1, 128, 8, 24, 5, 6, 3, 2, 1, 2, 2, 2, 1, 1, 1, 5, 2, 1, 1, 1, 2, 14, 18, 342, 1, 1, 1, 2, 1, 1, 33, 1, 1, 1, 1, 1, 2, 2, 3, 1, 2, 1, 2, 1, 7, 2, 12, 2, 2, 10, 13, 3, 255, 10, 195, 7, 5, 1, 2, 10, 1, 15, 4, 3, 3, 1, 1, 1, 33, 47, 1, 1, 2, 2, 1, 1, 1, 3, 5, 1, 1, 23, 2, 5, 3, 6, 1, 1, 1, 2, 1, 1, 1, 4, 6, 94, 1, 5, 2, 1, 1, 2, 4, 21, 11, 9, 2, 1, 1, 2, 2, 4, 1, 22, 2, 1, 31, 3, 2, 1, 1, 1, 24, 1, 1, 3, 42, 1, 1, 1, 1, 1, 1, 8, 1, 1, 4, 1, 4, 1, 1, 22, 1, 1, 9, 1, 1, 1, 1, 4, 2, 6, 1, 2, 1, 2, 1, 1, 1, 1, 1, 22, 1, 4, 12, 19, 1, 1, 2, 2, 1, 1, 1, 2, 100, 4, 1, 1, 6, 5, 1, 11, 1, 19, 46, 1, 1, 4, 10, 6, 7, 6, 3, 1, 2, 1, 1, 1, 1, 1, 1, 1, 3, 6, 1, 1, 14, 7, 6, 2, 1, 1, 2, 1, 4, 13, 1, 5, 1, 1, 1, 2, 2, 1, 3, 9, 2, 1, 1, 1, 2, 1, 2, 1, 2, 10, 2, 563, 2, 6, 19, 1, 28, 3, 32, 275, 1, 1, 1, 1, 224, 17, 10, 1, 64, 1, 129, 1, 11, 1, 17, 1, 7, 3, 36, 3, 1, 1, 1, 10, 13, 8, 1, 20, 3, 5, 2, 4, 5, 2, 3, 6, 6, 2, 66, 1, 1, 1, 1, 1, 4, 2, 3, 13, 2, 3, 2, 58, 2, 1, 4, 1, 1, 7, 1, 2, 1, 3, 59, 4, 4, 40, 1, 15, 13, 9, 4, 2, 19, 21, 12, 7, 2, 2, 2, 1, 2, 3, 45, 1, 80, 5, 1, 1, 1, 3, 1, 3, 1, 1, 8, 10, 7, 3, 1, 15, 2, 2, 2, 1, 33, 1, 17, 6, 2, 1, 3, 1, 1, 60, 2, 1, 1, 1, 2, 3, 6, 12, 1, 5, 1, 1, 4, 2, 1, 1, 10, 1, 1, 45, 2, 6, 1, 1, 1, 1, 17, 2, 6, 7, 2, 2, 1, 11, 6, 1, 3, 1, 8, 13, 1, 5, 5, 3, 2, 1, 1, 5, 3, 1, 54, 22, 25, 5, 3, 1, 2, 1, 6, 17, 1, 113, 6, 6, 3, 6, 1, 1, 1, 2, 16, 7, 21, 7, 1, 12, 3, 4, 4, 2, 2, 2, 1, 1, 3, 2, 6, 9, 31, 8, 4, 3, 1, 10, 19, 1, 8, 5, 5, 8, 9, 18, 12, 1, 1, 6, 1, 7, 3, 9, 1, 4, 5, 4, 2, 3, 13, 3, 4, 1, 7, 11, 1, 11, 16, 7, 22, 4, 1, 1, 5, 1, 12, 3, 1, 1, 1, 9, 5, 1, 1, 3, 2, 9, 45, 4, 1, 1, 2, 1, 10, 2, 9, 14, 36, 1, 1, 13, 16, 6, 2, 3, 1, 2, 61, 1, 2, 26, 1, 1, 60, 1, 40, 4, 2, 1, 6, 2, 76, 15, 2, 23, 1, 1, 3, 2, 2, 5, 16, 2, 1, 2, 2, 67, 1, 1, 14, 1, 5, 5, 2, 1, 2, 4, 3, 1, 1, 2, 1, 15, 17, 1, 1, 67, 22, 3, 4, 2, 26, 2, 1, 1, 1, 48, 1, 33, 1, 1, 6, 21, 12, 3, 1, 11, 3, 1, 4, 3, 1, 47, 1, 6, 2, 2, 17, 2, 1, 1, 40, 26, 1, 2, 1, 1, 2, 7, 1, 1, 8, 4, 1, 84, 12, 1, 8, 154, 1, 1, 15, 3, 2, 27, 1, 1, 1, 1, 8, 1, 1, 16, 2, 1, 2, 1, 80, 11, 15, 17, 3, 2, 113, 166, 1, 46, 1, 1, 4, 33, 1, 1, 1, 4, 3, 4, 1, 2, 1, 1, 1, 2, 3, 3, 1, 4, 62, 2, 21, 1, 3, 2, 1, 27, 3, 1, 71, 82, 2, 5, 1, 1, 9, 16, 1, 1, 4, 6, 10, 1, 1, 23, 3, 3, 1, 2, 1, 3, 1, 12, 1, 3, 1, 5, 4, 1, 9, 1, 1, 27, 1, 1, 1, 1, 1, 1, 1, 1, 1, 2, 39, 1, 4, 1, 3, 4, 1, 10, 2, 7, 1, 14, 5, 1, 1, 1, 4, 146, 2, 44, 17, 2, 1, 2, 1, 6, 8, 1, 1, 9, 1, 2, 1, 2, 3, 177, 2, 76, 24, 115, 2, 14, 1, 1, 2, 4, 1, 1, 1, 1, 1, 2, 3, 2, 1, 13, 1, 10, 1, 1, 34, 29, 2, 1, 3, 4, 14, 5, 1, 1, 1, 1, 2, 1, 1, 1, 1, 1, 1, 2, 8, 4, 9, 7, 1, 3, 2, 4, 1, 1, 4, 1, 1, 9, 1, 6, 1, 8, 2, 1, 1, 1, 1, 1, 1, 6, 1, 5, 197, 3, 2, 1, 1, 57, 6, 81, 8, 2, 1, 1, 2, 5, 1, 3, 1, 1, 23, 1, 3, 3, 2, 1, 1, 5, 1, 14, 5, 1, 5, 9, 2, 2, 1, 2, 37, 5, 2, 8, 6, 1, 2, 29, 4, 20, 3, 5, 3, 1, 10, 54, 3, 12, 11, 2205, 38, 1, 5, 1, 2, 3, 1, 54, 77, 76, 1, 299, 1, 2, 1, 1, 2, 1, 3, 79, 34, 81, 1, 1, 2, 2, 1, 1, 6, 131, 14, 3, 45, 111, 8, 1, 1, 5, 1, 1, 46, 1, 1, 5, 1, 1, 5, 18, 2, 2, 3, 1, 1, 1, 38, 1, 1, 1, 1, 2, 3, 1, 1, 1, 3, 1, 13, 1, 6, 1, 1, 7, 384, 1, 1, 1, 3, 6, 10, 8, 5, 1, 1, 4, 1, 4, 1, 1, 4, 1, 20, 3, 10, 1, 11, 1, 6, 1, 29, 1, 1, 1, 2, 1, 3, 2, 3, 1, 1, 2, 2, 1, 1, 2, 1, 1, 1, 3, 1, 1, 3, 1, 17, 2, 2, 6, 1, 2, 3, 1, 1, 1, 1, 2, 1, 1, 11, 6, 7, 5, 8, 1, 5, 1, 23, 64, 1, 2, 2, 2, 2, 5, 1, 2, 6, 3, 4, 2, 1, 10, 35, 23, 17, 1, 2, 1, 3, 1, 1, 1, 1, 1, 1, 6, 3, 1, 2, 2, 29, 1, 1, 2, 3, 1, 2, 57, 1, 19, 1, 7, 8, 1, 2, 3, 1, 9, 2, 1, 1, 2, 1, 1, 5, 1, 4, 1, 2, 1, 1, 1, 2, 2, 1, 3, 1, 1, 1, 1, 6, 1, 3, 3, 14, 1, 2, 2, 1, 4, 1, 1, 1, 1, 5, 4, 1, 13, 4, 2, 3, 2, 1, 2, 1, 1, 8, 1, 4, 13, 1, 2, 1, 2, 2, 2, 3, 1, 2, 20, 1, 18, 1, 3, 6, 1, 1, 2, 1, 1, 30, 3, 4, 1, 5, 1, 7, 1, 2, 2, 1, 1, 1, 1, 2, 3, 1, 6, 3, 1, 10, 1, 1, 1, 1, 37, 9, 1, 3, 10, 13, 2, 6, 6, 20, 6, 4, 1, 1, 3, 18, 1, 5, 3, 1, 2, 2, 5, 1, 1, 3, 5, 16, 20, 6, 1, 1, 5, 1, 1, 3, 2, 1, 1, 1, 1966, 1, 2, 2, 3, 41, 26, 5, 1, 8, 7, 31, 2, 1, 1, 1, 1, 1, 1, 16, 2, 5, 2, 1, 1, 1, 4, 1, 1, 1, 15, 2, 2, 1, 1, 29, 6, 15, 5, 1, 11, 5, 5, 5, 1, 1, 2, 20, 1, 4, 75, 6, 1, 2, 1, 4, 19, 1, 3, 16, 2, 7, 2, 1, 9, 57, 39, 1, 6, 1, 6, 1, 2, 2, 1, 2, 1, 7, 1, 5, 1, 2, 1, 1, 7, 7, 1, 2, 1, 21, 14, 2, 3, 1, 1, 71, 1, 2, 1, 1, 1, 51, 1, 1, 13, 1, 2, 1, 14, 1, 1, 1, 3, 5, 2, 2, 1, 2, 1, 2, 1, 4, 24, 12, 3, 4, 2, 2, 6, 7, 4, 22, 14, 4, 1, 2, 1, 43, 1, 3, 12, 1, 3, 10, 10, 1, 7, 2, 2, 1, 1, 5, 1, 2, 3, 1, 2, 1, 1, 8, 2, 2, 1, 2, 4, 3, 1, 16, 9, 6, 1, 1, 51, 2, 10, 2, 2, 3, 1, 4, 2, 3, 1, 1, 2, 1, 27, 14, 1, 5, 4, 1, 9, 33, 75, 2, 1, 1, 7, 3, 2, 1, 12, 1, 1, 10, 1, 2, 6, 1, 1, 18, 6, 1, 10, 12, 1, 1, 1, 1, 14, 32, 14, 3, 16, 3, 3, 3, 21, 3, 3, 1, 1, 3, 1, 1, 1, 2, 3, 1, 3, 2, 5, 1, 1, 5, 948, 13, 1, 4, 1, 2, 1, 4, 1, 2, 1, 1, 1, 5, 1, 11, 2, 2, 1, 2, 1, 4, 1, 15, 2, 2, 2, 6, 1, 1, 1, 1, 1, 1, 2, 5, 1, 7, 4, 2, 6, 2, 3, 1, 156, 2, 2, 1, 1, 58, 2, 1, 312, 9, 1, 14, 1, 4, 4, 2, 5, 3, 3, 2, 4, 42, 47, 460, 1, 5, 4, 1, 1, 1, 2, 1, 1, 20, 6, 1, 3, 2, 3, 1, 2, 8, 5, 4, 1, 3, 36, 1, 19, 1, 1, 1, 1, 7, 1, 2, 3, 1, 1, 1, 1, 2, 1, 2, 1, 7, 3, 1, 10, 1, 1, 66, 2, 1, 7, 9, 1, 4, 1, 1, 6, 1, 3, 2, 1, 3, 5, 1, 2, 2, 1, 2, 1, 1, 1, 1, 1, 3, 1, 1, 1, 1, 3, 1, 1, 1, 1, 80, 1, 2, 11, 4, 1, 1, 1, 2, 12, 1, 1, 1, 16, 2, 4, 5, 2, 3, 6, 1, 6, 1, 2, 3, 1, 2, 8, 1, 1, 1, 1, 5, 1, 5, 2, 2, 2, 1, 1, 2, 1, 1, 1, 3, 9, 2, 1, 2, 3, 3, 1, 3, 2, 1, 1, 2, 1, 1, 1, 6, 1, 1, 1, 11, 1, 1, 1, 2, 13, 1, 11, 1, 1, 2, 1, 1, 3, 1, 5, 3, 3, 4, 1, 2, 1, 1, 1, 2, 2, 16, 3, 1, 4, 2, 3, 8, 1, 20, 1, 1, 38, 16, 28, 10, 9, 29, 4, 10, 16, 2, 19, 2, 3, 2, 4, 1, 15, 2, 1, 20, 6, 1, 3, 145, 12, 4, 1, 1, 26, 3, 1, 2, 2, 5, 2, 1, 8, 1, 50, 41, 1, 2, 1, 3, 1, 1, 1, 1, 53, 9, 1, 1, 9, 8, 1, 6, 1, 1, 3, 1, 1, 6, 3, 223, 6, 146, 2, 52, 1, 2, 1, 4, 1, 29, 3, 3, 8, 4, 1, 1, 31, 1, 1, 1, 1, 1, 21, 1, 4, 1, 19, 1, 1, 25, 12, 6, 2, 1, 10, 4, 3, 6, 1, 4, 2, 3, 3, 1, 1, 1, 8, 2, 1, 3, 2, 1, 5, 3, 3, 10, 3, 2, 1, 1, 51, 2, 3, 1, 37, 1, 1, 1, 1, 1, 102, 67, 132, 28, 4, 1, 7, 3, 4, 1, 1, 4, 6, 5, 3, 3, 1, 2, 1, 11, 2, 1, 1, 1, 2, 1, 4, 8, 7, 7, 1, 5, 3, 14, 2, 5, 7, 2, 1, 1, 9, 4, 3, 1, 1, 1, 1, 1, 1, 1, 4, 6, 2, 1, 3, 2, 1, 5, 6, 2, 1, 1, 3, 3, 2, 1, 16, 10, 17, 8, 1, 1, 2, 1, 1, 11, 2, 6, 8, 1, 1, 2, 1, 4, 2, 1, 1, 1, 1, 1, 1, 1, 1, 2, 170, 9, 1, 3, 1, 2, 3, 1, 2, 1, 1, 30, 15, 1, 9, 3, 1, 1, 7, 2, 8, 111, 1, 131, 16, 4, 3, 11, 2, 1, 2, 4, 1, 1, 3, 1, 1, 1, 1, 1, 63, 3, 2, 2, 2, 654, 1, 3, 4, 1, 7, 1, 8, 6, 2, 12, 7, 4, 6, 1, 2, 1, 2, 1, 31, 1, 1, 1, 2, 1, 2, 3, 2, 1, 7, 32, 2, 1, 1, 1, 29, 4, 1, 2, 3, 5, 1, 9, 1, 1, 1, 1, 1, 73, 2, 4, 2, 15, 2, 11, 1, 1, 1, 2, 2, 2, 1, 2, 1, 1, 1, 7, 3, 1, 4, 9, 43, 4, 14, 2, 1, 2, 2, 2, 13, 4, 14, 3, 2, 1, 1, 4, 2, 1, 2, 7, 1, 1, 1, 2, 1, 1, 2, 55, 1, 2, 15, 1, 2, 6, 5, 1, 2, 1, 3, 1, 2, 16, 5, 2, 2, 1, 6, 1, 14, 7, 1, 1, 12, 2, 1, 1, 2, 4, 1, 2, 1, 1, 2, 2, 3, 8, 1, 10, 2, 1, 1, 1, 8, 12, 1, 2, 1, 5, 316, 20, 55, 7, 13, 1, 15, 1, 4, 22, 7, 8, 3, 1, 1, 1, 1, 1, 3, 1, 1, 3, 5, 3, 1, 1, 1, 1, 1, 2, 1, 2, 3, 2, 1, 1, 1, 12, 1, 2, 15, 2, 2, 1, 3, 2, 1, 6, 1, 4, 2, 1, 2, 1, 3, 10, 1, 37, 1, 1, 17, 1, 12, 1, 1, 3, 1, 1, 1, 1, 14, 1, 2, 1, 4, 1, 7, 1, 1, 3, 1, 6, 1, 2, 23, 3, 3, 1, 4, 1, 8, 3, 1, 1, 1, 1, 4, 2, 29, 1, 3, 4, 8, 1, 2, 1, 24, 1, 1, 1, 18, 11, 1, 1, 1, 24, 2, 3, 20, 4, 2, 2, 1, 1, 1, 4, 2, 8, 3, 2, 1, 2, 2, 4, 2, 2, 5, 10, 4, 3, 1, 10, 1, 1, 1, 1, 1, 2, 13, 1, 8, 8, 1, 1, 2, 1, 1, 3, 2, 5, 2, 9, 2, 1, 1, 1, 17, 1, 1, 16, 3, 1, 2, 1, 6, 2, 2, 1, 1, 1, 3, 2, 8, 1, 21, 2, 1, 2, 4, 2, 1, 2, 1, 13, 1, 1, 5, 1, 3, 1, 5, 15, 1, 1, 10, 1, 4, 4, 1, 1, 42, 29, 1, 1, 2, 1, 1, 1, 1, 1, 1, 1, 4, 1, 1, 1, 1, 2, 2, 1, 1, 7, 1, 1, 1, 7, 1, 2, 2, 10, 2, 1, 1, 172, 1, 4, 1, 1, 1, 8, 1, 1, 1, 1, 1, 1, 1, 3, 14, 2, 3, 12, 1, 5, 110, 7, 13, 9, 1, 3, 3, 1, 23, 7, 4, 4, 1, 2, 1, 2, 1, 8, 1, 2, 2, 6, 3, 3, 3, 1, 1, 1, 1, 3, 1, 4, 1, 1, 1, 1, 40, 1, 1, 1, 14, 1, 2, 9, 1, 2, 1, 6, 1, 13, 9, 13, 1, 33, 39, 15, 1, 1, 1, 1, 19, 1, 1, 4, 3, 1, 5, 5, 1, 2, 26, 2, 1, 2, 2, 7, 4, 1, 3, 1, 24, 19, 9, 35, 1, 1, 11, 6, 55, 2, 1, 2, 2, 1, 216, 1, 1, 4, 2, 9, 1, 5, 1, 37, 1, 1, 1, 6, 2, 1, 4, 1, 2, 2, 6, 1, 3, 11, 1, 4, 1, 1, 3, 3, 2, 2, 1, 1, 5, 1, 1, 5, 6, 6, 10, 13, 8, 2, 3, 2, 10, 1, 1254, 3, 1, 3, 39, 1, 1, 3, 5, 2, 1, 1, 22, 7, 1, 1, 1, 1, 2, 2, 2, 1, 1, 2, 1, 2, 13, 40, 3, 4, 3, 4, 839, 19, 1, 1, 55, 2, 1, 3, 1, 3, 2, 7, 3, 3, 1, 1, 1, 1, 2, 601, 50, 4, 18, 2, 1, 1, 1, 1, 2, 2, 9, 1, 1, 9, 1, 3, 2, 5, 1, 1, 1, 11, 2, 6, 1, 1, 1, 14, 11, 3, 1, 1, 153, 1, 1, 3, 5, 3, 1, 28, 1, 1, 2, 20, 1, 2, 5, 1, 23, 1, 1, 1, 1, 2, 9, 1, 5, 21, 2, 2, 8, 1, 15, 1, 2, 1, 1, 1, 26, 47, 2, 2, 4, 2, 1, 1, 1, 2, 1, 1, 2, 4, 3, 1, 7, 3, 1, 3, 9, 1, 1, 1, 1, 3, 14, 1, 16, 1, 1, 1, 2, 2, 1, 36, 2, 2, 1, 1, 2, 1, 3, 6, 1, 1, 43, 13, 1, 2, 4, 2, 2, 1, 14, 2, 1, 1, 2, 1, 1, 2, 1, 1, 2, 3, 1, 1, 1, 20, 1, 9, 10, 1, 238, 3, 2, 1, 1, 1, 2, 2, 1, 320, 2, 2, 1, 2, 1, 1, 3, 1, 1, 2, 1, 77, 27, 12, 5, 3, 21, 2, 9, 2, 4, 2, 1, 18, 1, 2, 2, 7, 1, 1, 1, 1, 1, 1, 1, 1, 1, 2, 1, 6, 1, 1, 1, 1, 1, 2, 1, 10, 9, 1, 6, 3, 6, 1, 1, 212, 1, 23, 5, 1, 1, 2, 5, 1, 4, 63, 4, 1, 1, 1, 1, 1, 1, 1, 1, 1, 1, 62, 15, 9, 5, 16, 1, 2, 2, 1, 4, 4, 110, 83, 1, 1, 11, 1, 8, 38, 1, 3, 2, 5, 1, 1, 1, 1, 1, 1, 945, 1, 2, 1, 2, 1, 2, 30, 1, 76, 5, 3, 67, 4, 105, 6, 1, 6, 40, 9, 2, 1, 1, 10, 1, 1, 1, 4, 1, 1, 1, 7, 1, 1, 6, 3, 1, 16, 2, 7, 1, 1, 1, 2, 14, 1, 9, 28, 3, 1, 1, 8, 46, 10, 14, 16, 1, 1, 5, 1, 23, 1, 4, 5, 218, 3, 12, 1, 13, 2, 19, 67, 1, 1, 3, 1, 1, 1, 1, 3, 2, 2, 1, 1, 1, 1, 1, 1, 1, 1, 2, 1, 1, 2, 2, 1, 4, 31, 6, 16, 2, 15, 1, 10, 7, 1, 5, 3, 1, 2, 1, 2, 10, 1, 4, 1, 1, 1, 8, 4, 1, 1, 3, 5, 8, 1, 6, 46, 9, 6, 5, 4, 9, 1, 7, 8, 19, 1, 5, 4, 1, 1, 2, 1, 1, 3, 3, 6, 5, 13, 1, 2, 5, 1, 3, 198, 12, 1, 12, 1, 1, 3, 1, 1, 2, 10, 1, 1, 2, 1, 1, 31, 1, 9, 1, 2, 1, 1, 1, 2, 87, 83, 49, 1, 2, 4, 1, 1, 3, 1, 1, 2, 2, 274, 19, 62, 4, 1, 2, 2, 4, 2, 1, 1, 2, 1, 1, 1, 1, 1, 1, 2, 1, 6, 1, 1, 2, 1, 1, 1, 2, 21, 14, 1, 1, 2, 18, 3, 1, 1, 1, 1, 1, 5, 155, 6, 6, 9, 3, 23, 1, 1, 3, 1, 6, 4, 1, 1, 1, 1, 3, 2, 1, 1, 2, 1, 1, 1, 1, 232, 2, 7, 1, 12, 2, 28, 1, 1, 1, 1, 6, 2, 2, 2, 1, 2, 1, 1, 3, 1, 8, 6, 5, 1, 8, 1, 1, 1, 1, 2, 2, 1, 2, 1, 2, 1, 1, 2, 2, 1, 1, 9, 2, 5, 12, 1, 4, 1, 2, 2, 4, 12, 3, 1, 12, 9, 2, 7, 3, 1, 4, 1, 3, 3, 1, 1, 1, 1, 1, 1, 1, 1, 1, 27, 2, 4, 3, 1, 2, 7, 6, 2, 5, 1, 1, 1, 2, 1, 19, 1, 1, 4, 8, 8, 1, 3, 1, 5, 8, 2, 1, 1, 70, 13, 7, 1, 3, 1, 4, 3, 6, 63, 1, 1, 4, 1, 1, 10, 1, 1, 2, 12, 1, 10, 1, 4, 1, 4, 1, 12, 5, 3, 1, 2, 1, 1, 1, 1, 2, 1, 678, 1, 2, 1, 4, 3, 9, 3, 3, 1, 35, 16, 9, 1, 1, 1, 1, 17, 1, 1, 1, 4, 1, 6, 6, 1, 2, 1, 4, 5, 1, 12, 3, 3, 1, 1, 5, 1, 1, 28, 26, 52, 7, 2, 60, 3, 37, 5, 36, 13, 2, 7, 1, 8, 3, 2, 1, 5, 2, 1, 2, 1, 11, 1, 1, 2, 4, 7, 1, 2, 2, 10, 7, 15, 3, 16, 1, 2, 1, 3, 1, 1, 1, 3, 1, 1, 1, 1, 3, 1, 1, 1, 2, 1, 1, 1, 2, 1, 40, 1, 2, 2, 2, 6, 6, 9, 10, 1, 3, 4, 5, 1, 1, 1, 1, 3, 1, 2, 4, 1, 2, 1, 1, 2, 5, 3, 15, 1, 1, 1, 11, 3, 1, 1, 1, 2, 8, 20, 45, 4, 2, 1, 3, 1, 3, 1, 1, 66, 7, 8, 1, 1, 1, 2, 1, 7, 4, 3, 1, 19, 5, 76, 11, 1, 3, 9, 1, 2, 7, 6, 5, 5, 2, 3, 3, 4, 1, 1, 1, 1, 1, 6, 13, 1, 1, 3672, 6, 1, 2, 1, 2, 11, 1, 1, 3, 1, 6, 1, 1, 2, 1, 1, 1, 1, 1, 1, 1, 3, 1, 1, 5, 3, 2, 5, 1, 3, 5, 1, 1, 4, 8, 4, 6, 10, 3, 12, 2, 13, 34, 1, 1, 10, 1, 1, 1, 1, 1, 3, 6, 3, 1, 7, 1, 5, 1, 1, 2, 2, 2, 4, 1, 1, 2, 2, 3, 1, 1, 3, 39, 8, 14, 3, 2, 2, 2, 1, 1, 1, 1, 1, 1, 3, 1, 26, 1, 1, 3, 1, 1, 6, 4, 5, 16, 1, 1, 7, 5, 14, 2, 2, 5, 2, 3, 2, 1, 1, 5, 1, 7, 1, 2, 2, 1, 1, 1, 1, 1, 3, 5, 21, 1, 2, 1, 2, 6, 1, 2, 1, 4, 2, 1, 10, 4, 1, 3, 1, 8, 1, 6, 4, 7, 1, 7, 1, 1, 3, 1, 2, 1, 1, 17, 8, 2, 7, 2, 5, 1, 12, 9, 1, 2, 2, 2, 3, 1, 3, 1, 1, 3, 1, 1, 2, 1, 1, 1, 2, 1, 14, 3, 2, 3, 3, 1, 1, 1, 1, 4, 2, 1, 1, 1, 1, 1, 1, 1, 4, 1, 1, 2, 8, 5, 1, 8, 1, 2, 2, 2, 4, 1, 1, 1, 2, 2, 1, 1, 1, 1, 2, 4, 3, 1, 21, 2, 1, 17, 1, 1, 3, 1, 4, 2, 3, 22, 1, 8, 3, 1, 2, 1, 8, 6, 1, 2, 1, 1, 1, 1, 2, 11, 7, 1, 2, 3, 3, 6, 2, 1, 1, 3, 2, 2, 3, 1, 4, 20, 2, 1, 26, 18, 1, 6, 1, 8, 4, 13, 3, 1, 6, 1, 2, 1, 2, 2, 1, 5, 1, 4, 3, 4, 1, 1, 2, 2, 1, 1, 1, 2, 1, 44, 6, 1, 2, 2, 25, 17, 1, 14, 1, 3, 1, 1, 8, 1, 3, 2, 4, 1, 6, 1, 1, 4, 1, 2, 6, 19, 16, 3, 9, 49, 7, 11, 1, 1, 21, 2, 4, 7, 6, 10, 8, 73, 2, 18, 1, 1, 9, 1, 2, 3, 1, 6, 1, 1, 1, 4, 7, 2, 3, 1, 1, 7, 1, 9, 1, 5, 1, 1, 1, 2, 2, 2, 5, 2, 9, 3, 20, 2, 9, 1, 74, 101, 9, 1, 2, 2, 27, 1, 4, 30, 12, 28, 10, 2, 2, 2, 7, 18, 2, 1, 1, 1, 7, 1, 1, 1, 1, 1, 2, 65, 29, 110, 2, 2, 1, 2, 1, 1, 2, 5, 1, 1, 1, 2, 1, 2, 9, 1, 1, 1, 12, 1, 6, 1, 1, 2, 14, 1, 2, 2, 9, 1, 4, 1, 2, 1, 1, 1, 1, 1, 2, 1, 1, 2, 2, 1, 3, 3, 7, 1, 3, 7, 25, 2, 1, 1, 1, 628, 1, 1, 2, 1, 1, 2, 5, 1, 1, 1, 12, 6, 15, 2, 1, 39, 2, 4, 2, 3, 4, 2, 4, 6, 1, 2, 1, 1, 1, 1, 3, 1, 1, 1, 2, 3, 6, 1, 1, 2, 15, 45, 2, 9, 1, 1, 1, 11, 4, 1, 5, 1, 1, 1, 6, 2, 6, 2, 2, 5, 1, 1, 1, 3, 1, 1, 3, 4, 4, 1, 7, 31, 10, 11, 58, 1, 3, 2, 1, 7, 2, 13, 1, 3, 13, 1, 22, 3, 5, 3, 21, 1, 1, 1, 4, 1, 4, 6, 1, 24, 8, 8, 5, 16, 1, 1, 1, 7, 3, 1, 2, 12, 5, 5120, 1, 1, 2, 1, 1, 4, 1, 1, 1, 1, 9, 1, 1, 256, 2, 3, 2, 15, 31, 4312, 1, 3, 1, 1, 1, 3, 1, 13, 1, 1, 1661, 138, 1, 2, 5, 1, 1, 7, 1, 1, 1, 29, 1, 1, 4, 1, 20, 27, 2, 2, 1, 1, 5, 1, 1, 2, 10, 4, 1, 7, 1, 2, 1, 3, 5, 5, 2, 1, 60, 6, 2, 1, 2, 14, 3, 1, 1, 2, 1, 1, 1, 4, 14, 2, 1, 1, 2, 9, 4, 1, 6, 1, 1, 1, 1, 6, 8, 2, 2, 12, 1, 6, 1, 1, 3, 21, 1, 1, 1, 4, 1, 1, 2, 8, 1, 2, 1, 5, 1, 8, 2, 2, 1, 4, 5, 2, 1, 1, 5, 1, 1, 26, 1, 1, 1, 10, 6, 2, 1, 4, 2, 1, 1, 4, 6, 7, 5, 1, 1, 1, 4, 30, 1, 1, 7, 1, 1, 1, 4, 1, 1, 1, 1, 1, 1, 1, 7, 1, 1, 76, 1, 2, 1, 1, 3, 1, 15, 18, 2, 1, 137, 5, 4, 4, 2, 1, 1, 2, 1, 44, 3, 98, 7, 9, 1, 1, 5, 10, 1, 4, 8, 2, 14, 32, 8, 2, 19, 1, 1, 6, 2, 1, 2, 2, 1, 1, 1, 2, 2, 3, 28, 2, 1, 30, 1, 1, 1, 3, 1, 11, 1, 3, 1, 3, 6, 13, 1, 6, 7, 9, 7, 7, 14, 2, 2, 1, 2, 2, 3, 1, 3, 2, 1, 3, 3, 7, 1, 1, 1, 2, 1, 1, 11, 1, 1, 1, 3, 12, 1, 2, 4, 2, 2, 1, 1, 2, 5, 4, 12, 1, 8, 9, 2, 1, 1, 12, 8, 9, 3, 7, 1, 7, 1, 1, 8, 1, 1, 2, 501, 17, 1, 4, 5, 12, 2, 2, 1, 8, 2, 1, 1, 1, 1, 1, 1, 1, 1, 3, 1, 1, 9, 1, 1, 1, 8, 3, 3, 9, 3, 2, 14, 4, 4, 2, 2, 2, 1, 2, 1, 1, 14, 1, 2, 1, 3, 6, 1, 4, 22, 1, 1, 1, 8, 1, 4, 110, 1, 19, 83, 1, 4, 1, 2, 6, 1, 7, 5, 2, 6, 1, 1, 19, 1, 1, 1, 2, 1, 1, 2, 2, 33, 45, 2, 1, 2, 1, 2, 1, 2, 1, 1, 2, 30, 1, 1, 1, 5, 7, 1, 38, 1, 11, 1, 3, 1, 1, 1, 2, 1, 100, 1, 1, 12, 1, 2, 21, 3, 26, 10, 11, 1, 1, 7, 5, 4, 6, 2, 1, 1, 263, 1, 1, 1, 1, 14, 17, 2, 1, 61, 3, 1, 1, 13, 4, 1, 1, 2, 1, 1, 5, 2, 1, 5, 1, 1, 3, 1, 6, 1, 2, 8, 3, 1, 1, 1, 5, 1, 8, 3, 1, 1, 1, 1, 1, 1, 1, 1, 7, 1, 1, 1, 1, 1, 2, 9, 2, 1, 8, 1, 2, 6, 4, 1, 1, 3, 1, 1, 7, 3, 1, 1, 8, 1, 11, 2, 3, 1, 1, 1, 154, 1, 1, 26, 2, 1, 9, 29, 48, 3, 1, 1, 2, 1, 1, 2, 1, 1, 3, 1, 28, 2, 4, 1, 2, 1, 1, 1, 1, 1, 1, 6, 1, 1, 1, 1, 1, 2, 1, 1, 5, 47, 1, 2, 1, 1, 4, 1, 1, 19, 5, 1, 2, 4, 3, 1, 1, 16, 2, 2, 2, 3, 9, 3, 1, 4, 4, 2, 3, 8, 1, 1, 7, 1, 1, 52, 2, 1, 34, 9, 2, 73, 4, 1, 1, 1, 1, 4, 5, 2, 12, 2, 1, 1, 4, 1, 1, 8, 1, 9, 2, 2, 1, 7, 33, 2, 5, 1, 1, 2, 1, 7, 1, 3, 1, 2, 1, 21, 2, 1, 2, 4, 1, 8, 3, 1, 5, 16, 7, 10, 1, 8, 6, 1, 1, 19, 2, 3, 1, 1, 1, 3, 2, 1, 1, 2, 1, 1, 1, 1, 3, 1, 25, 31, 20, 2, 8, 3, 9, 2, 1, 1, 1, 1, 3, 2, 4, 146, 2, 4, 1, 51, 1, 4, 35, 2, 52, 2, 1, 11, 3, 1, 86, 10, 4, 13, 12, 115, 21, 1, 2, 2, 1, 3, 4, 2, 2, 5, 1, 2, 13, 3, 2, 1, 12, 1, 1, 1, 1, 25, 2, 5, 1, 1, 1, 6, 1, 7, 5, 6, 2, 1, 1, 7, 1, 2, 1, 6, 1, 10, 1, 2, 2, 1, 49, 6, 5, 1, 2, 24, 43, 1, 9, 3, 1, 1, 1, 16, 2, 1, 9, 1, 3, 5, 1, 12, 14, 9, 2, 2, 144, 2, 1, 1, 49, 3, 60, 20, 3, 4, 1, 9, 1, 3, 73, 1, 50, 2, 1, 1, 3, 5, 1, 16, 10, 2, 2, 1, 1, 2, 1, 1, 1, 6, 1, 1, 3, 7, 1, 1, 13, 1, 12, 1, 6, 4, 4, 1, 10, 2, 4, 41, 2, 3, 1, 1, 1, 3, 5, 1, 3, 3, 2, 4, 9, 3, 23, 1, 1, 1, 3, 2, 1, 6, 1, 1, 1, 3, 199, 1, 10, 15, 15, 1, 1, 12, 76, 8, 1, 13, 7, 2, 1, 25, 11, 1, 1, 8, 1, 98, 21, 1, 1, 1, 17, 3, 3, 1, 19, 1, 1, 2, 1, 5, 1, 1, 1, 1, 7, 10, 1, 2, 5, 2, 1, 1, 1, 7, 2, 5, 1, 1, 2, 2, 2, 1, 4, 1, 1, 1, 1, 6, 22, 3, 295, 1, 8, 1, 1, 5, 1, 6, 10, 4, 2, 10, 97, 2, 1, 8, 15, 1, 2, 3, 8, 6, 3, 8, 14, 3, 57, 1, 824, 7, 2, 23, 1, 1, 58, 13, 2, 4, 2, 1, 1, 3, 1, 1, 1, 2, 2, 4, 4, 3, 2, 2, 8, 23, 3, 1, 13, 11, 1, 1, 1, 2, 1, 1, 1, 85, 4, 1, 1, 2, 24, 47, 2, 1, 5, 1, 5, 5, 1, 5, 4, 4, 1, 1, 8, 3, 1, 4, 1, 2, 1, 2, 2, 1, 2, 33, 2, 7, 2, 7, 10, 1, 1, 5, 1, 3, 7, 1, 16, 14, 11, 1, 2, 1, 2, 1, 360, 1, 1, 73, 11, 5, 1, 38, 1, 1, 1, 68, 1, 22, 2, 97, 1, 11, 1, 3, 1, 1, 6, 21, 6, 1, 1, 2, 2, 1, 2, 1, 3, 1, 1, 10, 4, 1, 1, 2, 1, 2, 9, 21, 6, 1, 1, 3, 1, 2, 1, 4, 2, 2, 2, 3, 2, 26, 6, 2, 1, 1, 2, 2, 4, 1, 7, 1, 1, 1, 3, 11, 2, 5, 8, 1, 241, 27, 3, 5, 1, 1, 2, 2, 1, 202, 2, 10, 72, 1, 116, 1, 1, 2, 4, 1, 1, 2, 1, 1, 2, 2, 5, 23, 5, 1, 1, 1, 3, 1, 1, 4, 5, 1, 3, 2, 15, 11, 8, 4, 26, 12, 10, 1, 93, 187, 33, 1, 3, 1, 26, 2, 3, 4, 4, 5, 3, 1, 8, 1, 1, 13, 1, 249, 1, 2, 22, 1, 1, 3, 1, 35, 7, 17, 13, 1, 21, 5, 1, 85, 3, 7, 4, 7, 2, 6, 1, 5, 1, 4, 1, 1, 1, 7, 1, 1, 1, 9, 1, 1, 7, 1, 11, 3, 1, 2, 8, 3, 1, 4, 1, 3, 15, 2, 1, 1, 3, 2, 2, 5, 5, 2, 7, 3, 4, 1, 1, 1, 9, 4, 1, 1, 1, 2, 1, 6, 1, 4, 2, 1, 2, 1, 1, 1, 1, 3, 2, 1, 12, 1, 1, 4, 2, 4, 1, 13, 2, 2, 9, 4, 1, 1, 1, 1, 1, 2, 1, 1, 1, 1, 1, 2, 1, 3, 2, 2, 1, 1, 1, 2, 21, 1, 3, 2, 6, 1, 1, 4, 18, 5, 2, 1, 1, 1, 14, 1, 2, 1, 1, 1, 1, 1, 1, 3, 25, 1, 3, 2, 8, 10, 1, 1, 1, 2, 2, 2, 1, 3, 1, 2, 11, 1, 1, 6, 4, 2, 1, 1, 373, 1, 1, 2, 3, 6, 1, 20, 15, 3, 1, 1, 1, 7, 1, 9, 3, 1, 55, 23, 4, 1, 1, 2, 2, 1, 4, 27, 4, 2, 1, 3, 3, 6, 1, 4, 10, 1, 1, 5, 1, 2, 1, 31, 22, 2, 1, 1, 34, 8, 1, 2, 7, 1, 7, 3, 64, 1, 423, 1, 3, 21, 24, 361, 8, 1, 128, 2, 1, 2, 1, 2, 1, 1, 5, 46, 2, 1, 2, 3, 1, 3, 2, 1, 3, 2, 12, 2, 5, 1, 1, 3, 1, 1, 3, 1, 2, 16, 1, 1, 3, 1, 228, 12, 9, 2, 1, 80, 4, 4, 1, 4, 1, 1, 1, 5, 2, 22, 1, 3, 1, 3, 1, 1, 22, 1, 1, 1, 3, 2, 1, 1, 2, 2, 1, 2, 2, 8, 3, 25, 3, 1, 1, 3, 15, 1, 2, 3, 27, 7, 1, 6, 1, 12, 1, 1, 3, 1, 1, 1, 6, 1, 1, 1, 1, 1, 8, 1, 1, 269, 1, 1, 7, 1, 2, 1, 1, 1, 4, 1, 3, 1, 1, 1, 1, 2, 1, 3, 1, 1, 4, 1, 5, 1, 1, 1, 2, 1, 1, 2, 3, 1, 2, 1, 1, 6, 26, 12, 1, 1, 13, 7, 5, 13, 1, 2, 1, 3, 2, 4, 1, 3, 9, 15, 6, 1, 2, 5, 1, 14, 1, 1, 5, 16, 1, 57, 2, 1, 1, 17, 2, 5, 4, 13, 5, 1, 4, 7, 2, 21, 1, 1, 3, 2, 3, 3, 12, 2, 1, 1, 3, 1, 1, 1, 1, 2, 14, 1, 5, 1, 1, 3, 7, 3, 38, 1, 2, 11, 4, 5, 1, 85, 4, 3, 2, 2, 11, 1, 1, 6, 1, 15, 6, 4, 1, 1, 1, 155, 1, 2, 1, 1, 6, 1, 2, 3, 1, 1, 1, 1, 2, 2, 1, 1, 5, 2, 1, 1, 11, 7, 53, 1, 16, 2, 6, 1, 1, 17, 1, 1, 9, 8, 1, 1, 1, 1, 4, 1, 1, 4, 1, 6, 3, 13, 1, 1, 1, 5, 401, 47, 1, 1, 23, 1, 2, 1, 1, 1, 1, 3, 1, 1, 5, 1, 2, 3, 1, 1, 1, 7, 5, 1, 3, 3, 1, 4, 1, 1, 1, 1, 1, 1, 1, 2, 3, 1, 1, 2, 2, 1, 1, 4, 1, 1, 2, 3, 1, 2, 1, 104, 2, 1, 3, 3, 28, 1, 5, 7, 2, 2, 38, 8, 1, 1, 6, 45, 1, 1, 34, 1, 1, 1, 18, 6, 4, 14, 1, 3, 1, 1, 20, 2, 7, 2, 2, 2, 1, 1, 12, 3, 5, 24, 11, 18, 1, 2, 11, 1, 13, 6, 16, 3, 2, 1, 1, 1, 20, 1, 1, 10, 1, 4, 2, 1, 2, 4, 2, 1, 1, 1, 82, 4, 19, 1, 4, 1, 5, 2, 4, 2, 1, 1, 5, 22, 1, 3, 1, 3, 1, 47, 7, 2, 17, 1, 1, 26, 82, 10, 2, 2, 8, 2, 1, 12, 3, 1, 24, 1, 2, 1, 2, 2, 1, 1, 1, 1, 2, 1, 1, 5, 1, 1, 4, 2, 2, 4, 2, 2, 11, 1, 41, 1, 1, 7, 1, 1, 10, 2, 1, 1, 5, 3, 1, 1, 11, 2, 1, 2, 1, 1, 1, 3, 13, 1, 1, 64, 58, 4, 1, 2, 1, 1, 2, 1, 1, 1, 1, 1, 14, 4, 2, 1, 1, 15, 1, 1, 6, 1, 2, 1, 3, 1, 8, 2, 1, 1, 6, 2, 2, 3, 9, 9, 1, 1, 5, 1, 3, 4, 1, 1, 2, 1, 1, 8, 2, 6, 13, 1, 1, 8, 68, 1, 1, 1, 2, 2, 2, 6, 1, 3, 2, 12, 35, 6, 7, 7, 1, 11, 2, 2, 1, 7, 1, 1, 5, 1, 1, 1, 2, 220, 3, 11, 1, 1, 19, 1, 1, 14, 32, 1, 9, 5, 8, 6, 9, 1, 1, 7, 3, 5, 1, 1, 9, 4, 6, 7, 13, 1, 1, 1, 29, 8, 3, 3, 3, 2, 2, 2, 1, 1, 1, 1, 93, 18, 4, 19, 2, 20, 7, 3, 3, 7, 1, 1, 1, 1, 1, 7, 1, 7, 3, 6, 1, 1, 1, 1, 1, 1, 1, 2, 28, 1, 1, 3, 1, 55, 1, 140, 1, 6, 3, 10, 4, 2, 1, 1, 4, 1, 1, 2, 1, 5, 1, 1, 3, 4, 2, 2, 1, 1, 1, 2, 3, 1, 5, 1, 1, 2, 1, 1, 10, 2, 1, 5, 4, 3, 2, 3, 1, 1, 1, 2, 1, 5, 3, 3, 6, 9, 1, 2, 4, 2, 2, 20, 2, 1, 1, 3, 1, 1, 1, 1, 1, 1, 4, 1, 1, 4, 3, 1, 1, 1, 1, 57, 22, 2, 16, 1, 27, 17, 2, 1, 3, 4, 3, 6, 7, 1, 4, 1, 2, 1, 1, 2, 4, 1, 2, 2, 5, 2, 2, 2, 1, 44, 17, 9, 3, 30, 1, 5, 1, 1, 1, 3, 1, 1, 5, 2, 3, 2, 2, 7, 2, 5, 1, 1, 2, 6, 12, 21, 1, 3, 3, 18, 2, 80, 2, 3, 1, 33, 4, 1, 2, 1, 1, 1, 6, 1, 1, 1, 1, 3, 1, 1, 3, 1, 1, 5, 1, 8, 53, 2, 1, 3, 176, 20, 1, 1, 8, 1, 1, 48, 1, 1, 1, 5, 2, 4, 1, 8, 1, 1, 1, 10, 3, 3, 2, 1, 29, 11, 3, 2, 3, 2, 1, 1, 2, 2, 1, 2, 10, 1, 1, 7, 5, 9, 1, 2, 1, 57, 1, 2, 5, 1, 7, 1, 1, 15, 2, 1, 1, 2, 12, 1, 1, 1, 1, 1, 63, 3, 1, 2, 1, 23, 1, 21, 2, 1, 1, 15, 1, 1, 5, 1041, 3, 4, 2, 2, 1, 2, 1, 2, 8, 1, 1, 7, 1, 3, 1, 1, 1, 2, 1, 2, 1, 1, 1, 4, 1, 1, 1, 7, 2, 1, 1, 1, 1, 1, 1, 2, 1, 1, 1, 1, 1, 785, 72, 1, 31, 3, 1, 3, 106, 2, 1, 1, 2, 1, 6, 4, 1, 4, 1, 1, 1, 1, 10, 2, 1, 16, 5, 2, 1, 4, 1, 10, 1, 1, 1, 8, 2, 1, 1, 3, 1, 28, 22, 8, 3, 1, 53, 2128, 6, 24, 11, 2, 1, 2, 7, 12, 427, 94, 2, 1, 1, 2, 1, 1, 218, 26, 24, 2, 11, 594, 3, 1, 3, 21, 4, 3, 4, 6, 1, 1, 2, 4, 1, 3, 1, 1, 1, 1, 1, 1, 1, 4, 2, 1, 1, 2, 1, 11, 6, 2, 5, 1, 1, 4, 1, 1, 4, 5, 2, 8, 1, 1, 8, 1, 1, 7, 1, 8, 34, 3, 5, 6, 6, 1, 5, 1, 2, 1, 9, 1, 5, 40, 17, 1, 3, 1, 3, 6, 3, 3, 7, 4, 103, 83, 9, 5, 2, 1, 1, 1, 1, 2, 1, 90, 1, 2, 2, 2, 1, 8, 1, 2, 1, 1, 2, 1, 2, 1, 1, 100, 1, 1, 14, 3, 1, 2, 2, 1, 14, 9, 12, 2, 73, 2, 4, 7, 1, 1, 1, 2, 1, 2, 23, 10, 4, 1, 1, 2, 8, 1, 4, 2, 1, 3, 2, 1, 2, 13, 2, 3, 2, 10, 1, 6, 1, 8, 2, 1, 1, 44, 9, 1, 2, 13, 1, 6, 1, 1, 1, 1, 1, 3, 3, 2, 1, 1, 1, 5, 105, 4, 1, 3, 9, 2, 1, 1, 3, 1, 2, 4, 30, 3, 5, 1, 5, 2, 6, 14, 5, 1, 35, 2, 4, 5, 2, 52, 30, 2, 1, 1, 4, 1, 1, 3, 3, 1, 2, 2, 1, 3, 6, 3, 1, 1, 2, 3, 5, 41, 1, 2, 80, 13, 1, 13, 1, 1, 11, 23, 1, 1, 9, 1, 1, 2, 1, 2, 72, 20, 1, 4, 4, 1, 49, 1, 12, 1, 1, 1, 4, 1, 1, 2, 4, 2, 1, 2, 1, 1, 1, 2, 3, 1, 7, 2, 70, 1, 1, 1, 8, 1, 2, 1, 1, 1, 2, 1, 13, 1, 9, 1, 1, 7, 1, 3, 3, 4, 1, 10, 6, 2, 1, 1, 11, 4, 1, 2, 1, 374, 1, 23, 329, 4, 4, 4, 1, 1, 9, 1, 6, 18, 3, 2, 1, 2, 67, 2, 1, 3, 43, 25, 1, 2, 1, 2, 4, 4, 15, 19, 6, 1, 4, 3, 5, 1, 14, 2, 1, 2, 90, 2, 1, 32, 6, 3, 10, 2, 1, 2, 1, 7, 1, 1, 1, 5, 2, 14, 6, 5, 1, 1, 4, 28, 3, 1, 1, 1, 1, 1, 13, 461, 2, 2, 18, 15, 4, 1, 1, 5, 1, 1, 44, 3, 1, 4, 13, 1, 1, 13, 5, 7, 1, 5, 1, 2, 5, 1, 1, 1, 28, 4, 1, 1, 1, 59, 14, 1, 5, 2, 1, 1, 1, 1, 1, 1, 1, 17, 8, 9, 1, 1, 1, 5, 3, 2, 53, 5, 1, 1, 5, 2, 4, 2, 7, 1, 2, 1, 1, 21, 1, 2, 7, 1, 1, 1, 4, 1, 1, 1, 1, 19, 17, 1, 1, 1173, 7, 12, 14, 4, 27, 1, 4, 13, 4, 199, 1, 9, 1, 2, 3, 13, 6, 12, 2, 1, 1, 4, 7, 1, 1, 1, 1, 3, 1, 97, 1, 2, 2, 2, 12, 1, 1, 1, 133, 1, 16, 1, 1, 1, 5, 6, 17, 10, 7, 1, 3, 2, 1, 2, 2, 1, 1, 37, 1, 41, 14, 3, 1, 10, 3, 2, 1, 1, 1, 1, 1, 1, 1, 1, 1, 3, 2, 2, 6, 1, 3, 1, 1, 1, 1, 1, 2, 1, 1, 2, 1, 1, 1, 1, 1, 12, 1, 1, 1, 1, 2, 6, 1, 2, 7, 2, 1, 1, 4, 5, 2, 10, 1, 1, 3, 1, 1, 6, 2, 1, 3, 1, 7, 7, 2, 6, 1, 13, 2, 2, 4, 5, 14, 6, 12, 1, 2, 3, 1, 1, 1, 2, 69, 30, 2, 8, 22, 64, 4, 1, 1, 3, 1, 3, 2, 1, 3, 1, 1, 2, 1, 1, 1, 3, 1, 1, 34, 7, 1, 3, 6, 25, 12, 3, 1, 1, 1, 1, 1, 13, 1, 1, 2, 7133, 248, 1, 21, 1, 1, 9, 4, 32, 5, 17, 2, 93, 3, 1, 30, 2, 1, 1, 2, 3, 1, 2, 7, 4, 7, 1, 1, 1, 1, 215, 3, 1, 1, 1, 13, 2, 9, 5, 1, 1, 1, 14, 1, 2, 249, 26, 1, 1, 1, 1, 2, 6, 3, 1, 1, 1, 10, 1, 4, 6, 2, 2, 1, 1, 2, 2, 6, 1, 1, 1, 2, 1, 1307, 1, 134, 3, 1234, 1, 33, 1, 1, 1, 1, 431, 1, 2, 3, 7, 2, 16, 1, 1, 1, 1, 1, 4, 2, 1, 1, 4, 4, 2, 1, 32, 6, 1, 34, 4, 2, 7, 35, 2, 2, 2, 10, 1, 7, 1, 1, 1, 1, 1, 3, 2, 1, 3, 2, 1, 11, 19, 4, 1, 8, 5, 1, 2, 2, 1, 1, 4, 3, 1, 1, 7, 1, 1, 1, 1, 4, 1, 1, 9, 674, 1, 1, 4, 1, 2, 1, 4, 1, 2, 1, 5, 1, 2, 1, 35, 3, 1, 2, 1, 1, 3, 29, 1, 1, 5, 2, 1, 2, 3, 2, 2, 3, 1, 1, 9, 199, 28, 5, 4, 7, 1, 1, 1, 2, 1, 1, 1, 1, 1, 1, 4, 1, 1, 1, 43, 8, 1, 1, 1, 2, 1, 1, 1, 1, 1, 250, 49, 41, 3, 1, 17, 2, 177, 2, 8, 579, 3, 1, 1, 13, 3, 1, 5, 1, 1, 1, 13, 1, 1, 1, 1, 11, 3, 5, 1, 1, 2, 1, 2, 4, 1, 3, 1, 1, 1, 1, 5, 7, 3, 19, 3, 4, 2, 4, 1, 3, 2, 2, 1, 15, 5, 6, 1, 1, 1, 1, 24, 1, 2, 1, 3, 2, 2, 3, 1, 1, 1, 272, 1, 1, 3, 4, 36, 1, 1, 1, 3, 1, 1, 18, 1, 2, 1, 2, 17, 1, 2, 1, 2, 1, 1, 1, 1, 1, 1, 2, 5, 2, 1, 2, 1, 2, 2, 1, 1, 1, 5, 3, 1, 1, 2, 2, 7, 1, 10, 1, 1, 1, 1, 1, 1, 2, 3, 1, 18, 7, 2, 1, 27, 1, 1, 1, 2, 3, 4, 1, 1, 4, 1, 1, 3, 1, 10, 2, 1, 4, 1, 1, 5, 1, 1, 1, 5, 2, 1, 1, 1, 1, 2, 1, 1, 1, 1, 1, 1, 1, 3, 3, 1, 1, 4, 1, 6, 1, 1, 6, 1, 3, 3, 5, 1, 1, 5, 3, 9, 2, 3, 13, 1, 2, 2, 1, 3, 2, 252, 1, 2, 1, 1, 1, 1, 1, 6, 1, 1, 1, 1, 53, 35, 1, 2, 2, 1, 1, 28, 26, 14, 11, 3, 2, 3, 22, 1, 12, 1, 4, 1, 5, 3, 1, 2, 5, 12, 4, 4, 2, 1, 3, 10, 2, 23, 2, 1, 19, 11, 7, 2, 4, 3, 1, 11, 3, 2, 4, 1, 3, 13, 5, 1, 1, 5, 3, 1, 1, 5, 9, 4, 3, 2, 1, 4, 3, 23, 1, 1, 1, 13, 1, 1, 1, 5, 1, 3, 1, 9, 9, 2, 1, 1, 1, 1, 7, 4, 1, 1, 3, 1, 1, 2, 1, 1, 1, 1, 1, 1, 1, 2, 1, 1, 7, 1, 1, 1, 9, 13, 10, 1, 1, 1, 1, 1, 1, 8, 5, 2, 2, 2, 1, 2, 4, 1, 1, 4, 6, 6, 1, 1, 4, 1, 1, 1, 1, 1, 3, 1, 2, 7, 1, 3, 34, 2, 17, 1, 27, 1, 33, 1, 1, 3, 2, 1, 1, 7, 23, 2, 1, 1, 1, 1, 139, 2, 1, 1, 1, 1, 35, 65, 2, 1, 2, 17, 1, 1, 2, 34, 21, 8, 12, 5, 8, 8, 1, 5, 1, 1, 4, 1, 13, 36, 18, 5, 1, 8, 2, 1, 61, 1, 1, 2, 2, 1, 1, 1, 13, 1, 2, 8, 4, 2, 7, 1, 2, 5, 4, 1, 1, 1, 10, 9, 2, 1, 2, 30, 5, 12, 5, 1, 3, 1, 1, 3, 4, 7, 1, 1, 5, 1, 1, 6, 1, 1, 1, 4, 1, 42, 1, 4, 1, 2, 2, 1, 7, 6, 2, 1, 20, 1, 4, 1, 8, 2, 2, 15, 4, 9, 1, 4, 1, 4, 1, 5, 2, 1, 8, 1, 9, 1, 2, 1, 2, 2, 1, 1, 1, 2, 1, 10, 1, 1, 10, 1, 2, 1, 1, 1, 1, 4, 1, 1, 1, 8, 5, 3, 2, 2, 2, 1, 1, 2, 1, 3, 3, 1, 2, 4, 1, 3, 1, 1, 1, 1, 1, 4, 2, 5, 1, 1, 4, 2, 8, 1, 6, 1, 1, 1, 1, 1, 211, 1, 2, 8, 1, 1, 3, 1, 1, 2, 2, 7, 1, 1, 2, 1, 1, 1, 13, 1, 1, 2, 1, 1, 1, 2, 2, 83, 1, 2, 7, 51, 1, 3, 234, 249, 19, 9, 34, 2, 2, 2, 1, 8, 86, 5, 5, 5, 3, 62, 3, 2, 2, 4, 1, 2, 4, 1, 1, 1, 2, 2, 2, 2, 1, 1, 3, 2, 1, 2, 1, 2, 1, 1, 1, 1, 1, 1, 1, 3, 4, 2, 2, 26, 8, 2, 1, 1, 61, 17, 34, 1, 4, 1, 1, 2, 18, 1, 1, 1, 2, 4, 1, 15, 4, 1, 1, 3, 1, 4, 9, 10, 1, 2, 2, 1, 1, 4, 1, 1, 3, 6, 1, 43, 1, 1, 10, 1, 1, 1, 5, 1, 2, 7, 1, 6, 1, 1, 1, 5, 1, 8, 12, 4, 7, 10, 2, 2, 1, 14, 1, 1, 1, 4, 2, 1, 5, 1, 1, 3, 1, 1, 2, 17, 2, 1, 2, 3, 20, 1, 8, 2, 42, 1, 1, 3, 1, 4, 2, 2, 3, 1, 60, 2, 3, 1, 1, 10, 4, 1, 1, 2, 1, 2, 5, 5, 362, 1, 67, 10, 1, 6, 138, 1, 36, 2, 3, 3, 1, 2, 3, 1, 2, 3, 1, 1, 1, 1, 1, 1, 1, 6, 2, 4, 3, 1, 2, 1, 3, 6, 2, 2, 1, 3, 1, 3, 1, 1, 4, 1, 1, 6, 1, 3, 5, 1, 1, 2, 2, 1, 1, 1, 3, 3, 1, 1, 1, 1, 1, 1, 1, 2, 3, 1, 1, 3, 4, 1, 1, 14, 15, 1, 3, 1, 6, 1, 1, 4, 1, 1, 2, 9, 1, 15, 1, 1, 1, 2, 3, 1, 1, 3, 1, 1, 1, 1, 93, 4, 1, 2, 26, 5, 3, 1, 1, 5, 1, 1, 15, 1, 3, 3, 6, 7, 1, 3, 15, 1, 1, 4, 3, 1, 1, 1, 9, 1, 2, 3, 1, 1, 2, 3, 5, 1, 1, 3, 18, 1, 1, 143, 1, 56, 6, 15, 18, 5, 4, 1, 1, 62, 1, 1, 94, 1, 1, 3, 2, 1, 40, 14, 1, 3, 31, 7, 11, 2, 2, 25, 4, 9, 2, 63, 41, 1, 2, 49, 2, 1, 7, 1, 1, 1, 14, 2, 5, 283, 3, 3, 1, 7, 10, 27, 1, 1, 1, 1, 4, 4, 1, 4, 1, 1, 1, 1, 1, 1, 2, 1, 4, 1, 1, 30, 2, 1, 1, 2, 4, 1, 2, 1, 1, 2, 10, 1, 6, 23, 2, 1, 31, 3, 1, 1, 14, 28, 1, 120, 3, 7, 1, 2, 1, 26, 3, 1, 35, 2, 3, 4, 1, 3, 3, 5, 3, 1, 1, 1, 1, 19, 2, 2, 1, 2, 2, 2, 17, 1, 1, 2, 3, 1, 15, 14, 1, 5, 1, 61, 6, 1, 4, 25, 1, 10, 1, 1, 1, 1, 1, 2, 1, 2, 1, 2, 1, 5, 3, 3, 2, 2, 1, 3, 2, 1, 1, 6, 7, 1, 3, 19, 1, 1, 17, 62, 21, 1, 2, 3, 1, 5, 1, 1, 4, 37, 8, 3, 1, 3, 6, 2, 1, 3, 1, 1, 1, 11, 2, 1, 3, 6, 1, 1, 1, 2, 3, 1, 4, 2, 12, 1, 1, 53, 3, 1, 3, 18, 2, 6, 5, 5, 2, 1, 1, 4, 1, 18, 3, 5, 8, 1, 1, 1, 4, 4, 1, 5, 5, 5, 1, 2, 1, 1, 13, 5, 50, 26, 27, 2, 1, 1, 2, 3, 1, 1, 1, 1, 1, 6, 2, 1, 1, 1, 5, 9, 6, 1, 1, 7, 1, 2, 17, 40, 9, 1, 2, 1, 2, 1, 1, 2, 2, 2, 10, 1, 1, 1, 1, 2, 1, 1, 2, 4, 2, 3, 115, 3, 79, 10, 4, 1, 2, 14, 7, 19, 3, 2, 2, 1, 1, 4, 3, 1, 7, 4, 1, 1, 1, 1, 2, 2, 1, 1, 1, 1, 2, 1, 2, 2, 17, 1, 1, 5, 1, 2, 1, 7, 1, 1, 2, 2, 1, 2, 1, 12, 1, 13, 12, 11, 1, 2, 1, 3, 1, 1, 2, 18, 18, 1, 1, 1, 1, 10, 72, 9, 2, 1, 1, 2, 1, 1, 4, 1, 1, 1, 6, 1, 4, 1, 1, 2, 4, 2, 1, 5, 1, 1, 2, 1, 1, 1, 2, 1, 4, 1, 1, 72, 5, 2, 1, 1, 1, 2, 1, 10, 10, 1, 1, 1, 19, 6, 1, 1, 1, 1, 2, 1, 1, 1, 2, 1, 1, 48, 29, 1, 8, 2, 12, 1, 5, 1, 21, 3, 1, 1, 2, 2, 14, 3, 1, 2, 1, 4, 1, 1, 8, 1, 4, 2, 11, 1, 5, 1, 1, 4, 1, 8, 9, 2, 1, 10, 21, 1, 6, 1, 1, 1, 1, 1, 1, 2, 129, 2, 3, 2, 1, 4, 1, 1, 2, 1, 3, 30, 3, 1, 1, 2, 15, 1, 8, 1, 2, 1, 4, 13, 1, 11, 5, 8, 1, 15, 1, 1, 9, 1, 3, 9, 18, 1, 3, 1, 7, 3, 2, 8, 2, 2, 4, 4, 2, 2, 4, 1, 11, 6, 4, 1, 3, 1, 18, 1, 2, 7, 1, 10, 1, 104, 2, 1, 3, 7, 60, 5, 2, 33, 5, 2, 1, 1, 18, 6, 28, 1, 1, 1, 1, 1, 4, 1, 1, 13, 37, 28, 22, 8, 3, 18, 96, 1, 6, 1, 2, 4, 2, 2, 21, 5, 4, 1, 5, 1, 7, 5, 1, 1, 3, 2, 3, 25, 9, 1, 2, 1, 1, 7, 1, 1, 3, 1, 2, 7, 11, 2, 1, 1, 1, 3, 46, 5, 1, 3, 3, 1, 1, 5, 3, 1, 3, 2, 1, 1, 2, 5, 1, 1, 1, 1, 34, 6, 12, 25, 4, 1, 1, 1, 1, 1, 3, 1, 4, 1, 1, 2, 12, 1, 4, 1, 1, 1, 3, 1, 4, 1, 6, 4, 2, 1, 3, 1, 1, 2, 11, 8, 1, 1, 1, 1, 5, 3, 1, 6, 3, 1, 2, 1, 4, 2, 1, 5, 1, 1, 1, 1, 12, 9, 1, 4, 3, 2, 1, 2, 1, 1, 2, 1, 4, 1, 10, 1, 5, 19, 5, 2, 44, 23, 14, 2, 1, 1, 47, 13, 1, 1, 1, 6, 2, 1, 42, 1, 7, 2, 2, 23, 4, 1, 1, 1, 1, 1, 1, 2, 1, 1, 2, 1, 1, 1, 1, 1, 1, 10, 1, 1, 6, 1, 1, 2, 5, 1, 13, 2, 1, 2, 1, 39, 2, 2, 8, 2, 1, 1, 1, 1, 1, 2, 2, 1, 18, 5, 3, 1, 2, 1, 2, 5, 1, 1, 2, 1, 2, 2, 3, 27, 7, 7, 3, 25, 25, 3, 3, 14, 1, 4, 1, 4, 6, 3, 3, 2, 26, 2, 5, 3, 1, 1, 8, 4, 1, 1, 9, 1, 1, 8, 1, 2, 3, 2, 5, 2, 1, 6, 3, 1, 1, 3, 1, 1, 4, 1, 62, 2, 14, 1, 4, 5, 1, 1, 3, 2, 8, 3, 1, 1, 1, 19, 1, 1, 3, 1, 1, 4, 1, 2, 1, 1, 1, 1, 4, 1, 6, 2, 1, 11, 9, 1, 1, 3, 91, 1, 32, 19, 2, 1, 2, 10, 4, 1, 4, 5, 1, 1, 1, 12, 1, 7, 1, 1, 3, 1, 1, 4, 11, 1, 1, 8, 6, 1, 21, 69, 2, 2, 1, 2, 1, 1, 4, 4, 9, 1, 7, 1, 1, 9, 1, 10, 2, 1, 2, 13, 11, 1, 31, 4, 3, 24, 1, 1, 1, 27, 1, 36, 1, 28, 8, 2, 1, 1, 1, 1, 1, 1, 2, 2, 3, 2, 3, 3, 1, 26, 4, 165, 1, 1, 1, 1, 4, 1, 3, 1, 4, 1, 1, 9, 2, 1, 3, 19, 1, 1, 4, 5, 7, 1, 6, 10, 2, 1, 2, 3, 1, 1, 4, 2, 4, 4, 1, 4, 2, 7, 1, 1, 1, 3, 1, 1, 1, 13, 1, 5, 1, 1, 7, 1, 2, 1, 10, 1, 2, 1, 9, 23, 3, 1, 4, 1, 6, 10, 1, 14, 9, 1, 4, 1, 1, 2, 2, 9, 9, 8, 1, 1, 1, 7, 1, 1, 1, 3, 4, 1, 1, 1, 5, 3, 1, 1, 1, 9, 1, 2, 1, 1, 29, 3, 6, 4, 2, 1, 5, 3, 12, 2, 3, 1, 1, 1, 8, 2, 1, 4, 4, 1, 1, 4, 1, 8, 3, 1, 1, 4, 4, 1, 79, 3, 44, 5, 7, 7, 1, 2, 3, 1, 1, 1, 1, 4, 1, 2, 2, 1, 37, 7, 4, 126, 1, 7, 2, 4, 3, 1, 1, 1, 1, 1, 3, 1, 1, 3, 1, 13, 5, 1, 1, 1, 3, 1, 1, 1, 1, 1, 1, 10, 22, 1, 1, 2, 13, 5, 1, 1, 5, 4, 1, 1, 1, 3, 253, 27, 3, 5, 9, 2, 1, 10, 4, 2, 1, 25, 5, 2, 4, 8, 4, 2, 9, 1, 2, 1, 245, 2, 4, 30, 5, 24, 3, 1, 4, 57, 6, 23, 25, 208, 7, 4, 1, 1, 1, 5, 51, 12, 22, 2, 17, 1, 2, 4, 2, 3, 2, 4, 3, 1, 1, 1, 1, 1, 3, 1, 15, 1, 4, 12, 4, 1, 3, 1, 1, 1, 3, 4, 2, 1, 58, 3, 1, 1, 1, 1, 2, 2, 7, 2, 1, 2, 3, 1, 3, 1, 1, 5, 10, 2, 12, 7, 1, 1, 2, 22, 4, 2, 2, 2, 1, 1, 1, 1, 1, 14, 7, 1, 3, 1, 1, 1, 3, 2, 2, 2, 2, 1, 2, 1, 1, 1, 1, 1, 1, 3, 11, 2, 3, 29, 5, 1, 6, 5, 4, 2, 3, 15, 16, 7, 2, 1, 1, 1, 2, 2, 1, 1, 3, 1, 1, 2, 9, 12, 1, 1, 2, 1, 1, 9, 5, 1, 6, 13, 2, 2, 1, 4, 2, 4, 4, 2, 6, 9, 5, 1, 1, 2, 1, 1, 1, 1, 4, 3, 5, 4, 6, 1, 2, 1, 1, 1, 1, 1, 1, 29, 12, 1, 1, 1, 1, 5, 3, 2, 8, 3, 1, 1, 1, 7, 5, 7, 10, 3, 1, 1, 2, 2, 2, 1, 1, 4, 1, 3, 1, 1, 1, 1, 4, 1, 5, 4, 2, 5, 1, 1, 1, 1, 3, 4, 1, 3, 1, 1, 1, 1, 2, 2, 6, 2, 1, 3, 2, 3, 20, 2, 1, 3, 1, 1, 1, 2, 2, 2, 1, 3, 1, 1, 1, 1, 1, 1, 1, 5, 1, 1, 2, 1, 1, 1, 2, 1, 1, 6, 4, 1, 1, 3, 7, 39, 29, 7, 18, 2, 3, 7, 1, 36, 22, 10, 1, 1, 1, 1, 10, 18, 4, 3, 7, 3, 3, 4, 16, 12, 2, 1, 1, 9, 12, 1, 3, 1, 1, 1, 2, 3, 3, 3, 5, 26, 1, 3, 6, 93, 48, 4, 2, 43, 25, 2, 1, 2, 1, 1, 29, 19, 3, 2, 1, 9, 8, 19, 2, 17, 2, 1, 7, 1, 1, 1, 8, 10, 3, 5, 3, 1, 1, 2, 1, 6, 14, 4, 8, 2, 3, 5, 1, 1, 2, 1, 1, 3, 1, 1, 2, 6, 1, 5, 2, 1, 1, 1, 1, 2, 1, 5, 1, 9, 1, 1, 6, 8, 2, 4, 16, 1, 3, 4, 9, 1, 1, 1, 2, 1, 6, 1, 8, 3, 1, 4, 2, 2, 2, 1, 1, 1, 1, 2, 6, 4, 1, 1, 1, 2, 24, 4, 4, 1, 1, 1, 2, 1, 1, 2, 2, 1, 1, 1, 1, 1, 5, 19, 1, 1, 1, 1, 3, 4, 8, 5, 5, 1, 7, 1, 1, 2, 2, 10, 3, 2, 1, 1, 2, 1, 1, 4, 4, 3, 9, 5, 2, 2, 1, 3, 4, 5, 2, 3, 1, 1, 2, 3, 1, 2, 2, 3, 24, 5, 3, 3, 2, 1, 7, 6, 1, 3, 6, 4, 1, 14, 3, 12, 1, 2, 5, 1, 1, 4, 2, 1, 7, 3, 2, 26, 3, 10, 1, 2, 3, 1, 1, 1, 1, 4, 1, 1, 4, 2, 9, 3, 6, 5, 1, 42, 1, 3, 1, 1, 4, 6, 1, 2, 10, 3, 1, 10, 1, 12, 1, 1, 5, 1, 86, 1, 11, 32, 4, 1, 1, 4, 2, 1, 2, 2, 2, 2, 1, 4, 1, 2, 3, 1, 1, 1, 1, 1, 1, 1, 1, 1, 1, 2, 12, 3, 1, 1, 12, 1, 3, 4, 38, 2, 8, 9, 5, 1, 1, 1, 2, 1, 1, 2, 1, 10, 5, 8, 22, 1, 15, 7, 4, 1, 1, 1, 1, 2, 18, 2, 2, 3, 2, 1, 1, 2, 2, 1, 2, 1, 7, 2, 2, 2, 1, 1, 1, 1, 9, 1, 2, 2, 1, 1, 2, 3, 1, 1, 2, 4, 3, 3, 1, 13, 1, 1, 3, 8, 10, 5, 2, 4, 1, 1, 1, 1, 1, 3, 2, 6, 1, 2, 1, 7, 4, 2, 1, 1, 15, 3, 10, 1, 2, 3, 2, 2, 1, 1, 1, 3, 59, 42, 1, 3, 5, 2, 5, 1, 22, 1, 9, 2, 7, 1, 2, 1, 1, 1, 1, 12, 3, 9, 1, 52, 5, 1, 3, 1, 2, 1, 20, 5, 3, 5, 9, 1, 9, 1, 3, 8, 2, 1, 174, 4, 1, 1, 2, 1, 3, 4, 4, 1, 2, 4, 4, 1, 1, 5, 19, 1, 3, 11, 3, 6, 2, 5, 11, 7, 1, 1, 6, 1, 1, 1, 2, 2, 1, 1, 17, 1, 11, 3, 11, 12, 1, 1, 2, 7, 8, 1, 5, 2, 1, 3, 3, 1, 1, 3, 19, 1, 2, 1, 1, 15, 1, 1, 1, 3, 39, 1, 3, 3, 2, 2, 2, 1, 2, 23, 2, 2, 1, 3, 2, 4, 3, 1, 8, 2, 66, 2, 3, 21, 1, 1, 18, 1, 4, 9, 1, 3, 2, 1, 1, 3, 6, 3, 1, 42, 1, 3, 2, 2, 1, 1, 5, 1, 3, 17, 2, 1, 2, 3, 2, 1, 12, 1, 18, 5, 1, 1, 7, 3, 101, 38, 10, 1, 1, 13, 2, 3, 12, 1, 4, 7, 116, 6, 1, 1, 186, 1, 1, 8, 3, 1, 3, 1, 3, 3, 9, 18, 1, 1, 1, 3, 9, 1, 1, 4, 2, 1, 2, 44, 1, 5, 2, 1, 1, 9, 1, 3, 2, 5, 1, 1, 9, 6, 1, 1, 2, 2, 1, 2, 4, 1, 1, 4, 2, 12, 1, 1, 1, 1, 4, 1, 2, 8, 4, 2, 1, 1, 1, 1, 20, 1, 1, 6, 17, 1, 1, 1, 2, 5, 2, 1, 2, 24, 2, 2, 39, 3, 7, 2, 2, 1, 1, 3, 2, 1, 10, 4, 1, 4, 1, 2, 7, 1, 1, 2, 2, 1, 1, 1, 10, 3, 3, 1, 5, 2, 2, 2, 5, 2, 1, 1, 1, 2, 3, 2, 3, 2, 17, 2, 1, 17, 1, 8, 2, 1, 1, 1, 58, 9, 2, 15, 66, 1, 30, 2, 3, 23, 3, 1, 7, 1, 21, 5, 10, 2, 2, 2, 3, 11, 2, 1, 18, 13, 1, 1, 1, 1, 1, 7, 3, 7, 4, 1, 2, 2, 1, 45, 1, 1, 4, 3, 1, 3, 7, 20, 14, 1, 3, 1, 2, 20, 4, 1, 1, 27, 1, 2, 1, 1, 1, 41, 1, 2, 1, 1, 2, 10, 2, 1, 10, 1, 2, 1, 2, 3, 1, 1, 2, 2, 3, 3, 1, 3, 6, 1, 1, 2, 1, 1, 2, 6, 3, 1, 4, 1, 2, 1, 5, 2, 16, 2, 138, 1, 4, 1, 2, 1, 2, 6, 5, 2, 3, 1, 4, 1, 1, 1, 33, 2, 1, 2, 6, 1, 2, 1, 2, 1, 12, 2, 1, 6, 1, 12, 2, 1, 3, 2, 11, 4, 4, 7, 2, 1, 1, 1, 1, 1, 4, 4, 1, 1, 2, 1, 95, 1, 11, 24, 1, 1, 3, 2, 3, 2, 8, 1, 3, 1, 4, 3, 11, 94, 2, 3, 1, 14, 3, 2, 1, 1, 2, 4, 5, 5, 4, 2, 29, 7, 8, 1, 18, 1, 12, 1, 1, 15, 25, 108, 17, 10, 1, 21, 1, 2, 1, 1, 26, 2, 1, 1, 2, 1, 1, 1, 1, 7, 16, 11, 1, 1, 11, 4, 5, 6, 1, 1, 3, 2, 2, 3, 1, 63, 1, 1, 4, 1, 1, 5, 1, 1, 7, 10, 1, 1, 13, 3, 1, 1, 90, 1, 17, 137, 4, 4, 1, 2, 1, 2, 1, 1, 1, 8, 1, 4, 2, 2, 1, 1, 1, 8, 1, 2, 1, 2, 1, 2, 3, 6, 2, 3, 1, 2, 8, 1, 1, 1, 3, 1, 1, 1, 59, 1, 2, 2, 1, 2, 1, 1, 3, 1, 14, 1, 1, 1, 19, 1, 58, 60, 7, 2, 2, 1, 3, 1, 1, 1, 1, 1, 5, 1, 1, 17, 1, 2, 2, 45, 4, 1, 6, 4, 2, 1, 1, 1, 4, 51, 3, 1, 1, 1, 42, 7, 1, 1, 1, 1, 1, 1, 2, 1, 1, 3, 1, 1, 1, 5, 1, 1, 1, 3, 1, 1, 35, 4, 3, 5, 3, 2, 271, 1, 3, 106, 3, 8, 37, 12, 5, 4, 25, 1, 3, 3, 1, 231, 13, 4, 2, 1, 7, 5, 1, 1, 2, 1, 1, 4, 2, 4, 1, 1, 1, 3, 1, 3, 1, 1, 1, 1, 1, 1, 1, 1, 11, 1, 4, 3, 3, 6, 6, 1, 2, 1, 13, 1, 2, 22, 1, 12, 1, 2, 11, 1, 1, 1, 40, 1, 2, 4, 19, 1, 1, 4, 6, 1, 1, 80, 6, 5, 23, 1, 3, 4, 1, 1, 1, 1, 2, 1, 1, 1, 4, 2, 20, 5, 198, 2, 1, 4, 61, 5, 2, 6, 4, 166, 2, 18, 8, 14, 259, 149, 1, 2, 1, 18, 1, 1, 2, 1, 2, 2, 5, 7, 1, 1, 2, 2, 1, 21, 1, 3, 3, 5, 1, 5, 155, 4, 1, 1, 1, 10, 5, 2, 18, 6, 5, 3, 4, 1, 6, 1, 2, 1, 1, 1, 14, 3, 2, 2, 10, 2, 5, 1, 12, 19, 5, 3, 1, 3, 210, 2, 11, 3, 22, 2, 18, 4, 12, 4, 8, 1, 4, 2, 6, 5, 1, 1, 1, 2, 29, 49, 1, 36, 1, 1, 4, 8, 3, 2, 2, 1, 1, 2, 1, 1, 66, 1, 24, 27, 73, 1, 2, 1, 4, 1, 1, 3, 11, 10, 2, 144, 4, 3, 80, 47, 11, 1, 1, 1, 2, 1, 3, 2, 9, 8, 33, 15, 10, 1, 8, 3, 1, 141, 1, 52, 46, 13, 8, 1, 1, 11, 5, 10, 6, 20, 1, 46, 3, 5, 3, 1, 1, 2, 1, 58, 3, 3, 3, 1, 5, 1, 46, 14, 1, 1, 3, 25, 1, 10, 3, 2, 1, 1, 7, 1, 1, 2, 4, 1, 3, 1, 6, 13, 1, 5, 5, 1, 1, 1, 2, 1, 1, 2, 12, 1, 9, 4, 1, 4, 35, 5, 1, 1, 7, 7, 1, 1, 2, 27, 1, 4, 1, 2, 3, 1, 2, 21, 2, 14, 16, 1, 4, 2, 3, 1, 2, 3, 1, 2, 14, 3, 5, 1, 4, 4, 3, 3, 2, 1, 27, 7, 5, 1, 1, 6, 3, 1, 7, 47, 1, 1, 1, 4, 4, 1, 2, 2, 2, 1, 1, 1, 1, 2, 1, 115, 1, 1, 3, 2, 1, 1, 5, 10, 44, 3, 1, 2, 1, 6, 3, 1, 1, 1, 1, 7, 1, 1, 2, 1, 1, 7, 3, 1, 1, 4, 1, 7, 3, 5, 1, 10, 2, 7, 1, 1, 1, 8, 13, 9, 1, 7, 5, 1, 1, 1, 3, 2, 1, 1, 1, 3, 1, 38, 5, 7, 1, 14, 5, 21, 2, 1, 1, 1, 5, 2, 2, 1, 1, 1, 1, 1, 1, 13, 9, 1, 2, 1, 6, 8, 8, 3, 11, 3, 86, 4, 1, 11, 1, 1, 2, 5, 1, 2, 63, 1, 30, 172, 3, 6, 20, 4, 4, 1, 1, 1, 1, 116, 3, 2, 20, 5, 3, 8, 2, 4, 3, 1, 5, 1, 24, 3, 1, 3, 16, 1, 1, 84, 1, 11, 4, 1, 1, 15, 1, 1, 14, 1, 1, 2, 1, 8, 2, 1, 1, 1, 1, 3, 2, 1, 2, 17, 1, 1, 3, 1, 2, 1, 1, 1, 2, 1, 8, 1, 1, 1, 7, 2, 1, 2, 1, 1, 2, 3, 5, 14, 1, 2, 3, 2, 2, 1, 4, 1, 59, 1, 2, 4, 3, 1, 8, 2, 1, 5, 1, 2, 4, 1, 4, 2, 3, 1, 2, 2, 1, 3, 51, 1, 1, 3, 10, 1, 1, 1, 1, 3, 1, 1, 4, 16, 6, 1, 1, 3, 1, 9, 2, 1, 7, 3, 20, 1, 2, 1, 1, 3, 15, 86, 7, 1, 16, 1, 1, 2, 2, 10, 6, 1, 78, 5, 1, 4, 3, 1, 1, 12, 2, 2, 1, 17, 106, 4, 1, 1, 1, 14, 4, 1, 2, 141, 14, 2, 15, 1, 1, 1, 1, 6, 1, 1, 20, 1, 2, 10, 56, 1, 2, 8, 3, 12, 5, 6, 10, 8, 1, 3, 11, 1, 3, 1, 1, 2, 3, 1, 1, 1, 1, 5, 1, 1, 6, 31, 34, 9, 1, 1, 3, 2, 14, 1, 24, 1, 35, 13, 1, 1, 12, 5, 1, 1, 1, 16, 4, 1, 1, 5, 1, 3, 1, 1, 2, 1, 1, 5, 1, 1, 9, 3, 2, 9, 1, 5, 4, 2, 2, 2, 1, 1, 1, 2, 1, 1, 1, 34, 7, 13, 7, 2, 10, 1, 17, 1, 1, 8, 1, 1, 3, 1, 2, 5, 1, 1, 1, 1, 2, 1, 8, 1, 3, 1, 3, 1, 1, 1, 5, 10, 2, 2, 1, 1, 1, 1, 12, 1, 1, 1, 1, 2, 7, 9, 1, 7, 40, 1, 2, 21, 2, 1, 1, 2, 5, 1, 1, 2, 1, 2, 1, 2, 1, 2, 3, 1, 5, 1, 2, 18, 6, 6, 4, 3, 5, 5, 3, 9, 4, 1, 3, 4, 1, 1, 4, 1, 11, 1, 2, 56, 1, 3, 3, 6, 5, 5, 4, 3, 22, 1, 8, 1, 35, 1, 6, 2, 2, 1, 2, 7, 1, 1, 1, 5, 1, 3, 3, 4, 1, 1, 1, 1, 5, 1, 1, 2, 4, 1, 17, 1, 1, 1, 1, 1, 1, 46, 1, 3, 1, 1, 11, 1, 14, 2, 1, 7, 3, 2, 1, 4, 1, 31, 2, 1, 1, 105, 5, 2, 1, 2, 3, 2, 3, 107, 6, 6, 1, 1, 11, 2, 7, 8, 6, 4, 2, 1, 6, 4, 25, 1, 7, 5, 2, 1, 2, 41, 1, 1, 11, 1, 1, 1, 1, 1, 1, 4, 2, 1, 1, 18, 1, 1, 1, 12, 1, 2, 1, 1, 1, 1, 1, 1, 12, 1, 1, 2, 1, 1, 1, 1, 1, 9, 1, 1, 2, 9, 1, 1, 12, 1, 1, 3, 1, 1, 1, 1, 1, 1, 4, 1, 3, 4, 1, 2, 1, 2, 1, 1, 1, 6, 1, 6, 1, 1, 2, 1, 2, 1, 1, 1, 1, 2, 1, 2, 1, 1, 12, 1, 1, 1, 3, 1, 1, 3, 1, 774, 1, 3, 1, 22, 1, 2, 7, 1, 4, 2, 9, 2, 1, 1, 6, 3, 1, 3, 1, 1, 63, 1, 1, 2, 2, 24, 1, 4, 1, 4, 1, 1, 3, 2, 1, 2, 1, 1, 1, 1, 1, 1, 20, 21, 1, 2, 1, 3, 3, 1, 2, 1, 1, 4, 1, 1, 1, 4, 10, 8, 2, 2, 12, 3, 1, 1, 60, 1, 15, 1, 1, 2, 1, 5, 1, 1, 2, 6, 4, 5, 3, 1, 1, 12, 1, 2, 445, 9, 2, 41, 40, 1, 1, 1, 280, 4, 116, 29, 24, 1, 2, 1, 16, 32, 39, 1, 1, 1, 2, 1, 5, 2, 1, 4, 33, 2, 1, 1, 1, 5, 33, 1, 14, 5, 1, 12, 2, 2, 1, 9, 2, 2, 1, 1, 1, 6, 2, 1, 1, 11, 92, 7, 2, 1, 2, 54, 1, 8, 8, 1, 14, 63, 3, 6, 32, 26, 3, 2, 1, 1, 14, 21, 7, 1, 18, 1, 10, 1, 3, 1, 1, 2, 1, 1, 5, 1, 1, 65, 3, 2, 3, 3, 2, 2, 9, 2, 1, 4, 2, 2, 1, 3, 1, 1, 7, 2, 1, 1, 13, 1, 1, 1, 1, 11, 2, 2, 1, 7, 14, 15, 2, 2, 1, 1, 1, 1, 2, 2, 1, 2, 1, 9, 2, 15, 6, 13, 1, 1, 1, 154, 4, 3, 1, 5, 4, 5, 1, 1, 1, 1, 1, 1, 1, 43, 6, 44, 9, 1, 1, 1, 1, 1, 3, 1, 7, 1, 2, 1, 29, 1, 3, 1, 3, 1, 15, 1, 6, 4, 2, 1, 1, 17, 3, 7, 13, 2, 3, 4, 6, 3, 3, 5, 1, 1, 54, 3, 2, 1, 14, 3, 1, 1, 5, 1, 1, 3, 21, 8, 7, 1, 13, 1, 5, 1, 1, 1, 1, 1, 2, 1, 67, 42, 1, 16, 14, 1, 3, 5, 1, 1, 1, 15, 2, 1, 1, 8, 1, 3, 1, 1, 2, 6, 1, 2, 2, 1, 21, 12, 6, 1, 1, 1, 1, 9, 1, 4, 1, 1, 1, 5, 1, 4, 1, 4, 1, 1, 1, 2, 5, 6, 27, 2, 1, 2, 1, 3, 1, 1, 9, 4, 7, 8, 8, 26, 1, 1, 24, 1, 3, 9, 2, 1, 2, 2, 1, 1, 4, 1, 2, 12, 1, 1, 1, 5, 2, 3, 1, 7, 5, 2, 1, 3, 3, 1, 1, 1, 1, 4, 1, 2, 1, 1, 2, 1, 1, 2, 2, 1, 2, 3, 4, 20, 1, 1, 1, 4, 4, 4, 3, 2, 3, 12, 7, 1, 2, 1, 1, 1, 1, 4, 2, 1, 2, 1, 5, 1, 5, 2, 2, 1, 1, 8, 5, 1, 1, 1, 1, 2, 1, 3, 7, 1, 1, 1, 1, 3, 2, 1, 3, 2, 3, 1, 1, 45, 1, 16, 1, 6, 1, 4, 3, 2, 5, 1, 2, 1, 1, 1, 1, 2, 7, 4, 3, 14, 3, 1, 1, 4, 2, 3, 1, 33, 4, 3, 10, 1, 1, 1, 1, 34, 38, 2, 28, 1, 1, 5, 1, 6, 1, 30, 23, 1, 2, 1, 5, 2, 182, 1, 1, 3, 2, 3, 1, 2, 14, 1, 1, 1, 2, 1, 22, 2, 81, 3, 1, 57, 13, 8, 1, 4, 20, 8, 31, 4, 1, 24, 3, 8, 11, 4, 1, 9, 1, 14, 3, 2, 6, 16, 1, 1, 24, 9, 15, 1, 1, 1, 1, 4, 1, 8, 7, 1, 5, 1, 9, 1, 8, 1, 2, 1, 3, 5, 2, 1, 4, 1, 1, 1, 1, 3, 2, 4, 6, 2, 1, 1, 1, 35, 2, 4, 15, 1, 1, 2, 3, 6, 1, 5, 1, 14, 3, 5, 3, 1, 1, 7, 7, 1, 1, 17, 31, 5, 1, 4, 14, 1, 13, 1, 1, 2, 11, 5, 6, 1, 1, 1, 2, 1, 3, 3, 5, 288, 5, 8, 6, 4, 5, 2, 10, 1, 1, 5, 3, 1, 1, 4, 1, 11, 1, 11, 5, 21, 2, 8, 1, 3, 1, 1, 17, 1, 2, 1, 3, 3, 1, 1, 2, 5, 1, 1, 11, 1, 1, 1, 3, 44, 2, 3, 1, 4, 4, 38, 2, 5, 3, 1, 11, 1, 1, 2, 9, 5, 47, 8, 1, 1, 2, 646, 1, 4, 1, 12, 1, 4, 1, 59, 1, 1, 1, 59, 1, 13, 1, 1, 6, 14, 7, 10, 1, 1, 1, 1, 1, 4, 4, 38, 7, 1, 17, 3, 6, 9, 3, 1, 1, 1, 1, 1, 1, 1, 4, 2, 1, 1, 3, 3, 2, 2, 11, 1, 2, 2, 1, 30, 27, 1, 1, 8, 3, 32, 15, 3, 4, 5, 12, 13, 12, 5, 1, 1, 2, 1, 1, 23, 1, 2, 2, 1, 2, 12, 1, 24, 19, 1, 8, 1, 14, 1, 12, 1, 3, 9, 1, 2, 1, 7, 3, 1, 3, 3, 3, 1, 2, 1, 93, 5, 5, 12, 1, 1, 6, 4, 7, 19, 11, 2, 1, 24, 2, 10, 6, 3, 2, 1, 16, 1, 4, 4, 21, 1, 2, 7, 8, 7, 3, 52, 6, 3, 53, 94, 6, 1, 2, 1, 1, 5, 1, 6, 1, 1, 1, 2, 3, 43, 11, 13, 3, 2, 36, 1, 1, 2, 1, 2, 36, 5, 1, 7, 15, 187, 2, 13, 2, 1, 1, 49, 3, 5, 22, 11, 1, 1, 10, 2, 2, 1, 4, 11, 1, 1, 1, 2, 1, 1, 1, 1, 68, 1, 3, 1, 1, 8, 1, 1, 15, 2, 1, 5, 1, 1, 2, 1, 1, 1, 1, 1, 1, 1, 1, 5, 8, 8, 7, 2, 25, 14, 5, 3, 5, 1, 3, 2, 1, 1, 9, 1, 1, 2, 3, 1, 34, 3, 4, 1, 19, 12, 1, 1, 8, 1, 2, 1, 21, 2, 2, 2, 1, 1, 1, 16, 4, 1, 49, 44, 3, 56, 19, 6, 2, 1, 1, 2, 3, 1, 7, 243, 4, 2, 4, 1, 3, 2, 9, 7, 1, 3, 1, 2, 8, 1, 1, 1, 18, 24, 7, 3, 1, 2, 2, 2, 9, 1, 1, 20, 4, 1, 11, 6, 7, 19, 4, 2, 8, 6, 3, 3, 11, 1, 1, 6, 1, 1, 1, 3, 2, 9, 1, 1, 1, 3, 2, 94, 1, 1, 1, 1, 1, 14, 2, 1, 5, 11, 1, 10, 6, 1, 1, 2, 3, 2, 1, 2, 1, 8, 2, 1, 4, 1, 3, 18, 40, 24, 3, 1, 1, 1, 3, 1, 14, 2, 5, 3, 1, 4, 1, 1, 1, 33, 3, 5, 3, 1, 11, 1, 1, 12, 2, 1, 1, 1, 1, 1, 1, 7, 1, 1, 1, 2, 1, 1, 1, 1, 2, 6, 1, 8, 1, 1, 27, 7, 28, 4, 1, 2, 1, 1, 6, 9, 70, 21, 2, 28, 5, 4, 2, 1, 1, 1, 1, 1, 1, 1, 2, 2, 1, 1, 1, 52, 8, 37, 42, 80, 15, 2, 2, 1, 1, 1, 3, 1, 1, 1, 1, 2, 5, 5, 2, 1, 2, 1, 7, 11, 1, 7, 2, 1, 3, 6, 3, 2, 1, 1, 1, 2, 18, 1, 1, 8, 5, 3, 106, 28, 1, 1, 4, 1, 2, 1, 4, 1, 20, 15, 6, 8, 1, 1, 1, 3, 2, 1, 2, 1, 8, 2, 2, 1, 2, 1, 2, 1, 2, 1, 1, 4, 1, 1, 1, 2, 1, 1, 2, 1, 3, 1, 9, 1, 2, 4, 2, 3, 1, 3, 13, 8, 4, 3, 99, 1, 2, 2, 12, 22, 2, 1, 7, 1, 10, 5, 1, 1, 1, 1, 1, 2, 2, 2, 1, 2, 1, 4, 1, 3, 1, 1, 2, 3, 1, 1, 1, 2, 1, 1, 1, 1, 3, 1, 2, 2, 2, 1, 1, 2, 3, 1, 1, 10, 1, 4, 8, 1, 3, 1, 4, 25, 1, 5, 1, 1, 5, 20, 1, 4, 1, 1, 4, 1, 1, 1, 2, 1, 1, 1, 1, 5, 1, 1, 8, 1, 1, 4, 22, 2, 1, 1, 3, 1, 1, 12, 1, 2, 1, 6, 2, 1, 2, 3, 1, 2, 1, 8, 4, 1, 1, 5, 2, 1, 3, 2, 1, 1, 1, 5, 1, 3, 1, 1, 1, 2, 1, 1, 165, 53, 160, 1, 29, 1, 146, 66, 32, 1, 32, 15, 46, 1, 1, 4, 1, 1, 3, 1, 1, 34, 3, 12, 11, 1, 1, 3, 11, 1, 1, 1, 1, 2, 1, 2, 1, 1, 1, 5, 5, 4, 1, 3, 1, 1, 1, 2, 1, 1, 13, 5, 8, 3, 2, 3, 1, 36, 1, 22, 1, 9, 2, 1, 2, 5, 1, 1, 10, 1, 7, 50, 9, 1, 9, 2, 1, 1, 1, 8, 2, 2, 1, 3, 3, 1, 20, 1, 1, 1, 1, 6, 1, 1, 5, 1, 3, 5, 1, 1, 4, 3, 17, 3, 5, 1, 34, 2, 2, 1, 6, 2, 12, 4, 2, 3, 20, 3, 5, 2, 2, 1, 3, 3, 18, 1, 8, 43, 1, 16, 5, 4, 16, 9, 1, 7, 1, 1, 1, 14, 1, 14, 6, 1, 24, 3, 7, 1, 2, 56, 31, 4, 9, 1, 11, 1, 1, 1, 2, 14, 1, 1, 1, 3, 2, 1, 1, 1, 1, 1, 1, 1, 2, 37, 1, 41, 3, 36, 1, 27, 1, 4, 1, 4, 1, 1, 2, 2, 5, 2, 4, 1, 2, 1, 5, 1, 6, 3, 15, 2, 11, 1, 3, 10, 1, 28, 2, 7, 10, 6, 3, 1, 2, 1, 23, 1, 62, 4, 2, 1, 16, 1, 1, 13, 2, 1, 1, 13, 62, 1, 1, 5, 4, 24, 16, 1, 52, 7, 1, 20, 21, 30, 1, 5, 1, 3, 6, 2, 3, 17, 13, 1, 2, 1, 2, 5, 2, 3, 2, 1, 3, 2, 3, 1, 11, 1, 7, 3, 1, 13, 5, 8, 1, 2, 1008, 1, 3, 4, 1, 43, 4, 3290, 1, 1, 9502, 1, 56, 12, 10, 20, 2, 1, 2, 1, 1, 1, 408, 2, 3, 277, 12, 7, 2, 49, 6, 1, 41, 1, 47, 126, 1, 2, 1, 1, 1, 1, 6, 2, 7, 752, 1, 1, 6, 2, 2, 1, 174, 1, 1, 1, 1, 1, 4, 425, 1, 16, 1, 1, 1, 2, 2, 11, 1, 2, 1, 1, 43, 194, 1, 144, 116, 32, 11, 2, 2, 2, 51, 7, 1, 2, 2, 3, 2260, 1, 25, 21, 1, 14, 2, 51, 1, 1, 250, 2, 286, 75, 21, 1, 2, 3, 1, 9, 7, 1, 1, 1, 3, 1, 7, 4, 2, 4, 5, 4, 154, 1, 3, 1, 29, 5, 278, 26, 29, 7, 52, 3, 1, 7, 2, 1, 3, 1, 1, 1, 1, 269, 39, 11, 8, 1, 11, 6, 11, 8, 1, 7, 1, 1, 2, 2, 3, 2, 2, 1, 1, 1, 1, 1, 2, 1, 1, 1, 3, 4, 2, 1, 2, 1, 1, 1, 1, 1, 1, 3, 8, 1, 1, 3, 4, 1, 3, 1, 1, 1, 2, 8, 4, 1, 2, 8, 1, 1, 1, 5, 2, 2, 1, 5, 14, 2, 3, 1, 4, 10, 1, 4, 1, 2, 5, 8, 2, 1, 1, 24, 1, 1, 517, 4, 7, 14, 1, 8, 1, 1, 3, 107, 1, 1, 5, 1, 19, 2, 2, 6, 4, 2, 9, 2, 1, 1, 1, 2, 1, 1, 10, 2, 1, 1, 1, 3, 1, 1, 2, 28, 1, 1, 1, 2, 21, 2, 12, 1, 3, 1, 4, 73, 3, 6, 1, 1, 1, 2, 1, 3, 4957, 2, 3, 3, 2, 1, 3, 1, 56, 4, 1, 1, 1, 3, 119, 1, 1, 4, 3, 4, 40, 3, 1, 11, 1, 1, 1, 4, 3, 35, 3, 4, 1, 1, 1, 6, 1, 3, 4, 93, 5, 9, 2, 13, 3, 2, 1, 1, 2, 12, 490, 21, 2, 2, 2, 2, 1, 1, 3, 3, 1, 1, 2, 1, 103, 1, 2, 2, 6, 1, 1, 2, 1, 1, 1, 2, 1, 1, 1, 1, 4, 1, 1, 1, 1, 2, 2, 2, 3, 1, 3, 2, 6, 1, 1, 1, 1, 2, 1, 1, 9, 1, 1, 1, 1, 1, 2, 2, 4, 2, 1, 1, 26, 1, 1, 20, 1, 1, 2, 1, 63, 5, 21, 60, 2, 4, 6, 41, 1, 2, 1, 2, 18, 1, 3, 1, 1, 1, 1, 1, 43, 10, 10, 1, 34, 7, 2, 1, 1, 3, 20, 1, 10, 3, 3, 3, 2, 20, 1, 4, 2, 5, 1, 6, 10, 1, 3, 4, 3, 33, 22, 1, 3, 4, 2, 2, 3, 36, 17, 1, 1, 1, 13, 1, 1, 2, 11, 6, 5, 2, 10, 1, 2, 1, 1, 1, 1, 2, 1, 1, 1, 1, 2, 9, 1, 3, 1, 1, 4, 17, 5, 2, 2, 1, 1, 1, 1, 7, 5, 7, 1, 7, 1, 1, 2, 1, 6, 1, 4, 1, 2, 8, 3, 12, 1, 1, 1, 6, 4, 1, 2, 1, 2, 5, 4, 1, 1, 1, 7, 1, 17, 1, 7, 9, 1, 1, 1, 15, 1, 3, 1, 1, 2, 19, 6, 6, 1, 2, 6, 3, 1, 1, 1, 1, 4, 1, 14, 1, 1, 2, 2, 1, 1, 1, 1, 1, 1, 1, 16, 6, 33, 10, 3, 2, 20, 1, 19, 4, 1, 1, 29, 3, 1, 11, 8, 1, 1, 5, 1, 1, 1, 1, 1, 2, 1, 1, 4, 1, 1, 2, 3, 8, 1, 1, 1, 3, 24, 21, 4, 4, 1, 18, 6, 13, 42, 1, 9, 1, 1, 25, 1, 2, 1, 1, 1, 1, 9, 34, 4, 3, 1, 2, 2, 7, 12, 1, 1, 37, 9, 1, 2, 1, 7, 2, 5, 2, 1, 1, 1, 1, 1, 1, 1, 3, 2, 2, 1, 2, 6, 1, 1, 1, 32, 6, 4, 1, 8, 1, 1, 2, 1, 2, 1, 1, 1, 1, 1, 5, 1, 1, 1, 113, 5, 2, 8, 77, 12, 2, 1, 1, 1, 2, 1, 13, 1, 38, 1, 8, 39, 1, 59, 2, 1, 1, 3, 1, 4, 2, 10, 1, 1, 1, 4, 1, 2, 1, 1, 2, 1, 2, 4, 2, 1, 1, 3, 4, 1, 8, 4, 1, 1, 5, 1, 1, 1, 2, 3, 4, 2, 2, 4, 1, 1, 76, 35, 10, 26, 1, 126, 1, 1, 1, 1, 3, 1, 1, 1, 2, 88, 1, 1, 2, 1, 1, 1, 5, 1, 1, 1, 2, 8, 1, 13, 14, 8, 2, 2, 4, 34, 23, 2, 1, 3, 1, 47, 4, 1, 1, 2, 1, 301, 11, 1, 2, 1, 1, 2, 1, 17, 1, 7, 21, 15, 1, 2, 1, 2, 1, 2, 1, 2, 4, 29, 1, 1, 1, 2, 25, 80, 6, 1, 1, 3, 1, 2, 1, 1, 2, 2, 9, 7, 6, 1, 12, 1, 1, 1, 1, 1, 2, 1, 2, 1, 2, 1, 2, 1, 2, 1, 3, 4, 6, 2, 1, 1, 2, 1, 1, 1, 4, 1, 1, 1, 1, 2, 3, 5, 2, 9, 1, 2, 3, 1, 1, 2, 2, 3, 4, 5, 1, 1, 9, 1, 5, 1, 3, 5, 1, 7, 4, 1, 7, 3, 2, 6, 1, 3, 1, 4, 8, 1, 1, 1, 2, 1, 1, 4, 1, 1, 16, 2, 1, 1, 1, 1, 2, 2, 1, 1, 2, 1, 1, 3, 1, 5, 2, 1, 1, 9, 10, 19, 82, 1, 1, 1, 4, 1, 10, 4, 1, 4, 10, 1, 1, 1, 1, 2, 3, 1, 1, 2, 19, 3, 4, 4, 9, 2, 1, 1, 1, 2, 3, 2, 7, 1, 1, 1, 1, 1, 1, 1, 1, 32, 1, 2, 16, 13, 1, 13, 5, 1, 3, 2, 2, 4, 1, 1, 3, 1, 1, 4, 2, 10, 9, 1, 1, 1, 2, 1, 5, 3, 1, 3, 1, 7, 3, 1, 4, 1, 1, 1, 1, 2, 1, 2, 1, 6, 1, 1, 1, 1, 1, 1, 2, 1, 2, 1, 1, 1, 1, 1, 1, 1, 46, 2, 2, 3, 1, 4, 3, 37, 13, 2, 1, 2, 1, 1, 5, 2, 1, 1, 1, 1, 2, 6, 1, 2, 2, 2, 5, 3, 5, 9, 1, 2, 1, 9, 4, 1, 18, 1, 3, 1, 4, 1, 1, 8, 47, 1, 2, 1, 27, 1, 3, 1, 2, 1, 1, 1, 1, 1, 5, 1, 1, 1, 5, 3, 6, 1, 13, 2, 5, 10, 2, 2, 1, 2, 1, 5, 2, 25, 1, 1, 1, 3, 4, 9, 1, 2, 6, 4, 2, 16, 3, 26, 1, 11, 2, 3, 3, 1, 1, 17, 1, 5, 9, 1, 1, 1, 1, 1, 7, 1, 1, 2, 1, 24, 29, 1, 1, 23, 1, 1, 1, 1, 1, 1, 1, 5, 1, 1, 1, 2, 1, 12, 1, 14, 1, 4, 1, 7, 1, 2, 1, 1, 1, 2, 17, 2, 1, 2, 15, 1, 1, 15, 1, 1, 1, 2, 4, 3, 1, 1, 1, 2, 1, 2, 1, 6, 1, 1, 1, 1, 1, 1, 1, 1, 1, 6, 1, 3, 1, 4, 1, 2, 1, 1, 1, 2, 1, 1, 1, 1, 1, 1, 2, 1, 1, 1, 1, 15, 2, 1, 3, 1, 7, 1, 2, 15, 1, 1, 1, 1, 2, 2, 3, 4, 2, 1, 2, 1, 4, 1, 1, 1, 1, 2, 2, 1, 1, 1, 3, 1, 3, 1, 1, 5, 1, 2, 1, 1, 1, 1, 2, 1, 67, 1, 3, 1, 2, 1, 1, 1, 1, 1, 27, 11, 2, 1, 2, 8, 1, 1, 3, 1, 1, 1, 1, 1, 1, 1, 3, 1, 1, 1, 647, 7, 1, 2, 1, 8, 5, 1, 4, 1, 1, 2, 1, 2, 1, 2, 1, 9, 30, 9, 2, 1, 8, 5, 1, 18, 2, 4, 1, 3, 4, 1, 3, 1, 1, 25, 3, 2, 1, 8, 2, 10, 5, 2, 2, 1, 1, 315, 2, 66, 50, 4, 1, 3, 28, 3, 1, 25, 1, 82, 34, 1, 1, 1, 3, 1, 2, 2, 12, 2, 1, 43, 1, 1, 3, 9, 1, 3, 1, 1, 1, 1, 8, 9, 1, 4, 1, 3, 1, 1, 4, 1, 1, 1, 1, 3, 2, 1, 8, 1, 8, 1, 2, 8, 35, 1, 42, 1, 1, 29, 4, 1, 2, 36, 1, 5, 2, 2, 2, 1, 1, 3, 9, 1, 5, 4, 1, 1, 1, 3, 16, 7, 7, 2, 8, 18, 1, 3, 1, 1, 16, 6, 1, 3, 1, 3, 1, 1, 1, 175, 2, 1, 3, 5, 7, 5, 1, 37, 4, 1, 2, 8, 2, 3, 2, 1, 2, 1, 4, 4, 6, 1, 1, 4, 1, 1, 5, 7, 4, 1, 3, 6, 1, 1, 1, 4, 1, 4, 3, 1, 10, 4, 2, 1, 2, 4, 1, 1, 1, 5, 2, 1, 99, 7, 2, 7, 9, 353, 2, 1, 1, 1, 12, 3, 1, 1, 1, 1, 5, 4, 1, 2, 6, 1, 3, 8, 2, 1, 2, 1, 10, 1, 13, 2, 1, 5, 10, 1, 1, 14, 6, 6, 4, 7, 1, 1, 58, 2, 5, 2, 1, 1, 1, 9, 2, 67, 9, 48, 62, 24, 6, 4, 1, 5, 4, 7, 7, 9, 5, 2, 2, 6, 1, 6, 1, 20, 2, 13, 3, 1, 1, 2, 6, 2, 1, 2, 11, 1, 1, 2, 1, 1, 85, 34, 1, 1, 4, 2, 1, 1, 7, 26, 20, 10, 12, 8, 2, 2, 1, 1, 29, 5, 1, 1, 7, 1, 76, 1, 19, 7, 12, 1, 1, 1, 1, 1, 5, 1, 141, 1, 1, 1, 2, 57, 24, 15, 11, 1, 1, 3, 1, 4, 1, 1, 1, 1, 28, 9, 1, 2, 1, 33, 4, 8, 3, 6, 7, 3, 1, 1, 6, 4, 5, 3, 1, 3, 2, 1, 4, 1, 6, 1, 1, 1, 1, 5, 1, 2, 4, 1, 1, 1, 10, 16, 20, 1, 2, 5, 7, 10, 1, 2, 1, 2, 3, 14, 1, 1, 1, 6, 1, 1, 1, 2, 1, 4, 2, 1, 1, 1, 22, 1, 24, 2, 1, 2, 11, 5, 1, 1, 1, 18, 1, 4, 2, 8, 1, 4, 22, 9, 7, 1, 1, 9, 1, 1, 6, 4, 1, 1, 5, 3, 19, 7, 1, 3, 6, 1, 1, 5, 1, 3, 1, 3, 2, 4, 3, 1, 6, 2, 1, 111, 29, 6, 2, 53, 121, 2, 5, 2, 1, 2, 2, 1, 1, 45, 4, 4, 2, 2, 5, 4, 1, 1, 25, 1, 9, 1, 4, 1, 1, 2, 3, 1, 3, 2, 4, 7, 5, 24, 1, 3, 2, 6, 386, 4, 2, 1, 30, 2, 1, 23, 2, 23, 11, 1, 2, 3, 9, 2, 123, 1, 36, 12, 2, 1, 1, 132, 1, 16, 6, 1, 1, 1, 3, 2, 2, 2, 2, 1, 11, 2, 2, 3, 2, 1, 3, 1, 3, 7, 3, 2, 3, 2, 1, 1, 1, 2, 2, 1, 388, 5, 10, 1, 76, 1, 1, 1, 330, 23, 2, 2, 4, 2, 5, 6, 7, 1, 1, 10, 3, 1, 13, 2, 6, 1, 3, 12, 9, 2, 1, 4, 1, 1, 2, 6, 6, 16, 2, 4, 1, 1, 1, 12, 4, 1, 2, 14, 5, 5, 1, 2, 6, 2, 2, 2, 3, 3, 1, 19, 1, 2, 1, 3, 1, 1, 4, 1, 3, 26, 1, 2, 11, 6, 1, 1, 1, 2, 49, 1, 2, 469, 1, 1, 10, 1, 11, 1, 1, 1, 1, 1, 2, 29, 156, 16, 4, 2, 4, 4, 1, 23, 51, 1, 1, 14, 1, 4, 3, 2, 1, 11, 1, 2, 2, 694, 33, 6, 1, 2, 6, 1, 1, 3, 1, 3, 3, 412, 11, 175, 2, 1, 1, 4, 52, 484, 1, 4, 258, 2, 1, 10, 2, 11, 1, 1, 1, 4, 1, 2, 2, 1, 2, 1, 1, 1, 3, 1, 1, 3, 4, 73, 1, 1, 1, 1, 1, 1, 7, 1, 645, 2, 6, 1, 1, 4, 115, 1, 1, 1, 1, 8, 1, 13, 17, 1, 2, 1, 2, 1, 1, 1, 113, 1, 94, 20, 14, 26, 5, 6, 3, 2, 2, 2, 2, 1, 2, 28, 4, 2, 54, 2, 15, 1, 25, 5, 4, 1, 1, 32, 1, 1, 1, 1, 1, 400, 1, 3, 4, 23, 34, 6, 1, 1, 20, 1, 6, 22, 1, 1, 3, 1, 3, 1, 1, 2, 3, 1, 1, 1, 1, 1, 12, 1, 3, 15, 2, 1, 2, 8, 3, 10, 1, 1, 1, 1, 1, 4, 1, 2, 4, 3, 2, 3, 4, 4, 13, 2, 2, 38, 3, 2, 1, 5, 16, 5, 1, 10, 2, 1, 1, 10, 2, 1, 20, 21, 2, 4, 9, 1, 1, 5, 2, 3, 1, 37, 1, 1, 5, 2, 5, 1, 5, 1, 100, 19, 2, 1, 1, 2359, 1, 2, 6, 46, 1, 274, 1, 15, 1, 1, 6, 1, 4, 4, 8, 1, 5, 1, 2, 73, 6, 6, 1, 9, 1, 3, 1, 1, 5, 3, 5, 5, 1, 4, 1, 1, 1, 3, 53, 1, 74, 85, 56, 2, 76, 31, 12, 14, 1, 1, 13, 6, 4, 6, 18, 21, 5, 1, 3, 1, 31, 1, 2, 1, 2, 2, 1, 2, 1, 1, 2, 38, 3, 32, 2, 349, 2, 1, 1, 28, 5, 5, 50, 4, 6, 2, 4, 1, 2, 133, 1, 228, 13, 1, 2, 1, 12, 1, 9, 2, 1, 39, 3, 1, 69, 115, 1, 4, 14, 34, 265, 18, 7, 3, 1, 1, 1, 6, 9, 1, 3, 1, 1, 8, 10, 1, 5, 7, 1, 1, 6, 1, 1, 1, 21, 5, 3, 3, 12, 4, 2, 1, 6, 2, 1, 2, 7, 108, 2, 22, 2, 1, 45, 85, 58, 2, 1, 4, 26, 5, 1, 16, 2, 1, 1, 1, 1, 1, 1, 3, 1, 5, 1, 2, 1, 1, 1, 1, 1, 2, 2, 1, 1, 1, 3, 1, 1, 2, 11, 30, 1, 1, 2, 5, 1, 1, 1, 2, 1, 2, 194, 1, 1, 7, 1, 1, 160, 1, 1, 3, 2, 1, 1, 28, 5, 6, 183, 1, 2, 3, 1, 1, 6, 2, 3, 1, 1, 1, 2, 3, 1, 1, 1, 1, 34, 4, 3, 1, 1056, 127, 14, 1, 1, 9, 220, 1, 42, 16, 9, 1, 1, 2, 2, 3, 1, 2, 1, 1, 1, 1, 1, 3, 5, 3, 3, 4, 1, 1, 1, 5, 3, 1, 1, 1, 5, 4, 10, 2, 10, 1, 2, 1, 3, 3, 4, 1, 1, 1, 2, 1, 2, 1, 1, 2, 3, 1, 3, 4, 1, 4, 1, 1, 5, 1, 1, 4, 10, 3, 1, 1, 13, 2, 1, 1, 1, 1, 2, 3, 1, 1, 4, 1, 3, 1, 1]\n"
     ]
    }
   ],
   "source": [
    "number_doc = list()\n",
    "#number_doc.append(0)\n",
    "for i in range(22417):\n",
    "    n = sum(X_pd[i]!=0)\n",
    "    number_doc.append(n)\n",
    "print(number_doc)"
   ]
  },
  {
   "cell_type": "code",
   "execution_count": 64,
   "metadata": {
    "scrolled": true
   },
   "outputs": [],
   "source": [
    "x_cdf,y_cdf = ecdf(number_doc)"
   ]
  },
  {
   "cell_type": "code",
   "execution_count": 65,
   "metadata": {
    "scrolled": true
   },
   "outputs": [
    {
     "data": {
      "image/png": "[encoded data removed]",
      "text/plain": [
       "<matplotlib.figure.Figure at 0x176db291b38>"
      ]
     },
     "metadata": {},
     "output_type": "display_data"
    }
   ],
   "source": [
    "_ = plt.plot(x_cdf[0:22200], y_cdf[0:22200], marker = '.', linestyle = None)\n",
    "_ = plt.xlabel('Number of documents')\n",
    "_ = plt.ylabel('Percentage')"
   ]
  },
  {
   "cell_type": "markdown",
   "metadata": {},
   "source": [
    "The parameter $\\alpha$ is chosen to be a small value that simply avoids having zeros in the probability computations. This value can sometimes be chosen arbitrarily with domain expertise, but we will use K-fold cross validation. In K-fold cross-validation, we divide the data into $K$ non-overlapping parts. We train on $K-1$ of the folds and test on the remaining fold. We then iterate, so that each fold serves as the test fold exactly once. The function `cv_score` performs the K-fold cross-validation algorithm for us, but we need to pass a function that measures the performance of the algorithm on each fold. "
   ]
  },
  {
   "cell_type": "code",
   "execution_count": 66,
   "metadata": {
    "collapsed": true
   },
   "outputs": [],
   "source": [
    "from sklearn.model_selection import KFold\n",
    "def cv_score(clf, X, y, scorefunc):\n",
    "    result = 0.\n",
    "    nfold = 5\n",
    "    for train, test in KFold(nfold).split(X): # split data into train/test groups, 5 times\n",
    "        clf.fit(X[train], y[train]) # fit the classifier, passed is as clf.\n",
    "        result += scorefunc(clf, X[test], y[test]) # evaluate score function on held-out data\n",
    "    return result / nfold # average"
   ]
  },
  {
   "cell_type": "markdown",
   "metadata": {},
   "source": [
    "We use the log-likelihood as the score here in `scorefunc`. The higher the log-likelihood, the better. Indeed, what we do in `cv_score` above is to implement the cross-validation part of `GridSearchCV`.\n",
    "\n",
    "The custom scoring function `scorefunc` allows us to use different metrics depending on the decision risk we care about (precision, accuracy, profit etc.) directly on the validation set. You will often find people using `roc_auc`, precision, recall, or `F1-score` as the scoring function."
   ]
  },
  {
   "cell_type": "code",
   "execution_count": 67,
   "metadata": {
    "collapsed": true
   },
   "outputs": [],
   "source": [
    "def log_likelihood(clf, x, y):\n",
    "    prob = clf.predict_log_proba(x)\n",
    "    rotten = y == 0\n",
    "    fresh = ~rotten\n",
    "    return prob[rotten, 0].sum() + prob[fresh, 1].sum()"
   ]
  },
  {
   "cell_type": "markdown",
   "metadata": {},
   "source": [
    "We'll cross-validate over the regularization parameter $\\alpha$."
   ]
  },
  {
   "cell_type": "markdown",
   "metadata": {},
   "source": [
    "Let's set up the train and test masks first, and then we can run the cross-validation procedure."
   ]
  },
  {
   "cell_type": "code",
   "execution_count": 68,
   "metadata": {},
   "outputs": [
    {
     "name": "stderr",
     "output_type": "stream",
     "text": [
      "C:\\Users\\Alexander\\Anaconda3\\lib\\site-packages\\sklearn\\model_selection\\_split.py:2010: FutureWarning: From version 0.21, test_size will always complement train_size unless both are specified.\n",
      "  FutureWarning)\n"
     ]
    }
   ],
   "source": [
    "from sklearn.model_selection import train_test_split\n",
    "_, itest = train_test_split(range(critics.shape[0]), train_size=0.7)\n",
    "mask = np.zeros(critics.shape[0], dtype=np.bool)\n",
    "mask[itest] = True"
   ]
  },
  {
   "cell_type": "markdown",
   "metadata": {},
   "source": [
    "<div class=\"span5 alert alert-info\">\n",
    "<h3>Exercise Set IV</h3>\n",
    "\n",
    "<p><b>Exercise:</b> What does using the function `log_likelihood` as the score mean? What are we trying to optimize for?</p>\n",
    "\n",
    "<p><b>Exercise:</b> Without writing any code, what do you think would happen if you choose a value of $\\alpha$ that is too high?</p>\n",
    "\n",
    "<p><b>Exercise:</b> Using the skeleton code below, find the best values of the parameter `alpha`, and use the value of `min_df` you chose in the previous exercise set. Use the `cv_score` function above with the `log_likelihood` function for scoring.</p>\n",
    "</div>"
   ]
  },
  {
   "cell_type": "markdown",
   "metadata": {},
   "source": [
    "<div>\n",
    "<h3>Answer:</h3> \n",
    "  <p><b>  1.</b> log_likelihood return the log_probability estimates for each training.\n",
    "  <p><b>  2.</b> If a $\\alpha$ is too high, the model will be underfitting.\n",
    "  <p><b>  3.</b> Code is shown below.\n",
    "</div>"
   ]
  },
  {
   "cell_type": "code",
   "execution_count": null,
   "metadata": {},
   "outputs": [],
   "source": [
    "from sklearn.naive_bayes import MultinomialNB\n",
    "\n",
    "#the grid of parameters to search over\n",
    "alphas = [.1, 1, 5, 10, 50]\n",
    "best_min_df = 1 # YOUR TURN: put your value of min_df here.\n",
    "\n",
    "#Find the best value for alpha and min_df, and the best classifier\n",
    "best_alpha = None\n",
    "maxscore=-np.inf\n",
    "for alpha in alphas:        \n",
    "    vectorizer = CountVectorizer(min_df=best_min_df)       \n",
    "    Xthis, ythis = make_xy(critics, vectorizer)\n",
    "    Xtrainthis = Xthis[mask]\n",
    "    ytrainthis = ythis[mask]\n",
    "    score = cv_score(cl,Xthis,ythis,log_likelihood)\n",
    "    if score > maxscore:\n",
    "        maxscore = score\n",
    "        best_alpha = alpha\n",
    "print('Best alpha: \\n{}'.format(best_alpha))\n",
    "    # your turn"
   ]
  },
  {
   "cell_type": "code",
   "execution_count": 70,
   "metadata": {
    "scrolled": true
   },
   "outputs": [
    {
     "name": "stdout",
     "output_type": "stream",
     "text": [
      "alpha: 0.1\n"
     ]
    }
   ],
   "source": [
    "print(\"alpha: {}\".format(best_alpha))"
   ]
  },
  {
   "cell_type": "markdown",
   "metadata": {},
   "source": [
    "<div class=\"span5 alert alert-info\">\n",
    "<h3>Exercise Set V: Working with the Best Parameters</h3>\n",
    "\n",
    "<p><b>Exercise:</b> Using the best value of  `alpha` you just found, calculate the accuracy on the training and test sets. Is this classifier better? Why (not)?</p>\n",
    "\n",
    "</div>"
   ]
  },
  {
   "cell_type": "markdown",
   "metadata": {},
   "source": [
    "<div>\n",
    "<h3>Answer:</h3> \n",
    "    <p> This classifier is a little better, but it's still overfitting and not good enough. Because the training accuracy is good, but test accuracy is even worse. I think the data may need preprocessing, such as normalization.\n",
    "</div>"
   ]
  },
  {
   "cell_type": "code",
   "execution_count": 87,
   "metadata": {},
   "outputs": [
    {
     "data": {
      "text/plain": [
       "<10892x22417 sparse matrix of type '<class 'numpy.int64'>'\n",
       "\twith 190435 stored elements in Compressed Sparse Column format>"
      ]
     },
     "execution_count": 87,
     "metadata": {},
     "output_type": "execute_result"
    }
   ],
   "source": [
    "xtest"
   ]
  },
  {
   "cell_type": "code",
   "execution_count": 155,
   "metadata": {},
   "outputs": [
    {
     "name": "stdout",
     "output_type": "stream",
     "text": [
      "Accuracy on training data: 0.971728\n",
      "Accuracy on test data:     0.726221\n"
     ]
    }
   ],
   "source": [
    "vectorizer = CountVectorizer(min_df=best_min_df)\n",
    "X, y = make_xy(critics, vectorizer)\n",
    "xtrain=X[mask]\n",
    "ytrain=y[mask]\n",
    "xtest=X[~mask]\n",
    "ytest=y[~mask]\n",
    "\n",
    "clf = MultinomialNB(alpha=best_alpha).fit(xtrain, ytrain)\n",
    "\n",
    "#your turn. Print the accuracy on the test and training dataset\n",
    "training_accuracy = clf.score(xtrain, ytrain)\n",
    "test_accuracy = clf.score(xtest, ytest)\n",
    "\n",
    "print(\"Accuracy on training data: {:2f}\".format(training_accuracy))\n",
    "print(\"Accuracy on test data:     {:2f}\".format(test_accuracy))"
   ]
  },
  {
   "cell_type": "code",
   "execution_count": 72,
   "metadata": {
    "scrolled": true
   },
   "outputs": [
    {
     "name": "stdout",
     "output_type": "stream",
     "text": [
      "[[2745 1563]\n",
      " [1419 5165]]\n"
     ]
    }
   ],
   "source": [
    "from sklearn.metrics import confusion_matrix\n",
    "print(confusion_matrix(ytest, clf.predict(xtest)))"
   ]
  },
  {
   "cell_type": "markdown",
   "metadata": {},
   "source": [
    "## Interpretation"
   ]
  },
  {
   "cell_type": "markdown",
   "metadata": {},
   "source": [
    "### What are the strongly predictive features?\n",
    "\n",
    "We use a neat trick to identify strongly predictive features (i.e. words). \n",
    "\n",
    "* first, create a data set such that each row has exactly one feature. This is represented by the identity matrix.\n",
    "* use the trained classifier to make predictions on this matrix\n",
    "* sort the rows by predicted probabilities, and pick the top and bottom $K$ rows"
   ]
  },
  {
   "cell_type": "code",
   "execution_count": 74,
   "metadata": {},
   "outputs": [
    {
     "ename": "MemoryError",
     "evalue": "",
     "output_type": "error",
     "traceback": [
      "\u001b[1;31m---------------------------------------------------------------------------\u001b[0m",
      "\u001b[1;31mMemoryError\u001b[0m                               Traceback (most recent call last)",
      "\u001b[1;32m<ipython-input-74-f250ad018e2a>\u001b[0m in \u001b[0;36m<module>\u001b[1;34m()\u001b[0m\n\u001b[0;32m      1\u001b[0m \u001b[0mwords\u001b[0m \u001b[1;33m=\u001b[0m \u001b[0mnp\u001b[0m\u001b[1;33m.\u001b[0m\u001b[0marray\u001b[0m\u001b[1;33m(\u001b[0m\u001b[0mvectorizer\u001b[0m\u001b[1;33m.\u001b[0m\u001b[0mget_feature_names\u001b[0m\u001b[1;33m(\u001b[0m\u001b[1;33m)\u001b[0m\u001b[1;33m)\u001b[0m\u001b[1;33m\u001b[0m\u001b[0m\n\u001b[0;32m      2\u001b[0m \u001b[1;33m\u001b[0m\u001b[0m\n\u001b[1;32m----> 3\u001b[1;33m \u001b[0mx\u001b[0m \u001b[1;33m=\u001b[0m \u001b[0mnp\u001b[0m\u001b[1;33m.\u001b[0m\u001b[0meye\u001b[0m\u001b[1;33m(\u001b[0m\u001b[0mxtest\u001b[0m\u001b[1;33m.\u001b[0m\u001b[0mshape\u001b[0m\u001b[1;33m[\u001b[0m\u001b[1;36m1\u001b[0m\u001b[1;33m]\u001b[0m\u001b[1;33m)\u001b[0m\u001b[1;33m\u001b[0m\u001b[0m\n\u001b[0m\u001b[0;32m      4\u001b[0m \u001b[0mprobs\u001b[0m \u001b[1;33m=\u001b[0m \u001b[0mclf\u001b[0m\u001b[1;33m.\u001b[0m\u001b[0mpredict_log_proba\u001b[0m\u001b[1;33m(\u001b[0m\u001b[0mx\u001b[0m\u001b[1;33m)\u001b[0m\u001b[1;33m[\u001b[0m\u001b[1;33m:\u001b[0m\u001b[1;33m,\u001b[0m \u001b[1;36m0\u001b[0m\u001b[1;33m]\u001b[0m\u001b[1;33m\u001b[0m\u001b[0m\n\u001b[0;32m      5\u001b[0m \u001b[0mind\u001b[0m \u001b[1;33m=\u001b[0m \u001b[0mnp\u001b[0m\u001b[1;33m.\u001b[0m\u001b[0margsort\u001b[0m\u001b[1;33m(\u001b[0m\u001b[0mprobs\u001b[0m\u001b[1;33m)\u001b[0m\u001b[1;33m\u001b[0m\u001b[0m\n",
      "\u001b[1;32m~\\Anaconda3\\lib\\site-packages\\numpy\\lib\\twodim_base.py\u001b[0m in \u001b[0;36meye\u001b[1;34m(N, M, k, dtype)\u001b[0m\n\u001b[0;32m    178\u001b[0m     \u001b[1;32mif\u001b[0m \u001b[0mM\u001b[0m \u001b[1;32mis\u001b[0m \u001b[1;32mNone\u001b[0m\u001b[1;33m:\u001b[0m\u001b[1;33m\u001b[0m\u001b[0m\n\u001b[0;32m    179\u001b[0m         \u001b[0mM\u001b[0m \u001b[1;33m=\u001b[0m \u001b[0mN\u001b[0m\u001b[1;33m\u001b[0m\u001b[0m\n\u001b[1;32m--> 180\u001b[1;33m     \u001b[0mm\u001b[0m \u001b[1;33m=\u001b[0m \u001b[0mzeros\u001b[0m\u001b[1;33m(\u001b[0m\u001b[1;33m(\u001b[0m\u001b[0mN\u001b[0m\u001b[1;33m,\u001b[0m \u001b[0mM\u001b[0m\u001b[1;33m)\u001b[0m\u001b[1;33m,\u001b[0m \u001b[0mdtype\u001b[0m\u001b[1;33m=\u001b[0m\u001b[0mdtype\u001b[0m\u001b[1;33m)\u001b[0m\u001b[1;33m\u001b[0m\u001b[0m\n\u001b[0m\u001b[0;32m    181\u001b[0m     \u001b[1;32mif\u001b[0m \u001b[0mk\u001b[0m \u001b[1;33m>=\u001b[0m \u001b[0mM\u001b[0m\u001b[1;33m:\u001b[0m\u001b[1;33m\u001b[0m\u001b[0m\n\u001b[0;32m    182\u001b[0m         \u001b[1;32mreturn\u001b[0m \u001b[0mm\u001b[0m\u001b[1;33m\u001b[0m\u001b[0m\n",
      "\u001b[1;31mMemoryError\u001b[0m: "
     ]
    }
   ],
   "source": [
    "words = np.array(vectorizer.get_feature_names())\n",
    "\n",
    "x = np.eye(xtest.shape[1])\n",
    "probs = clf.predict_log_proba(x)[:, 0]\n",
    "ind = np.argsort(probs)\n",
    "\n",
    "good_words = words[ind[:10]]\n",
    "bad_words = words[ind[-10:]]\n",
    "\n",
    "good_prob = probs[ind[:10]]\n",
    "bad_prob = probs[ind[-10:]]\n",
    "\n",
    "print(\"Good words\\t     P(fresh | word)\")\n",
    "for w, p in zip(good_words, good_prob):\n",
    "    print(\"{:>20}\".format(w), \"{:.2f}\".format(1 - np.exp(p)))\n",
    "    \n",
    "print(\"Bad words\\t     P(fresh | word)\")\n",
    "for w, p in zip(bad_words, bad_prob):\n",
    "    print(\"{:>20}\".format(w), \"{:.2f}\".format(1 - np.exp(p)))"
   ]
  },
  {
   "cell_type": "markdown",
   "metadata": {},
   "source": [
    "<div class=\"span5 alert alert-info\">\n",
    "<h3>Exercise Set VI</h3>\n",
    "\n",
    "<p><b>Exercise:</b> Why does this method work? What does the probability for each row in the identity matrix represent</p>\n",
    "\n",
    "</div>"
   ]
  },
  {
   "cell_type": "markdown",
   "metadata": {},
   "source": [
    "<div>\n",
    "<h3>Answer:</h3> \n",
    "<p> The identity matrix means there's only one feature or one word in one document. So the strongly predicted features can be selected through the sorted probability of each document. And the probability for each row means the probablility that each word tends to be rotten or fresh.\n",
    "\n",
    "</div>"
   ]
  },
  {
   "cell_type": "markdown",
   "metadata": {},
   "source": [
    "The above exercise is an example of *feature selection*. There are many other feature selection methods. A list of feature selection methods available in `sklearn` is [here](http://scikit-learn.org/stable/modules/classes.html#module-sklearn.feature_selection). The most common feature selection technique for text mining is the chi-squared $\\left( \\chi^2 \\right)$ [method](http://nlp.stanford.edu/IR-book/html/htmledition/feature-selectionchi2-feature-selection-1.html)."
   ]
  },
  {
   "cell_type": "markdown",
   "metadata": {},
   "source": [
    "### Prediction Errors\n",
    "\n",
    "We can see mis-predictions as well."
   ]
  },
  {
   "cell_type": "code",
   "execution_count": 76,
   "metadata": {},
   "outputs": [
    {
     "name": "stdout",
     "output_type": "stream",
     "text": [
      "Mis-predicted Rotten quotes\n",
      "---------------------------\n",
      "As a depiction of a loving-turbulent relationship between a single mom (Susan Sarandon) and her rebellious teenage daughter (Natalie Portman), Wang's meller is nicely crafted but old-fashioned like Hollywood's weepies of yesteryear.\n",
      "\n",
      "The fact that so much money was lavished on such a thick-headed project represents the height of fiscal ineptitude, but this is the kind of roller-coaster ride for which eager audiences will gladly check their brains at the turnstiles, so go figure.\n",
      "\n",
      "With the exception of Miss Streep's performance, the pleasures of Out of Africa are all peripheral -- David Watkin's photography, the landscapes, the shots of animal life -all of which would fit neatly into a National Geographic layout.\n",
      "\n",
      "It survives today only as an unusually pure example of a typical 50s art-film strategy: the attempt to make the most modern and most popular of art forms acceptable to the intelligentsia by forcing it into an arcane, antique mold.\n",
      "\n",
      "Highly stylized fashion-wise but awkwardly unfocused in its plotlines, it aims for the western iconography of Sam Peckinpah and Sergio Leone but never gets past its own directorial hurdles.\n",
      "\n",
      "Mis-predicted Fresh quotes\n",
      "--------------------------\n",
      "Franklin relies too much on easy laugh-getters such as flatulence and crotch-kick gags, but at least he does provide his half-baked script with a fairly satisfying wrap-up.\n",
      "\n",
      "With its constant juxtaposition of blazing nighttime highwayscapes and the flat Nebraska skyline, Boys Don't Cry manages to perfectly evoke both a life spent in aimless forward motion and the stifling boredom Brandon was so desperate to escape.\n",
      "\n",
      "It's not remotely plausible, but with Willis' McClane leaping onto the tailfins of passing jet fighters and bringing down helicopters by launching police cars at them, there's enough stuff blowing up that action fans won't mind much.\n",
      "\n",
      "The gangland plot is flimsy (bad guy Peter Greene wears too much eyeliner), and the jokes are erratic, but it's a far better showcase for Carrey's comic-from-Uranus talent than Ace Ventura.\n",
      "\n",
      "The movie haunts you like a ballad whose tune you remember but whose words hang just beyond reach. And like listening to a ballad, we know the outcome of the events we're watching was foretold long ago, but we're helpless to do anything but surrender.\n",
      "\n"
     ]
    }
   ],
   "source": [
    "x, y = make_xy(critics, vectorizer)\n",
    "\n",
    "prob = clf.predict_proba(x)[:, 0]\n",
    "predict = clf.predict(x)\n",
    "\n",
    "bad_rotten = np.argsort(prob[y == 0])[:5]\n",
    "bad_fresh = np.argsort(prob[y == 1])[-5:]\n",
    "\n",
    "print(\"Mis-predicted Rotten quotes\")\n",
    "print('---------------------------')\n",
    "for row in bad_rotten:\n",
    "    print(critics[y == 0].quote.iloc[row])\n",
    "    print(\"\")\n",
    "\n",
    "print(\"Mis-predicted Fresh quotes\")\n",
    "print('--------------------------')\n",
    "for row in bad_fresh:\n",
    "    print(critics[y == 1].quote.iloc[row])\n",
    "    print(\"\")"
   ]
  },
  {
   "cell_type": "markdown",
   "metadata": {},
   "source": [
    "<div class=\"span5 alert alert-info\">\n",
    "<h3>Exercise Set VII: Predicting the Freshness for a New Review</h3>\n",
    "<br/>\n",
    "<div>\n",
    "<b>Exercise:</b>\n",
    "<ul>\n",
    "<li> Using your best trained classifier, predict the freshness of the following sentence: *'This movie is not remarkable, touching, or superb in any way'*\n",
    "<li> Is the result what you'd expect? Why (not)?\n",
    "</ul>\n",
    "</div>\n",
    "</div>"
   ]
  },
  {
   "cell_type": "markdown",
   "metadata": {},
   "source": [
    "<div>\n",
    "<h3>Answer:</h3> \n",
    "<p> The result is fresh, that is not what I expect. Because there's a 'not' before the positive adjective in the sentence.\n",
    "\n",
    "</div>"
   ]
  },
  {
   "cell_type": "code",
   "execution_count": 124,
   "metadata": {},
   "outputs": [
    {
     "name": "stdout",
     "output_type": "stream",
     "text": [
      "Predict result: [1]\n"
     ]
    }
   ],
   "source": [
    "#your turn\n",
    "doc = pd.Series(['This movie is not remarkable, touching, or superb in any way'])\n",
    "critics.quote.append(doc)\n",
    "vectorizer = CountVectorizer()\n",
    "X_new = vectorizer.fit_transform(critics.quote)[-1]\n",
    "X_new = X_new.tocsc()  # some versions of sklearn return COO format\n",
    "y_new = True\n",
    "prob = cl.predict_proba(X_new)[:, 0]\n",
    "predict = cl.predict(X_new)\n",
    "print(\"Predict result: {}\".format(predict))"
   ]
  },
  {
   "cell_type": "markdown",
   "metadata": {},
   "source": [
    "### Aside: TF-IDF Weighting for Term Importance\n",
    "\n",
    "TF-IDF stands for \n",
    "\n",
    "`Term-Frequency X Inverse Document Frequency`.\n",
    "\n",
    "In the standard `CountVectorizer` model above, we used just the term frequency in a document of words in our vocabulary. In TF-IDF, we weight this term frequency by the inverse of its popularity in all documents. For example, if the word \"movie\" showed up in all the documents, it would not have much predictive value. It could actually be considered a stopword. By weighing its counts by 1 divided by its overall frequency, we downweight it. We can then use this TF-IDF weighted features as inputs to any classifier. **TF-IDF is essentially a measure of term importance, and of how discriminative a word is in a corpus.** There are a variety of nuances involved in computing TF-IDF, mainly involving where to add the smoothing term to avoid division by 0, or log of 0 errors. The formula for TF-IDF in `scikit-learn` differs from that of most textbooks: \n",
    "\n",
    "$$\\mbox{TF-IDF}(t, d) = \\mbox{TF}(t, d)\\times \\mbox{IDF}(t) = n_{td} \\log{\\left( \\frac{\\vert D \\vert}{\\vert d : t \\in d \\vert} + 1 \\right)}$$\n",
    "\n",
    "where $n_{td}$ is the number of times term $t$ occurs in document $d$, $\\vert D \\vert$ is the number of documents, and $\\vert d : t \\in d \\vert$ is the number of documents that contain $t$"
   ]
  },
  {
   "cell_type": "code",
   "execution_count": 134,
   "metadata": {
    "collapsed": true
   },
   "outputs": [],
   "source": [
    "# http://scikit-learn.org/dev/modules/feature_extraction.html#text-feature-extraction\n",
    "# http://scikit-learn.org/dev/modules/classes.html#text-feature-extraction-ref\n",
    "from sklearn.feature_extraction.text import TfidfVectorizer\n",
    "tfidfvectorizer = TfidfVectorizer(min_df=1, stop_words='english')\n",
    "Xtfidf=tfidfvectorizer.fit_transform(critics.quote)\n",
    "ytfidf=(critics.fresh == 'fresh').values.astype(np.int)"
   ]
  },
  {
   "cell_type": "markdown",
   "metadata": {},
   "source": [
    "<div class=\"span5 alert alert-info\">\n",
    "<h3>Exercise Set VIII: Enrichment</h3>\n",
    "\n",
    "<p>\n",
    "There are several additional things we could try. Try some of these as exercises:\n",
    "<ol>\n",
    "<li> Build a Naive Bayes model where the features are n-grams instead of words. N-grams are phrases containing n words next to each other: a bigram contains 2 words, a trigram contains 3 words, and 6-gram contains 6 words. This is useful because \"not good\" and \"so good\" mean very different things. On the other hand, as n increases, the model does not scale well since the feature set becomes more sparse.\n",
    "<li> Try a model besides Naive Bayes, one that would allow for interactions between words -- for example, a Random Forest classifier.\n",
    "<li> Try adding supplemental features -- information about genre, director, cast, etc.\n",
    "<li> Use word2vec or [Latent Dirichlet Allocation](https://en.wikipedia.org/wiki/Latent_Dirichlet_allocation) to group words into topics and use those topics for prediction.\n",
    "<li> Use TF-IDF weighting instead of word counts.\n",
    "</ol>\n",
    "</p>\n",
    "\n",
    "<b>Exercise:</b> Try a few of these ideas to improve the model (or any other ideas of your own). Implement here and report on the result.\n",
    "</div>"
   ]
  },
  {
   "cell_type": "markdown",
   "metadata": {},
   "source": [
    "### Use TF-IDF weighting instead of word counts"
   ]
  },
  {
   "cell_type": "code",
   "execution_count": 172,
   "metadata": {},
   "outputs": [
    {
     "name": "stdout",
     "output_type": "stream",
     "text": [
      "Train accuracy is: 0.9496143958868895\n",
      "Test accuracy is: 0.7501927525057825\n"
     ]
    }
   ],
   "source": [
    "Xttrain,Xttest,yttrain,yttest = train_test_split(Xtfidf,ytfidf)\n",
    "clf = MultinomialNB(alpha=best_alpha).fit(Xttrain, yttrain)\n",
    "train_score = clf.score(Xttrain,yttrain)\n",
    "test_score = clf.score(Xttest,yttest)\n",
    "print(\"Train accuracy is: {}\".format(train_score))\n",
    "print(\"Test accuracy is: {}\".format(test_score))"
   ]
  },
  {
   "cell_type": "markdown",
   "metadata": {},
   "source": [
    "### Build a Naive Bayes model where the features are n-grams (1:3) instead of words"
   ]
  },
  {
   "cell_type": "code",
   "execution_count": 182,
   "metadata": {},
   "outputs": [
    {
     "name": "stdout",
     "output_type": "stream",
     "text": [
      "Train accuracy is: 0.9979434447300771\n",
      "Test accuracy is: 0.7625289128758674\n"
     ]
    }
   ],
   "source": [
    "countvectorizer = CountVectorizer(min_df=1,ngram_range=(1,3))\n",
    "X_ngram = countvectorizer.fit_transform(critics.quote)\n",
    "y_ngram = (critics.fresh == 'fresh').values.astype(np.int)\n",
    "Xntrain,Xntest,yntrain,yntest = train_test_split(X_ngram,y_ngram)\n",
    "clf = MultinomialNB(alpha=1).fit(Xntrain, yntrain)\n",
    "train_ngram_score = clf.score(Xntrain,yntrain)\n",
    "test_ngram_score = clf.score(Xntest,yntest)\n",
    "print(\"Train accuracy is: {}\".format(train_ngram_score))\n",
    "print(\"Test accuracy is: {}\".format(test_ngram_score))"
   ]
  }
 ],
 "metadata": {
  "kernelspec": {
   "display_name": "Python [conda root]",
   "language": "python",
   "name": "conda-root-py"
  },
  "language_info": {
   "codemirror_mode": {
    "name": "ipython",
    "version": 3
   },
   "file_extension": ".py",
   "mimetype": "text/x-python",
   "name": "python",
   "nbconvert_exporter": "python",
   "pygments_lexer": "ipython3",
   "version": "3.6.2"
  }
 },
 "nbformat": 4,
 "nbformat_minor": 1
}
